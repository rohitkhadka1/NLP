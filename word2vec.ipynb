{
  "nbformat": 4,
  "nbformat_minor": 0,
  "metadata": {
    "colab": {
      "provenance": [],
      "include_colab_link": true
    },
    "kernelspec": {
      "name": "python3",
      "display_name": "Python 3"
    },
    "language_info": {
      "name": "python"
    },
    "accelerator": "GPU"
  },
  "cells": [
    {
      "cell_type": "markdown",
      "metadata": {
        "id": "view-in-github",
        "colab_type": "text"
      },
      "source": [
        "<a href=\"https://colab.research.google.com/github/rohitkhadka1/NLP/blob/main/word2vec.ipynb\" target=\"_parent\"><img src=\"https://colab.research.google.com/assets/colab-badge.svg\" alt=\"Open In Colab\"/></a>"
      ]
    },
    {
      "cell_type": "code",
      "source": [
        "import matplotlib.pyplot as plt\n",
        "import pandas as pd\n",
        "import os"
      ],
      "metadata": {
        "id": "aQH0x-7cJvKQ",
        "colab": {
          "base_uri": "https://localhost:8080/",
          "height": 235
        },
        "outputId": "8094078e-e012-4a7e-a91f-b202ee4625e7"
      },
      "execution_count": null,
      "outputs": [
        {
          "output_type": "error",
          "ename": "ValueError",
          "evalue": "numpy.dtype size changed, may indicate binary incompatibility. Expected 96 from C header, got 88 from PyObject",
          "traceback": [
            "\u001b[0;31m---------------------------------------------------------------------------\u001b[0m",
            "\u001b[0;31mValueError\u001b[0m                                Traceback (most recent call last)",
            "\u001b[0;32m<ipython-input-2-cf7be16fdf48>\u001b[0m in \u001b[0;36m<cell line: 0>\u001b[0;34m()\u001b[0m\n\u001b[1;32m      1\u001b[0m \u001b[0;32mimport\u001b[0m \u001b[0mmatplotlib\u001b[0m\u001b[0;34m.\u001b[0m\u001b[0mpyplot\u001b[0m \u001b[0;32mas\u001b[0m \u001b[0mplt\u001b[0m\u001b[0;34m\u001b[0m\u001b[0;34m\u001b[0m\u001b[0m\n\u001b[0;32m----> 2\u001b[0;31m \u001b[0;32mimport\u001b[0m \u001b[0mpandas\u001b[0m \u001b[0;32mas\u001b[0m \u001b[0mpd\u001b[0m\u001b[0;34m\u001b[0m\u001b[0;34m\u001b[0m\u001b[0m\n\u001b[0m\u001b[1;32m      3\u001b[0m \u001b[0;32mimport\u001b[0m \u001b[0mos\u001b[0m\u001b[0;34m\u001b[0m\u001b[0;34m\u001b[0m\u001b[0m\n",
            "\u001b[0;32m/usr/local/lib/python3.11/dist-packages/pandas/__init__.py\u001b[0m in \u001b[0;36m<module>\u001b[0;34m\u001b[0m\n\u001b[1;32m     20\u001b[0m \u001b[0;34m\u001b[0m\u001b[0m\n\u001b[1;32m     21\u001b[0m \u001b[0;31m# numpy compat\u001b[0m\u001b[0;34m\u001b[0m\u001b[0;34m\u001b[0m\u001b[0m\n\u001b[0;32m---> 22\u001b[0;31m \u001b[0;32mfrom\u001b[0m \u001b[0mpandas\u001b[0m\u001b[0;34m.\u001b[0m\u001b[0mcompat\u001b[0m \u001b[0;32mimport\u001b[0m \u001b[0mis_numpy_dev\u001b[0m \u001b[0;32mas\u001b[0m \u001b[0m_is_numpy_dev\u001b[0m  \u001b[0;31m# pyright: ignore # noqa:F401\u001b[0m\u001b[0;34m\u001b[0m\u001b[0;34m\u001b[0m\u001b[0m\n\u001b[0m\u001b[1;32m     23\u001b[0m \u001b[0;34m\u001b[0m\u001b[0m\n\u001b[1;32m     24\u001b[0m \u001b[0;32mtry\u001b[0m\u001b[0;34m:\u001b[0m\u001b[0;34m\u001b[0m\u001b[0;34m\u001b[0m\u001b[0m\n",
            "\u001b[0;32m/usr/local/lib/python3.11/dist-packages/pandas/compat/__init__.py\u001b[0m in \u001b[0;36m<module>\u001b[0;34m\u001b[0m\n\u001b[1;32m     16\u001b[0m \u001b[0;34m\u001b[0m\u001b[0m\n\u001b[1;32m     17\u001b[0m \u001b[0;32mfrom\u001b[0m \u001b[0mpandas\u001b[0m\u001b[0;34m.\u001b[0m\u001b[0m_typing\u001b[0m \u001b[0;32mimport\u001b[0m \u001b[0mF\u001b[0m\u001b[0;34m\u001b[0m\u001b[0;34m\u001b[0m\u001b[0m\n\u001b[0;32m---> 18\u001b[0;31m from pandas.compat.numpy import (\n\u001b[0m\u001b[1;32m     19\u001b[0m     \u001b[0mis_numpy_dev\u001b[0m\u001b[0;34m,\u001b[0m\u001b[0;34m\u001b[0m\u001b[0;34m\u001b[0m\u001b[0m\n\u001b[1;32m     20\u001b[0m     \u001b[0mnp_version_under1p21\u001b[0m\u001b[0;34m,\u001b[0m\u001b[0;34m\u001b[0m\u001b[0;34m\u001b[0m\u001b[0m\n",
            "\u001b[0;32m/usr/local/lib/python3.11/dist-packages/pandas/compat/numpy/__init__.py\u001b[0m in \u001b[0;36m<module>\u001b[0;34m\u001b[0m\n\u001b[1;32m      2\u001b[0m \u001b[0;32mimport\u001b[0m \u001b[0mnumpy\u001b[0m \u001b[0;32mas\u001b[0m \u001b[0mnp\u001b[0m\u001b[0;34m\u001b[0m\u001b[0;34m\u001b[0m\u001b[0m\n\u001b[1;32m      3\u001b[0m \u001b[0;34m\u001b[0m\u001b[0m\n\u001b[0;32m----> 4\u001b[0;31m \u001b[0;32mfrom\u001b[0m \u001b[0mpandas\u001b[0m\u001b[0;34m.\u001b[0m\u001b[0mutil\u001b[0m\u001b[0;34m.\u001b[0m\u001b[0mversion\u001b[0m \u001b[0;32mimport\u001b[0m \u001b[0mVersion\u001b[0m\u001b[0;34m\u001b[0m\u001b[0;34m\u001b[0m\u001b[0m\n\u001b[0m\u001b[1;32m      5\u001b[0m \u001b[0;34m\u001b[0m\u001b[0m\n\u001b[1;32m      6\u001b[0m \u001b[0;31m# numpy versioning\u001b[0m\u001b[0;34m\u001b[0m\u001b[0;34m\u001b[0m\u001b[0m\n",
            "\u001b[0;32m/usr/local/lib/python3.11/dist-packages/pandas/util/__init__.py\u001b[0m in \u001b[0;36m<module>\u001b[0;34m\u001b[0m\n\u001b[1;32m      1\u001b[0m \u001b[0;31m# pyright: reportUnusedImport = false\u001b[0m\u001b[0;34m\u001b[0m\u001b[0;34m\u001b[0m\u001b[0m\n\u001b[0;32m----> 2\u001b[0;31m from pandas.util._decorators import (  # noqa:F401\n\u001b[0m\u001b[1;32m      3\u001b[0m     \u001b[0mAppender\u001b[0m\u001b[0;34m,\u001b[0m\u001b[0;34m\u001b[0m\u001b[0;34m\u001b[0m\u001b[0m\n\u001b[1;32m      4\u001b[0m     \u001b[0mSubstitution\u001b[0m\u001b[0;34m,\u001b[0m\u001b[0;34m\u001b[0m\u001b[0;34m\u001b[0m\u001b[0m\n\u001b[1;32m      5\u001b[0m     \u001b[0mcache_readonly\u001b[0m\u001b[0;34m,\u001b[0m\u001b[0;34m\u001b[0m\u001b[0;34m\u001b[0m\u001b[0m\n",
            "\u001b[0;32m/usr/local/lib/python3.11/dist-packages/pandas/util/_decorators.py\u001b[0m in \u001b[0;36m<module>\u001b[0;34m\u001b[0m\n\u001b[1;32m     12\u001b[0m \u001b[0;32mimport\u001b[0m \u001b[0mwarnings\u001b[0m\u001b[0;34m\u001b[0m\u001b[0;34m\u001b[0m\u001b[0m\n\u001b[1;32m     13\u001b[0m \u001b[0;34m\u001b[0m\u001b[0m\n\u001b[0;32m---> 14\u001b[0;31m \u001b[0;32mfrom\u001b[0m \u001b[0mpandas\u001b[0m\u001b[0;34m.\u001b[0m\u001b[0m_libs\u001b[0m\u001b[0;34m.\u001b[0m\u001b[0mproperties\u001b[0m \u001b[0;32mimport\u001b[0m \u001b[0mcache_readonly\u001b[0m\u001b[0;34m\u001b[0m\u001b[0;34m\u001b[0m\u001b[0m\n\u001b[0m\u001b[1;32m     15\u001b[0m from pandas._typing import (\n\u001b[1;32m     16\u001b[0m     \u001b[0mF\u001b[0m\u001b[0;34m,\u001b[0m\u001b[0;34m\u001b[0m\u001b[0;34m\u001b[0m\u001b[0m\n",
            "\u001b[0;32m/usr/local/lib/python3.11/dist-packages/pandas/_libs/__init__.py\u001b[0m in \u001b[0;36m<module>\u001b[0;34m\u001b[0m\n\u001b[1;32m     11\u001b[0m \u001b[0;34m\u001b[0m\u001b[0m\n\u001b[1;32m     12\u001b[0m \u001b[0;34m\u001b[0m\u001b[0m\n\u001b[0;32m---> 13\u001b[0;31m \u001b[0;32mfrom\u001b[0m \u001b[0mpandas\u001b[0m\u001b[0;34m.\u001b[0m\u001b[0m_libs\u001b[0m\u001b[0;34m.\u001b[0m\u001b[0minterval\u001b[0m \u001b[0;32mimport\u001b[0m \u001b[0mInterval\u001b[0m\u001b[0;34m\u001b[0m\u001b[0;34m\u001b[0m\u001b[0m\n\u001b[0m\u001b[1;32m     14\u001b[0m from pandas._libs.tslibs import (\n\u001b[1;32m     15\u001b[0m     \u001b[0mNaT\u001b[0m\u001b[0;34m,\u001b[0m\u001b[0;34m\u001b[0m\u001b[0;34m\u001b[0m\u001b[0m\n",
            "\u001b[0;32m/usr/local/lib/python3.11/dist-packages/pandas/_libs/interval.pyx\u001b[0m in \u001b[0;36minit pandas._libs.interval\u001b[0;34m()\u001b[0m\n",
            "\u001b[0;31mValueError\u001b[0m: numpy.dtype size changed, may indicate binary incompatibility. Expected 96 from C header, got 88 from PyObject"
          ]
        }
      ]
    },
    {
      "cell_type": "code",
      "source": [
        "import kagglehub\n",
        "\n",
        "# Download latest version\n",
        "path = kagglehub.dataset_download(\"datatattle/covid-19-nlp-text-classification\")\n",
        "\n",
        "print(\"Path to dataset files:\", path)"
      ],
      "metadata": {
        "colab": {
          "base_uri": "https://localhost:8080/"
        },
        "id": "KMLtiVBgl8P3",
        "outputId": "0e6026f7-9170-429f-a154-26b968240eff"
      },
      "execution_count": null,
      "outputs": [
        {
          "output_type": "stream",
          "name": "stdout",
          "text": [
            "Path to dataset files: /kaggle/input/covid-19-nlp-text-classification\n"
          ]
        }
      ]
    },
    {
      "cell_type": "markdown",
      "source": [
        "## Importing the Dataset + Text Preprocessing"
      ],
      "metadata": {
        "id": "uq0ZOCg2Job0"
      }
    },
    {
      "cell_type": "code",
      "source": [
        "!pip install pandas==1.5.3 --force-reinstall --no-cache-dir"
      ],
      "metadata": {
        "colab": {
          "base_uri": "https://localhost:8080/",
          "height": 1000
        },
        "id": "JS0TTlbzrQ70",
        "outputId": "59d839d0-ec21-45fe-8d67-c34bccc44a32"
      },
      "execution_count": null,
      "outputs": [
        {
          "output_type": "stream",
          "name": "stdout",
          "text": [
            "Collecting pandas==1.5.3\n",
            "  Downloading pandas-1.5.3-cp311-cp311-manylinux_2_17_x86_64.manylinux2014_x86_64.whl.metadata (11 kB)\n",
            "Collecting python-dateutil>=2.8.1 (from pandas==1.5.3)\n",
            "  Downloading python_dateutil-2.9.0.post0-py2.py3-none-any.whl.metadata (8.4 kB)\n",
            "Collecting pytz>=2020.1 (from pandas==1.5.3)\n",
            "  Downloading pytz-2025.2-py2.py3-none-any.whl.metadata (22 kB)\n",
            "Collecting numpy>=1.21.0 (from pandas==1.5.3)\n",
            "  Downloading numpy-2.2.4-cp311-cp311-manylinux_2_17_x86_64.manylinux2014_x86_64.whl.metadata (62 kB)\n",
            "\u001b[2K     \u001b[90m━━━━━━━━━━━━━━━━━━━━━━━━━━━━━━━━━━━━━━━\u001b[0m \u001b[32m62.0/62.0 kB\u001b[0m \u001b[31m125.0 MB/s\u001b[0m eta \u001b[36m0:00:00\u001b[0m\n",
            "\u001b[?25hCollecting six>=1.5 (from python-dateutil>=2.8.1->pandas==1.5.3)\n",
            "  Downloading six-1.17.0-py2.py3-none-any.whl.metadata (1.7 kB)\n",
            "Downloading pandas-1.5.3-cp311-cp311-manylinux_2_17_x86_64.manylinux2014_x86_64.whl (12.0 MB)\n",
            "\u001b[2K   \u001b[90m━━━━━━━━━━━━━━━━━━━━━━━━━━━━━━━━━━━━━━━━\u001b[0m \u001b[32m12.0/12.0 MB\u001b[0m \u001b[31m279.5 MB/s\u001b[0m eta \u001b[36m0:00:00\u001b[0m\n",
            "\u001b[?25hDownloading numpy-2.2.4-cp311-cp311-manylinux_2_17_x86_64.manylinux2014_x86_64.whl (16.4 MB)\n",
            "\u001b[2K   \u001b[90m━━━━━━━━━━━━━━━━━━━━━━━━━━━━━━━━━━━━━━━━\u001b[0m \u001b[32m16.4/16.4 MB\u001b[0m \u001b[31m214.3 MB/s\u001b[0m eta \u001b[36m0:00:00\u001b[0m\n",
            "\u001b[?25hDownloading python_dateutil-2.9.0.post0-py2.py3-none-any.whl (229 kB)\n",
            "\u001b[2K   \u001b[90m━━━━━━━━━━━━━━━━━━━━━━━━━━━━━━━━━━━━━━━\u001b[0m \u001b[32m229.9/229.9 kB\u001b[0m \u001b[31m336.3 MB/s\u001b[0m eta \u001b[36m0:00:00\u001b[0m\n",
            "\u001b[?25hDownloading pytz-2025.2-py2.py3-none-any.whl (509 kB)\n",
            "\u001b[2K   \u001b[90m━━━━━━━━━━━━━━━━━━━━━━━━━━━━━━━━━━━━━━━\u001b[0m \u001b[32m509.2/509.2 kB\u001b[0m \u001b[31m371.9 MB/s\u001b[0m eta \u001b[36m0:00:00\u001b[0m\n",
            "\u001b[?25hDownloading six-1.17.0-py2.py3-none-any.whl (11 kB)\n",
            "Installing collected packages: pytz, six, numpy, python-dateutil, pandas\n",
            "  Attempting uninstall: pytz\n",
            "    Found existing installation: pytz 2025.2\n",
            "    Uninstalling pytz-2025.2:\n",
            "      Successfully uninstalled pytz-2025.2\n",
            "  Attempting uninstall: six\n",
            "    Found existing installation: six 1.17.0\n",
            "    Uninstalling six-1.17.0:\n",
            "      Successfully uninstalled six-1.17.0\n",
            "  Attempting uninstall: numpy\n",
            "    Found existing installation: numpy 2.2.4\n",
            "    Uninstalling numpy-2.2.4:\n",
            "      Successfully uninstalled numpy-2.2.4\n",
            "  Attempting uninstall: python-dateutil\n",
            "    Found existing installation: python-dateutil 2.8.2\n",
            "    Uninstalling python-dateutil-2.8.2:\n",
            "      Successfully uninstalled python-dateutil-2.8.2\n",
            "  Attempting uninstall: pandas\n",
            "    Found existing installation: pandas 2.2.2\n",
            "    Uninstalling pandas-2.2.2:\n",
            "      Successfully uninstalled pandas-2.2.2\n",
            "\u001b[31mERROR: pip's dependency resolver does not currently take into account all the packages that are installed. This behaviour is the source of the following dependency conflicts.\n",
            "gensim 4.3.3 requires numpy<2.0,>=1.18.5, but you have numpy 2.2.4 which is incompatible.\n",
            "gensim 4.3.3 requires scipy<1.14.0,>=1.7.0, but you have scipy 1.15.2 which is incompatible.\n",
            "google-colab 1.0.0 requires pandas==2.2.2, but you have pandas 1.5.3 which is incompatible.\n",
            "tensorflow 2.18.0 requires numpy<2.1.0,>=1.26.0, but you have numpy 2.2.4 which is incompatible.\n",
            "numba 0.60.0 requires numpy<2.1,>=1.22, but you have numpy 2.2.4 which is incompatible.\n",
            "dask-cudf-cu12 25.2.2 requires pandas<2.2.4dev0,>=2.0, but you have pandas 1.5.3 which is incompatible.\n",
            "dask-expr 1.1.21 requires pandas>=2, but you have pandas 1.5.3 which is incompatible.\n",
            "xarray 2025.1.2 requires pandas>=2.1, but you have pandas 1.5.3 which is incompatible.\n",
            "cudf-cu12 25.2.1 requires pandas<2.2.4dev0,>=2.0, but you have pandas 1.5.3 which is incompatible.\n",
            "mizani 0.13.2 requires pandas>=2.2.0, but you have pandas 1.5.3 which is incompatible.\n",
            "plotnine 0.14.5 requires pandas>=2.2.0, but you have pandas 1.5.3 which is incompatible.\u001b[0m\u001b[31m\n",
            "\u001b[0mSuccessfully installed numpy-2.2.4 pandas-1.5.3 python-dateutil-2.9.0.post0 pytz-2025.2 six-1.17.0\n"
          ]
        },
        {
          "output_type": "display_data",
          "data": {
            "application/vnd.colab-display-data+json": {
              "pip_warning": {
                "packages": [
                  "dateutil",
                  "pandas",
                  "pytz",
                  "six"
                ]
              },
              "id": "3350b4585ffc4e94b07a5e6080cf944b"
            }
          },
          "metadata": {}
        }
      ]
    },
    {
      "cell_type": "code",
      "source": [
        "predata = os.path.join(path, 'Corona_NLP_train.csv')\n",
        "dataset = pd.read_csv(predata, encoding='latin1', dtype = str)"
      ],
      "metadata": {
        "id": "P4vikPdgJtv0",
        "colab": {
          "base_uri": "https://localhost:8080/",
          "height": 339
        },
        "outputId": "1943a466-6f58-4969-8d32-6d0a76d0fcf8"
      },
      "execution_count": null,
      "outputs": [
        {
          "output_type": "error",
          "ename": "TypeError",
          "evalue": "Cannot convert numpy.ndarray to numpy.ndarray",
          "traceback": [
            "\u001b[0;31m---------------------------------------------------------------------------\u001b[0m",
            "\u001b[0;31mTypeError\u001b[0m                                 Traceback (most recent call last)",
            "\u001b[0;32m<ipython-input-10-3cd08cdfe96f>\u001b[0m in \u001b[0;36m<cell line: 0>\u001b[0;34m()\u001b[0m\n\u001b[1;32m      1\u001b[0m \u001b[0mpredata\u001b[0m \u001b[0;34m=\u001b[0m \u001b[0mos\u001b[0m\u001b[0;34m.\u001b[0m\u001b[0mpath\u001b[0m\u001b[0;34m.\u001b[0m\u001b[0mjoin\u001b[0m\u001b[0;34m(\u001b[0m\u001b[0mpath\u001b[0m\u001b[0;34m,\u001b[0m \u001b[0;34m'Corona_NLP_train.csv'\u001b[0m\u001b[0;34m)\u001b[0m\u001b[0;34m\u001b[0m\u001b[0;34m\u001b[0m\u001b[0m\n\u001b[0;32m----> 2\u001b[0;31m \u001b[0mdataset\u001b[0m \u001b[0;34m=\u001b[0m \u001b[0mpd\u001b[0m\u001b[0;34m.\u001b[0m\u001b[0mread_csv\u001b[0m\u001b[0;34m(\u001b[0m\u001b[0mpredata\u001b[0m\u001b[0;34m,\u001b[0m \u001b[0mencoding\u001b[0m\u001b[0;34m=\u001b[0m\u001b[0;34m'latin1'\u001b[0m\u001b[0;34m,\u001b[0m \u001b[0mdtype\u001b[0m \u001b[0;34m=\u001b[0m \u001b[0mstr\u001b[0m\u001b[0;34m)\u001b[0m\u001b[0;34m\u001b[0m\u001b[0;34m\u001b[0m\u001b[0m\n\u001b[0m",
            "\u001b[0;32m/usr/local/lib/python3.11/dist-packages/pandas/io/parsers/readers.py\u001b[0m in \u001b[0;36mread_csv\u001b[0;34m(filepath_or_buffer, sep, delimiter, header, names, index_col, usecols, dtype, engine, converters, true_values, false_values, skipinitialspace, skiprows, skipfooter, nrows, na_values, keep_default_na, na_filter, verbose, skip_blank_lines, parse_dates, infer_datetime_format, keep_date_col, date_parser, date_format, dayfirst, cache_dates, iterator, chunksize, compression, thousands, decimal, lineterminator, quotechar, quoting, doublequote, escapechar, comment, encoding, encoding_errors, dialect, on_bad_lines, delim_whitespace, low_memory, memory_map, float_precision, storage_options, dtype_backend)\u001b[0m\n\u001b[1;32m   1024\u001b[0m     \u001b[0mkwds\u001b[0m\u001b[0;34m.\u001b[0m\u001b[0mupdate\u001b[0m\u001b[0;34m(\u001b[0m\u001b[0mkwds_defaults\u001b[0m\u001b[0;34m)\u001b[0m\u001b[0;34m\u001b[0m\u001b[0;34m\u001b[0m\u001b[0m\n\u001b[1;32m   1025\u001b[0m \u001b[0;34m\u001b[0m\u001b[0m\n\u001b[0;32m-> 1026\u001b[0;31m     \u001b[0;32mreturn\u001b[0m \u001b[0m_read\u001b[0m\u001b[0;34m(\u001b[0m\u001b[0mfilepath_or_buffer\u001b[0m\u001b[0;34m,\u001b[0m \u001b[0mkwds\u001b[0m\u001b[0;34m)\u001b[0m\u001b[0;34m\u001b[0m\u001b[0;34m\u001b[0m\u001b[0m\n\u001b[0m\u001b[1;32m   1027\u001b[0m \u001b[0;34m\u001b[0m\u001b[0m\n\u001b[1;32m   1028\u001b[0m \u001b[0;34m\u001b[0m\u001b[0m\n",
            "\u001b[0;32m/usr/local/lib/python3.11/dist-packages/pandas/io/parsers/readers.py\u001b[0m in \u001b[0;36m_read\u001b[0;34m(filepath_or_buffer, kwds)\u001b[0m\n\u001b[1;32m    624\u001b[0m \u001b[0;34m\u001b[0m\u001b[0m\n\u001b[1;32m    625\u001b[0m     \u001b[0;32mwith\u001b[0m \u001b[0mparser\u001b[0m\u001b[0;34m:\u001b[0m\u001b[0;34m\u001b[0m\u001b[0;34m\u001b[0m\u001b[0m\n\u001b[0;32m--> 626\u001b[0;31m         \u001b[0;32mreturn\u001b[0m \u001b[0mparser\u001b[0m\u001b[0;34m.\u001b[0m\u001b[0mread\u001b[0m\u001b[0;34m(\u001b[0m\u001b[0mnrows\u001b[0m\u001b[0;34m)\u001b[0m\u001b[0;34m\u001b[0m\u001b[0;34m\u001b[0m\u001b[0m\n\u001b[0m\u001b[1;32m    627\u001b[0m \u001b[0;34m\u001b[0m\u001b[0m\n\u001b[1;32m    628\u001b[0m \u001b[0;34m\u001b[0m\u001b[0m\n",
            "\u001b[0;32m/usr/local/lib/python3.11/dist-packages/pandas/io/parsers/readers.py\u001b[0m in \u001b[0;36mread\u001b[0;34m(self, nrows)\u001b[0m\n\u001b[1;32m   1966\u001b[0m                 \u001b[0mnew_col_dict\u001b[0m \u001b[0;34m=\u001b[0m \u001b[0mcol_dict\u001b[0m\u001b[0;34m\u001b[0m\u001b[0;34m\u001b[0m\u001b[0m\n\u001b[1;32m   1967\u001b[0m \u001b[0;34m\u001b[0m\u001b[0m\n\u001b[0;32m-> 1968\u001b[0;31m             df = DataFrame(\n\u001b[0m\u001b[1;32m   1969\u001b[0m                 \u001b[0mnew_col_dict\u001b[0m\u001b[0;34m,\u001b[0m\u001b[0;34m\u001b[0m\u001b[0;34m\u001b[0m\u001b[0m\n\u001b[1;32m   1970\u001b[0m                 \u001b[0mcolumns\u001b[0m\u001b[0;34m=\u001b[0m\u001b[0mcolumns\u001b[0m\u001b[0;34m,\u001b[0m\u001b[0;34m\u001b[0m\u001b[0;34m\u001b[0m\u001b[0m\n",
            "\u001b[0;32m/usr/local/lib/python3.11/dist-packages/pandas/core/frame.py\u001b[0m in \u001b[0;36m__init__\u001b[0;34m(self, data, index, columns, dtype, copy)\u001b[0m\n\u001b[1;32m    776\u001b[0m         \u001b[0;32melif\u001b[0m \u001b[0misinstance\u001b[0m\u001b[0;34m(\u001b[0m\u001b[0mdata\u001b[0m\u001b[0;34m,\u001b[0m \u001b[0mdict\u001b[0m\u001b[0;34m)\u001b[0m\u001b[0;34m:\u001b[0m\u001b[0;34m\u001b[0m\u001b[0;34m\u001b[0m\u001b[0m\n\u001b[1;32m    777\u001b[0m             \u001b[0;31m# GH#38939 de facto copy defaults to False only in non-dict cases\u001b[0m\u001b[0;34m\u001b[0m\u001b[0;34m\u001b[0m\u001b[0m\n\u001b[0;32m--> 778\u001b[0;31m             \u001b[0mmgr\u001b[0m \u001b[0;34m=\u001b[0m \u001b[0mdict_to_mgr\u001b[0m\u001b[0;34m(\u001b[0m\u001b[0mdata\u001b[0m\u001b[0;34m,\u001b[0m \u001b[0mindex\u001b[0m\u001b[0;34m,\u001b[0m \u001b[0mcolumns\u001b[0m\u001b[0;34m,\u001b[0m \u001b[0mdtype\u001b[0m\u001b[0;34m=\u001b[0m\u001b[0mdtype\u001b[0m\u001b[0;34m,\u001b[0m \u001b[0mcopy\u001b[0m\u001b[0;34m=\u001b[0m\u001b[0mcopy\u001b[0m\u001b[0;34m,\u001b[0m \u001b[0mtyp\u001b[0m\u001b[0;34m=\u001b[0m\u001b[0mmanager\u001b[0m\u001b[0;34m)\u001b[0m\u001b[0;34m\u001b[0m\u001b[0;34m\u001b[0m\u001b[0m\n\u001b[0m\u001b[1;32m    779\u001b[0m         \u001b[0;32melif\u001b[0m \u001b[0misinstance\u001b[0m\u001b[0;34m(\u001b[0m\u001b[0mdata\u001b[0m\u001b[0;34m,\u001b[0m \u001b[0mma\u001b[0m\u001b[0;34m.\u001b[0m\u001b[0mMaskedArray\u001b[0m\u001b[0;34m)\u001b[0m\u001b[0;34m:\u001b[0m\u001b[0;34m\u001b[0m\u001b[0;34m\u001b[0m\u001b[0m\n\u001b[1;32m    780\u001b[0m             \u001b[0;32mfrom\u001b[0m \u001b[0mnumpy\u001b[0m\u001b[0;34m.\u001b[0m\u001b[0mma\u001b[0m \u001b[0;32mimport\u001b[0m \u001b[0mmrecords\u001b[0m\u001b[0;34m\u001b[0m\u001b[0;34m\u001b[0m\u001b[0m\n",
            "\u001b[0;32m/usr/local/lib/python3.11/dist-packages/pandas/core/internals/construction.py\u001b[0m in \u001b[0;36mdict_to_mgr\u001b[0;34m(data, index, columns, dtype, typ, copy)\u001b[0m\n\u001b[1;32m    441\u001b[0m         \u001b[0;32mfrom\u001b[0m \u001b[0mpandas\u001b[0m\u001b[0;34m.\u001b[0m\u001b[0mcore\u001b[0m\u001b[0;34m.\u001b[0m\u001b[0mseries\u001b[0m \u001b[0;32mimport\u001b[0m \u001b[0mSeries\u001b[0m\u001b[0;34m\u001b[0m\u001b[0;34m\u001b[0m\u001b[0m\n\u001b[1;32m    442\u001b[0m \u001b[0;34m\u001b[0m\u001b[0m\n\u001b[0;32m--> 443\u001b[0;31m         \u001b[0marrays\u001b[0m \u001b[0;34m=\u001b[0m \u001b[0mSeries\u001b[0m\u001b[0;34m(\u001b[0m\u001b[0mdata\u001b[0m\u001b[0;34m,\u001b[0m \u001b[0mindex\u001b[0m\u001b[0;34m=\u001b[0m\u001b[0mcolumns\u001b[0m\u001b[0;34m,\u001b[0m \u001b[0mdtype\u001b[0m\u001b[0;34m=\u001b[0m\u001b[0mobject\u001b[0m\u001b[0;34m)\u001b[0m\u001b[0;34m\u001b[0m\u001b[0;34m\u001b[0m\u001b[0m\n\u001b[0m\u001b[1;32m    444\u001b[0m         \u001b[0mmissing\u001b[0m \u001b[0;34m=\u001b[0m \u001b[0marrays\u001b[0m\u001b[0;34m.\u001b[0m\u001b[0misna\u001b[0m\u001b[0;34m(\u001b[0m\u001b[0;34m)\u001b[0m\u001b[0;34m\u001b[0m\u001b[0;34m\u001b[0m\u001b[0m\n\u001b[1;32m    445\u001b[0m         \u001b[0;32mif\u001b[0m \u001b[0mindex\u001b[0m \u001b[0;32mis\u001b[0m \u001b[0;32mNone\u001b[0m\u001b[0;34m:\u001b[0m\u001b[0;34m\u001b[0m\u001b[0;34m\u001b[0m\u001b[0m\n",
            "\u001b[0;32m/usr/local/lib/python3.11/dist-packages/pandas/core/series.py\u001b[0m in \u001b[0;36m__init__\u001b[0;34m(self, data, index, dtype, name, copy, fastpath)\u001b[0m\n\u001b[1;32m    488\u001b[0m \u001b[0;34m\u001b[0m\u001b[0m\n\u001b[1;32m    489\u001b[0m         \u001b[0;32mif\u001b[0m \u001b[0mindex\u001b[0m \u001b[0;32mis\u001b[0m \u001b[0;32mnot\u001b[0m \u001b[0;32mNone\u001b[0m\u001b[0;34m:\u001b[0m\u001b[0;34m\u001b[0m\u001b[0;34m\u001b[0m\u001b[0m\n\u001b[0;32m--> 490\u001b[0;31m             \u001b[0mindex\u001b[0m \u001b[0;34m=\u001b[0m \u001b[0mensure_index\u001b[0m\u001b[0;34m(\u001b[0m\u001b[0mindex\u001b[0m\u001b[0;34m)\u001b[0m\u001b[0;34m\u001b[0m\u001b[0;34m\u001b[0m\u001b[0m\n\u001b[0m\u001b[1;32m    491\u001b[0m \u001b[0;34m\u001b[0m\u001b[0m\n\u001b[1;32m    492\u001b[0m         \u001b[0;32mif\u001b[0m \u001b[0mdtype\u001b[0m \u001b[0;32mis\u001b[0m \u001b[0;32mnot\u001b[0m \u001b[0;32mNone\u001b[0m\u001b[0;34m:\u001b[0m\u001b[0;34m\u001b[0m\u001b[0;34m\u001b[0m\u001b[0m\n",
            "\u001b[0;32m/usr/local/lib/python3.11/dist-packages/pandas/core/indexes/base.py\u001b[0m in \u001b[0;36mensure_index\u001b[0;34m(index_like, copy)\u001b[0m\n\u001b[1;32m   7645\u001b[0m             \u001b[0;32mreturn\u001b[0m \u001b[0mMultiIndex\u001b[0m\u001b[0;34m.\u001b[0m\u001b[0mfrom_arrays\u001b[0m\u001b[0;34m(\u001b[0m\u001b[0mindex_like\u001b[0m\u001b[0;34m)\u001b[0m\u001b[0;34m\u001b[0m\u001b[0;34m\u001b[0m\u001b[0m\n\u001b[1;32m   7646\u001b[0m         \u001b[0;32melse\u001b[0m\u001b[0;34m:\u001b[0m\u001b[0;34m\u001b[0m\u001b[0;34m\u001b[0m\u001b[0m\n\u001b[0;32m-> 7647\u001b[0;31m             \u001b[0;32mreturn\u001b[0m \u001b[0mIndex\u001b[0m\u001b[0;34m(\u001b[0m\u001b[0mindex_like\u001b[0m\u001b[0;34m,\u001b[0m \u001b[0mcopy\u001b[0m\u001b[0;34m=\u001b[0m\u001b[0mcopy\u001b[0m\u001b[0;34m,\u001b[0m \u001b[0mtupleize_cols\u001b[0m\u001b[0;34m=\u001b[0m\u001b[0;32mFalse\u001b[0m\u001b[0;34m)\u001b[0m\u001b[0;34m\u001b[0m\u001b[0;34m\u001b[0m\u001b[0m\n\u001b[0m\u001b[1;32m   7648\u001b[0m     \u001b[0;32melse\u001b[0m\u001b[0;34m:\u001b[0m\u001b[0;34m\u001b[0m\u001b[0;34m\u001b[0m\u001b[0m\n\u001b[1;32m   7649\u001b[0m         \u001b[0;32mreturn\u001b[0m \u001b[0mIndex\u001b[0m\u001b[0;34m(\u001b[0m\u001b[0mindex_like\u001b[0m\u001b[0;34m,\u001b[0m \u001b[0mcopy\u001b[0m\u001b[0;34m=\u001b[0m\u001b[0mcopy\u001b[0m\u001b[0;34m)\u001b[0m\u001b[0;34m\u001b[0m\u001b[0;34m\u001b[0m\u001b[0m\n",
            "\u001b[0;32m/usr/local/lib/python3.11/dist-packages/pandas/core/indexes/base.py\u001b[0m in \u001b[0;36m__new__\u001b[0;34m(cls, data, dtype, copy, name, tupleize_cols)\u001b[0m\n\u001b[1;32m    563\u001b[0m \u001b[0;34m\u001b[0m\u001b[0m\n\u001b[1;32m    564\u001b[0m         \u001b[0;32mtry\u001b[0m\u001b[0;34m:\u001b[0m\u001b[0;34m\u001b[0m\u001b[0;34m\u001b[0m\u001b[0m\n\u001b[0;32m--> 565\u001b[0;31m             \u001b[0marr\u001b[0m \u001b[0;34m=\u001b[0m \u001b[0msanitize_array\u001b[0m\u001b[0;34m(\u001b[0m\u001b[0mdata\u001b[0m\u001b[0;34m,\u001b[0m \u001b[0;32mNone\u001b[0m\u001b[0;34m,\u001b[0m \u001b[0mdtype\u001b[0m\u001b[0;34m=\u001b[0m\u001b[0mdtype\u001b[0m\u001b[0;34m,\u001b[0m \u001b[0mcopy\u001b[0m\u001b[0;34m=\u001b[0m\u001b[0mcopy\u001b[0m\u001b[0;34m)\u001b[0m\u001b[0;34m\u001b[0m\u001b[0;34m\u001b[0m\u001b[0m\n\u001b[0m\u001b[1;32m    566\u001b[0m         \u001b[0;32mexcept\u001b[0m \u001b[0mValueError\u001b[0m \u001b[0;32mas\u001b[0m \u001b[0merr\u001b[0m\u001b[0;34m:\u001b[0m\u001b[0;34m\u001b[0m\u001b[0;34m\u001b[0m\u001b[0m\n\u001b[1;32m    567\u001b[0m             \u001b[0;32mif\u001b[0m \u001b[0;34m\"index must be specified when data is not list-like\"\u001b[0m \u001b[0;32min\u001b[0m \u001b[0mstr\u001b[0m\u001b[0;34m(\u001b[0m\u001b[0merr\u001b[0m\u001b[0;34m)\u001b[0m\u001b[0;34m:\u001b[0m\u001b[0;34m\u001b[0m\u001b[0;34m\u001b[0m\u001b[0m\n",
            "\u001b[0;32m/usr/local/lib/python3.11/dist-packages/pandas/core/construction.py\u001b[0m in \u001b[0;36msanitize_array\u001b[0;34m(data, index, dtype, copy, allow_2d)\u001b[0m\n\u001b[1;32m    652\u001b[0m \u001b[0;34m\u001b[0m\u001b[0m\n\u001b[1;32m    653\u001b[0m         \u001b[0;32melse\u001b[0m\u001b[0;34m:\u001b[0m\u001b[0;34m\u001b[0m\u001b[0;34m\u001b[0m\u001b[0m\n\u001b[0;32m--> 654\u001b[0;31m             \u001b[0msubarr\u001b[0m \u001b[0;34m=\u001b[0m \u001b[0mmaybe_convert_platform\u001b[0m\u001b[0;34m(\u001b[0m\u001b[0mdata\u001b[0m\u001b[0;34m)\u001b[0m\u001b[0;34m\u001b[0m\u001b[0;34m\u001b[0m\u001b[0m\n\u001b[0m\u001b[1;32m    655\u001b[0m             \u001b[0;32mif\u001b[0m \u001b[0msubarr\u001b[0m\u001b[0;34m.\u001b[0m\u001b[0mdtype\u001b[0m \u001b[0;34m==\u001b[0m \u001b[0mobject\u001b[0m\u001b[0;34m:\u001b[0m\u001b[0;34m\u001b[0m\u001b[0;34m\u001b[0m\u001b[0m\n\u001b[1;32m    656\u001b[0m                 \u001b[0msubarr\u001b[0m \u001b[0;34m=\u001b[0m \u001b[0mcast\u001b[0m\u001b[0;34m(\u001b[0m\u001b[0mnp\u001b[0m\u001b[0;34m.\u001b[0m\u001b[0mndarray\u001b[0m\u001b[0;34m,\u001b[0m \u001b[0msubarr\u001b[0m\u001b[0;34m)\u001b[0m\u001b[0;34m\u001b[0m\u001b[0;34m\u001b[0m\u001b[0m\n",
            "\u001b[0;32m/usr/local/lib/python3.11/dist-packages/pandas/core/dtypes/cast.py\u001b[0m in \u001b[0;36mmaybe_convert_platform\u001b[0;34m(values)\u001b[0m\n\u001b[1;32m    137\u001b[0m     \u001b[0;32mif\u001b[0m \u001b[0marr\u001b[0m\u001b[0;34m.\u001b[0m\u001b[0mdtype\u001b[0m \u001b[0;34m==\u001b[0m \u001b[0m_dtype_obj\u001b[0m\u001b[0;34m:\u001b[0m\u001b[0;34m\u001b[0m\u001b[0;34m\u001b[0m\u001b[0m\n\u001b[1;32m    138\u001b[0m         \u001b[0marr\u001b[0m \u001b[0;34m=\u001b[0m \u001b[0mcast\u001b[0m\u001b[0;34m(\u001b[0m\u001b[0mnp\u001b[0m\u001b[0;34m.\u001b[0m\u001b[0mndarray\u001b[0m\u001b[0;34m,\u001b[0m \u001b[0marr\u001b[0m\u001b[0;34m)\u001b[0m\u001b[0;34m\u001b[0m\u001b[0;34m\u001b[0m\u001b[0m\n\u001b[0;32m--> 139\u001b[0;31m         \u001b[0marr\u001b[0m \u001b[0;34m=\u001b[0m \u001b[0mlib\u001b[0m\u001b[0;34m.\u001b[0m\u001b[0mmaybe_convert_objects\u001b[0m\u001b[0;34m(\u001b[0m\u001b[0marr\u001b[0m\u001b[0;34m)\u001b[0m\u001b[0;34m\u001b[0m\u001b[0;34m\u001b[0m\u001b[0m\n\u001b[0m\u001b[1;32m    140\u001b[0m \u001b[0;34m\u001b[0m\u001b[0m\n\u001b[1;32m    141\u001b[0m     \u001b[0;32mreturn\u001b[0m \u001b[0marr\u001b[0m\u001b[0;34m\u001b[0m\u001b[0;34m\u001b[0m\u001b[0m\n",
            "\u001b[0;32mlib.pyx\u001b[0m in \u001b[0;36mpandas._libs.lib.maybe_convert_objects\u001b[0;34m()\u001b[0m\n",
            "\u001b[0;31mTypeError\u001b[0m: Cannot convert numpy.ndarray to numpy.ndarray"
          ]
        }
      ]
    },
    {
      "cell_type": "code",
      "source": [
        "dataset.head()"
      ],
      "metadata": {
        "colab": {
          "base_uri": "https://localhost:8080/",
          "height": 206
        },
        "id": "DkemUyTVnSoF",
        "outputId": "6aeb16c3-f986-410d-d1ed-6d6a12a60c8f"
      },
      "execution_count": null,
      "outputs": [
        {
          "output_type": "execute_result",
          "data": {
            "text/plain": [
              "   UserName  ScreenName   Location     TweetAt  \\\n",
              "0      3799       48751     London  16-03-2020   \n",
              "1      3800       48752         UK  16-03-2020   \n",
              "2      3801       48753  Vagabonds  16-03-2020   \n",
              "3      3802       48754        NaN  16-03-2020   \n",
              "4      3803       48755        NaN  16-03-2020   \n",
              "\n",
              "                                       OriginalTweet           Sentiment  \n",
              "0  @MeNyrbie @Phil_Gahan @Chrisitv https://t.co/i...             Neutral  \n",
              "1  advice Talk to your neighbours family to excha...            Positive  \n",
              "2  Coronavirus Australia: Woolworths to give elde...            Positive  \n",
              "3  My food stock is not the only one which is emp...            Positive  \n",
              "4  Me, ready to go at supermarket during the #COV...  Extremely Negative  "
            ],
            "text/html": [
              "\n",
              "  <div id=\"df-bf2a9a5a-1de0-4fa7-b9ea-e4291eb36288\" class=\"colab-df-container\">\n",
              "    <div>\n",
              "<style scoped>\n",
              "    .dataframe tbody tr th:only-of-type {\n",
              "        vertical-align: middle;\n",
              "    }\n",
              "\n",
              "    .dataframe tbody tr th {\n",
              "        vertical-align: top;\n",
              "    }\n",
              "\n",
              "    .dataframe thead th {\n",
              "        text-align: right;\n",
              "    }\n",
              "</style>\n",
              "<table border=\"1\" class=\"dataframe\">\n",
              "  <thead>\n",
              "    <tr style=\"text-align: right;\">\n",
              "      <th></th>\n",
              "      <th>UserName</th>\n",
              "      <th>ScreenName</th>\n",
              "      <th>Location</th>\n",
              "      <th>TweetAt</th>\n",
              "      <th>OriginalTweet</th>\n",
              "      <th>Sentiment</th>\n",
              "    </tr>\n",
              "  </thead>\n",
              "  <tbody>\n",
              "    <tr>\n",
              "      <th>0</th>\n",
              "      <td>3799</td>\n",
              "      <td>48751</td>\n",
              "      <td>London</td>\n",
              "      <td>16-03-2020</td>\n",
              "      <td>@MeNyrbie @Phil_Gahan @Chrisitv https://t.co/i...</td>\n",
              "      <td>Neutral</td>\n",
              "    </tr>\n",
              "    <tr>\n",
              "      <th>1</th>\n",
              "      <td>3800</td>\n",
              "      <td>48752</td>\n",
              "      <td>UK</td>\n",
              "      <td>16-03-2020</td>\n",
              "      <td>advice Talk to your neighbours family to excha...</td>\n",
              "      <td>Positive</td>\n",
              "    </tr>\n",
              "    <tr>\n",
              "      <th>2</th>\n",
              "      <td>3801</td>\n",
              "      <td>48753</td>\n",
              "      <td>Vagabonds</td>\n",
              "      <td>16-03-2020</td>\n",
              "      <td>Coronavirus Australia: Woolworths to give elde...</td>\n",
              "      <td>Positive</td>\n",
              "    </tr>\n",
              "    <tr>\n",
              "      <th>3</th>\n",
              "      <td>3802</td>\n",
              "      <td>48754</td>\n",
              "      <td>NaN</td>\n",
              "      <td>16-03-2020</td>\n",
              "      <td>My food stock is not the only one which is emp...</td>\n",
              "      <td>Positive</td>\n",
              "    </tr>\n",
              "    <tr>\n",
              "      <th>4</th>\n",
              "      <td>3803</td>\n",
              "      <td>48755</td>\n",
              "      <td>NaN</td>\n",
              "      <td>16-03-2020</td>\n",
              "      <td>Me, ready to go at supermarket during the #COV...</td>\n",
              "      <td>Extremely Negative</td>\n",
              "    </tr>\n",
              "  </tbody>\n",
              "</table>\n",
              "</div>\n",
              "    <div class=\"colab-df-buttons\">\n",
              "\n",
              "  <div class=\"colab-df-container\">\n",
              "    <button class=\"colab-df-convert\" onclick=\"convertToInteractive('df-bf2a9a5a-1de0-4fa7-b9ea-e4291eb36288')\"\n",
              "            title=\"Convert this dataframe to an interactive table.\"\n",
              "            style=\"display:none;\">\n",
              "\n",
              "  <svg xmlns=\"http://www.w3.org/2000/svg\" height=\"24px\" viewBox=\"0 -960 960 960\">\n",
              "    <path d=\"M120-120v-720h720v720H120Zm60-500h600v-160H180v160Zm220 220h160v-160H400v160Zm0 220h160v-160H400v160ZM180-400h160v-160H180v160Zm440 0h160v-160H620v160ZM180-180h160v-160H180v160Zm440 0h160v-160H620v160Z\"/>\n",
              "  </svg>\n",
              "    </button>\n",
              "\n",
              "  <style>\n",
              "    .colab-df-container {\n",
              "      display:flex;\n",
              "      gap: 12px;\n",
              "    }\n",
              "\n",
              "    .colab-df-convert {\n",
              "      background-color: #E8F0FE;\n",
              "      border: none;\n",
              "      border-radius: 50%;\n",
              "      cursor: pointer;\n",
              "      display: none;\n",
              "      fill: #1967D2;\n",
              "      height: 32px;\n",
              "      padding: 0 0 0 0;\n",
              "      width: 32px;\n",
              "    }\n",
              "\n",
              "    .colab-df-convert:hover {\n",
              "      background-color: #E2EBFA;\n",
              "      box-shadow: 0px 1px 2px rgba(60, 64, 67, 0.3), 0px 1px 3px 1px rgba(60, 64, 67, 0.15);\n",
              "      fill: #174EA6;\n",
              "    }\n",
              "\n",
              "    .colab-df-buttons div {\n",
              "      margin-bottom: 4px;\n",
              "    }\n",
              "\n",
              "    [theme=dark] .colab-df-convert {\n",
              "      background-color: #3B4455;\n",
              "      fill: #D2E3FC;\n",
              "    }\n",
              "\n",
              "    [theme=dark] .colab-df-convert:hover {\n",
              "      background-color: #434B5C;\n",
              "      box-shadow: 0px 1px 3px 1px rgba(0, 0, 0, 0.15);\n",
              "      filter: drop-shadow(0px 1px 2px rgba(0, 0, 0, 0.3));\n",
              "      fill: #FFFFFF;\n",
              "    }\n",
              "  </style>\n",
              "\n",
              "    <script>\n",
              "      const buttonEl =\n",
              "        document.querySelector('#df-bf2a9a5a-1de0-4fa7-b9ea-e4291eb36288 button.colab-df-convert');\n",
              "      buttonEl.style.display =\n",
              "        google.colab.kernel.accessAllowed ? 'block' : 'none';\n",
              "\n",
              "      async function convertToInteractive(key) {\n",
              "        const element = document.querySelector('#df-bf2a9a5a-1de0-4fa7-b9ea-e4291eb36288');\n",
              "        const dataTable =\n",
              "          await google.colab.kernel.invokeFunction('convertToInteractive',\n",
              "                                                    [key], {});\n",
              "        if (!dataTable) return;\n",
              "\n",
              "        const docLinkHtml = 'Like what you see? Visit the ' +\n",
              "          '<a target=\"_blank\" href=https://colab.research.google.com/notebooks/data_table.ipynb>data table notebook</a>'\n",
              "          + ' to learn more about interactive tables.';\n",
              "        element.innerHTML = '';\n",
              "        dataTable['output_type'] = 'display_data';\n",
              "        await google.colab.output.renderOutput(dataTable, element);\n",
              "        const docLink = document.createElement('div');\n",
              "        docLink.innerHTML = docLinkHtml;\n",
              "        element.appendChild(docLink);\n",
              "      }\n",
              "    </script>\n",
              "  </div>\n",
              "\n",
              "\n",
              "<div id=\"df-14db88f0-128f-40bb-9ca4-b54f9fc06f60\">\n",
              "  <button class=\"colab-df-quickchart\" onclick=\"quickchart('df-14db88f0-128f-40bb-9ca4-b54f9fc06f60')\"\n",
              "            title=\"Suggest charts\"\n",
              "            style=\"display:none;\">\n",
              "\n",
              "<svg xmlns=\"http://www.w3.org/2000/svg\" height=\"24px\"viewBox=\"0 0 24 24\"\n",
              "     width=\"24px\">\n",
              "    <g>\n",
              "        <path d=\"M19 3H5c-1.1 0-2 .9-2 2v14c0 1.1.9 2 2 2h14c1.1 0 2-.9 2-2V5c0-1.1-.9-2-2-2zM9 17H7v-7h2v7zm4 0h-2V7h2v10zm4 0h-2v-4h2v4z\"/>\n",
              "    </g>\n",
              "</svg>\n",
              "  </button>\n",
              "\n",
              "<style>\n",
              "  .colab-df-quickchart {\n",
              "      --bg-color: #E8F0FE;\n",
              "      --fill-color: #1967D2;\n",
              "      --hover-bg-color: #E2EBFA;\n",
              "      --hover-fill-color: #174EA6;\n",
              "      --disabled-fill-color: #AAA;\n",
              "      --disabled-bg-color: #DDD;\n",
              "  }\n",
              "\n",
              "  [theme=dark] .colab-df-quickchart {\n",
              "      --bg-color: #3B4455;\n",
              "      --fill-color: #D2E3FC;\n",
              "      --hover-bg-color: #434B5C;\n",
              "      --hover-fill-color: #FFFFFF;\n",
              "      --disabled-bg-color: #3B4455;\n",
              "      --disabled-fill-color: #666;\n",
              "  }\n",
              "\n",
              "  .colab-df-quickchart {\n",
              "    background-color: var(--bg-color);\n",
              "    border: none;\n",
              "    border-radius: 50%;\n",
              "    cursor: pointer;\n",
              "    display: none;\n",
              "    fill: var(--fill-color);\n",
              "    height: 32px;\n",
              "    padding: 0;\n",
              "    width: 32px;\n",
              "  }\n",
              "\n",
              "  .colab-df-quickchart:hover {\n",
              "    background-color: var(--hover-bg-color);\n",
              "    box-shadow: 0 1px 2px rgba(60, 64, 67, 0.3), 0 1px 3px 1px rgba(60, 64, 67, 0.15);\n",
              "    fill: var(--button-hover-fill-color);\n",
              "  }\n",
              "\n",
              "  .colab-df-quickchart-complete:disabled,\n",
              "  .colab-df-quickchart-complete:disabled:hover {\n",
              "    background-color: var(--disabled-bg-color);\n",
              "    fill: var(--disabled-fill-color);\n",
              "    box-shadow: none;\n",
              "  }\n",
              "\n",
              "  .colab-df-spinner {\n",
              "    border: 2px solid var(--fill-color);\n",
              "    border-color: transparent;\n",
              "    border-bottom-color: var(--fill-color);\n",
              "    animation:\n",
              "      spin 1s steps(1) infinite;\n",
              "  }\n",
              "\n",
              "  @keyframes spin {\n",
              "    0% {\n",
              "      border-color: transparent;\n",
              "      border-bottom-color: var(--fill-color);\n",
              "      border-left-color: var(--fill-color);\n",
              "    }\n",
              "    20% {\n",
              "      border-color: transparent;\n",
              "      border-left-color: var(--fill-color);\n",
              "      border-top-color: var(--fill-color);\n",
              "    }\n",
              "    30% {\n",
              "      border-color: transparent;\n",
              "      border-left-color: var(--fill-color);\n",
              "      border-top-color: var(--fill-color);\n",
              "      border-right-color: var(--fill-color);\n",
              "    }\n",
              "    40% {\n",
              "      border-color: transparent;\n",
              "      border-right-color: var(--fill-color);\n",
              "      border-top-color: var(--fill-color);\n",
              "    }\n",
              "    60% {\n",
              "      border-color: transparent;\n",
              "      border-right-color: var(--fill-color);\n",
              "    }\n",
              "    80% {\n",
              "      border-color: transparent;\n",
              "      border-right-color: var(--fill-color);\n",
              "      border-bottom-color: var(--fill-color);\n",
              "    }\n",
              "    90% {\n",
              "      border-color: transparent;\n",
              "      border-bottom-color: var(--fill-color);\n",
              "    }\n",
              "  }\n",
              "</style>\n",
              "\n",
              "  <script>\n",
              "    async function quickchart(key) {\n",
              "      const quickchartButtonEl =\n",
              "        document.querySelector('#' + key + ' button');\n",
              "      quickchartButtonEl.disabled = true;  // To prevent multiple clicks.\n",
              "      quickchartButtonEl.classList.add('colab-df-spinner');\n",
              "      try {\n",
              "        const charts = await google.colab.kernel.invokeFunction(\n",
              "            'suggestCharts', [key], {});\n",
              "      } catch (error) {\n",
              "        console.error('Error during call to suggestCharts:', error);\n",
              "      }\n",
              "      quickchartButtonEl.classList.remove('colab-df-spinner');\n",
              "      quickchartButtonEl.classList.add('colab-df-quickchart-complete');\n",
              "    }\n",
              "    (() => {\n",
              "      let quickchartButtonEl =\n",
              "        document.querySelector('#df-14db88f0-128f-40bb-9ca4-b54f9fc06f60 button');\n",
              "      quickchartButtonEl.style.display =\n",
              "        google.colab.kernel.accessAllowed ? 'block' : 'none';\n",
              "    })();\n",
              "  </script>\n",
              "</div>\n",
              "\n",
              "    </div>\n",
              "  </div>\n"
            ],
            "application/vnd.google.colaboratory.intrinsic+json": {
              "type": "dataframe",
              "variable_name": "dataset",
              "summary": "{\n  \"name\": \"dataset\",\n  \"rows\": 41157,\n  \"fields\": [\n    {\n      \"column\": \"UserName\",\n      \"properties\": {\n        \"dtype\": \"number\",\n        \"std\": 11881,\n        \"min\": 3799,\n        \"max\": 44955,\n        \"num_unique_values\": 41157,\n        \"samples\": [\n          34888,\n          39363,\n          3943\n        ],\n        \"semantic_type\": \"\",\n        \"description\": \"\"\n      }\n    },\n    {\n      \"column\": \"ScreenName\",\n      \"properties\": {\n        \"dtype\": \"number\",\n        \"std\": 11881,\n        \"min\": 48751,\n        \"max\": 89907,\n        \"num_unique_values\": 41157,\n        \"samples\": [\n          79840,\n          84315,\n          48895\n        ],\n        \"semantic_type\": \"\",\n        \"description\": \"\"\n      }\n    },\n    {\n      \"column\": \"Location\",\n      \"properties\": {\n        \"dtype\": \"category\",\n        \"num_unique_values\": 12220,\n        \"samples\": [\n          \"Killeen, TX\",\n          \"Richmond VA\",\n          \"El Dorado\"\n        ],\n        \"semantic_type\": \"\",\n        \"description\": \"\"\n      }\n    },\n    {\n      \"column\": \"TweetAt\",\n      \"properties\": {\n        \"dtype\": \"object\",\n        \"num_unique_values\": 30,\n        \"samples\": [\n          \"12-04-2020\",\n          \"31-03-2020\",\n          \"08-04-2020\"\n        ],\n        \"semantic_type\": \"\",\n        \"description\": \"\"\n      }\n    },\n    {\n      \"column\": \"OriginalTweet\",\n      \"properties\": {\n        \"dtype\": \"string\",\n        \"num_unique_values\": 41157,\n        \"samples\": [\n          \" Without the there would not be any problem whatsoever People are getting worried about the supply chain   Prices for key food staples are starting to soar in some parts of the world via\",\n          \"Rice &amp; wheat prices surge amid fears Covid-19 lockdown may threaten global food security\\r\\r\\nIncreased panic buying of food due to coronavirus lockdowns has led to price spikes for  world\\u00c2\\u0092s two staple grains, rice&amp; wheat. Importers rushed to stockpile goods\\r\\r\\n https://t.co/0qOv3jAp9m\",\n          \"When the government says to start social distancing, but you work retail so you can't just not talk to customers in the store lol fml I'm 100% going to catch covid-19\"\n        ],\n        \"semantic_type\": \"\",\n        \"description\": \"\"\n      }\n    },\n    {\n      \"column\": \"Sentiment\",\n      \"properties\": {\n        \"dtype\": \"category\",\n        \"num_unique_values\": 5,\n        \"samples\": [\n          \"Positive\",\n          \"Extremely Positive\",\n          \"Extremely Negative\"\n        ],\n        \"semantic_type\": \"\",\n        \"description\": \"\"\n      }\n    }\n  ]\n}"
            }
          },
          "metadata": {},
          "execution_count": 4
        }
      ]
    },
    {
      "cell_type": "markdown",
      "source": [
        "Very basic text preproccessing by removing punctuations, numbers. We have also cleaned the data by removing characters including and after 'https' in the text."
      ],
      "metadata": {
        "id": "tzxNFBBfafeS"
      }
    },
    {
      "cell_type": "code",
      "source": [
        "import re\n",
        "texts=[]\n",
        "for i in range(0,len(dataset)):\n",
        "  text = re.sub('[^a-zA-Z]' , ' ', dataset['OriginalTweet'][i])\n",
        "  text = text.lower()\n",
        "  text = text.split()\n",
        "  x = len(text) if text.count('https') ==0  else text.index('https')\n",
        "  text = text[: x ]\n",
        "  text = [t for t in text if not t=='https']\n",
        "  text = ' '.join(text)\n",
        "  texts.append(text)\n"
      ],
      "metadata": {
        "id": "4TAhx3inJ_O4"
      },
      "execution_count": null,
      "outputs": []
    },
    {
      "cell_type": "markdown",
      "source": [
        "Size of the dataset."
      ],
      "metadata": {
        "id": "xkrW9cctbFU6"
      }
    },
    {
      "cell_type": "code",
      "source": [
        "print(len(texts))"
      ],
      "metadata": {
        "colab": {
          "base_uri": "https://localhost:8080/"
        },
        "id": "VY91SigRK_-z",
        "outputId": "b463865e-e9f6-44e1-93ff-5d015c1b575b"
      },
      "execution_count": null,
      "outputs": [
        {
          "output_type": "stream",
          "name": "stdout",
          "text": [
            "41157\n"
          ]
        }
      ]
    },
    {
      "cell_type": "markdown",
      "source": [
        "## Training the word2vec model"
      ],
      "metadata": {
        "id": "-UpeRPOtbRA4"
      }
    },
    {
      "cell_type": "code",
      "source": [
        "!pip install gensim"
      ],
      "metadata": {
        "colab": {
          "base_uri": "https://localhost:8080/"
        },
        "id": "3G0Hp95EnzeS",
        "outputId": "6b289a44-91c8-47f9-d578-8b33c1c2785e"
      },
      "execution_count": null,
      "outputs": [
        {
          "output_type": "stream",
          "name": "stdout",
          "text": [
            "Requirement already satisfied: gensim in /usr/local/lib/python3.11/dist-packages (4.3.3)\n",
            "Requirement already satisfied: numpy<2.0,>=1.18.5 in /usr/local/lib/python3.11/dist-packages (from gensim) (1.23.5)\n",
            "Collecting scipy<1.14.0,>=1.7.0 (from gensim)\n",
            "  Using cached scipy-1.13.1-cp311-cp311-manylinux_2_17_x86_64.manylinux2014_x86_64.whl.metadata (60 kB)\n",
            "Requirement already satisfied: smart-open>=1.8.1 in /usr/local/lib/python3.11/dist-packages (from gensim) (7.1.0)\n",
            "Requirement already satisfied: wrapt in /usr/local/lib/python3.11/dist-packages (from smart-open>=1.8.1->gensim) (1.17.2)\n",
            "Using cached scipy-1.13.1-cp311-cp311-manylinux_2_17_x86_64.manylinux2014_x86_64.whl (38.6 MB)\n",
            "Installing collected packages: scipy\n",
            "  Attempting uninstall: scipy\n",
            "    Found existing installation: scipy 1.15.2\n",
            "    Uninstalling scipy-1.15.2:\n",
            "      Successfully uninstalled scipy-1.15.2\n",
            "\u001b[31mERROR: pip's dependency resolver does not currently take into account all the packages that are installed. This behaviour is the source of the following dependency conflicts.\n",
            "pymc 5.21.2 requires numpy>=1.25.0, but you have numpy 1.23.5 which is incompatible.\n",
            "jax 0.5.2 requires numpy>=1.25, but you have numpy 1.23.5 which is incompatible.\n",
            "scikit-image 0.25.2 requires numpy>=1.24, but you have numpy 1.23.5 which is incompatible.\n",
            "albumentations 2.0.5 requires numpy>=1.24.4, but you have numpy 1.23.5 which is incompatible.\n",
            "imbalanced-learn 0.13.0 requires numpy<3,>=1.24.3, but you have numpy 1.23.5 which is incompatible.\n",
            "jaxlib 0.5.1 requires numpy>=1.25, but you have numpy 1.23.5 which is incompatible.\n",
            "chex 0.1.89 requires numpy>=1.24.1, but you have numpy 1.23.5 which is incompatible.\u001b[0m\u001b[31m\n",
            "\u001b[0mSuccessfully installed scipy-1.13.1\n"
          ]
        }
      ]
    },
    {
      "cell_type": "code",
      "source": [
        "!pip install numpy==1.23.5 --force-reinstall --no-cache-dir"
      ],
      "metadata": {
        "colab": {
          "base_uri": "https://localhost:8080/",
          "height": 568
        },
        "id": "ssHGwuIvorwf",
        "outputId": "05946581-01a8-47b6-da98-7ac20a255d83"
      },
      "execution_count": null,
      "outputs": [
        {
          "output_type": "stream",
          "name": "stdout",
          "text": [
            "Collecting numpy==1.23.5\n",
            "  Downloading numpy-1.23.5-cp311-cp311-manylinux_2_17_x86_64.manylinux2014_x86_64.whl.metadata (2.3 kB)\n",
            "Downloading numpy-1.23.5-cp311-cp311-manylinux_2_17_x86_64.manylinux2014_x86_64.whl (17.1 MB)\n",
            "\u001b[?25l   \u001b[90m━━━━━━━━━━━━━━━━━━━━━━━━━━━━━━━━━━━━━━━━\u001b[0m \u001b[32m0.0/17.1 MB\u001b[0m \u001b[31m?\u001b[0m eta \u001b[36m-:--:--\u001b[0m\r\u001b[2K   \u001b[91m━━━━━━━━━━━━━━━━━━\u001b[0m\u001b[90m╺\u001b[0m\u001b[90m━━━━━━━━━━━━━━━━━━━━━\u001b[0m \u001b[32m7.8/17.1 MB\u001b[0m \u001b[31m233.3 MB/s\u001b[0m eta \u001b[36m0:00:01\u001b[0m\r\u001b[2K   \u001b[90m━━━━━━━━━━━━━━━━━━━━━━━━━━━━━━━━━━━━━━━━\u001b[0m \u001b[32m17.1/17.1 MB\u001b[0m \u001b[31m301.8 MB/s\u001b[0m eta \u001b[36m0:00:00\u001b[0m\n",
            "\u001b[?25hInstalling collected packages: numpy\n",
            "  Attempting uninstall: numpy\n",
            "    Found existing installation: numpy 1.23.5\n",
            "    Uninstalling numpy-1.23.5:\n",
            "      Successfully uninstalled numpy-1.23.5\n",
            "\u001b[31mERROR: pip's dependency resolver does not currently take into account all the packages that are installed. This behaviour is the source of the following dependency conflicts.\n",
            "pymc 5.21.2 requires numpy>=1.25.0, but you have numpy 1.23.5 which is incompatible.\n",
            "tensorflow 2.18.0 requires numpy<2.1.0,>=1.26.0, but you have numpy 1.23.5 which is incompatible.\n",
            "blosc2 3.3.0 requires numpy>=1.26, but you have numpy 1.23.5 which is incompatible.\n",
            "jax 0.5.2 requires numpy>=1.25, but you have numpy 1.23.5 which is incompatible.\n",
            "treescope 0.1.9 requires numpy>=1.25.2, but you have numpy 1.23.5 which is incompatible.\n",
            "scikit-image 0.25.2 requires numpy>=1.24, but you have numpy 1.23.5 which is incompatible.\n",
            "albumentations 2.0.5 requires numpy>=1.24.4, but you have numpy 1.23.5 which is incompatible.\n",
            "bigframes 1.42.0 requires numpy>=1.24.0, but you have numpy 1.23.5 which is incompatible.\n",
            "xarray 2025.1.2 requires numpy>=1.24, but you have numpy 1.23.5 which is incompatible.\n",
            "albucore 0.0.23 requires numpy>=1.24.4, but you have numpy 1.23.5 which is incompatible.\n",
            "imbalanced-learn 0.13.0 requires numpy<3,>=1.24.3, but you have numpy 1.23.5 which is incompatible.\n",
            "jaxlib 0.5.1 requires numpy>=1.25, but you have numpy 1.23.5 which is incompatible.\n",
            "chex 0.1.89 requires numpy>=1.24.1, but you have numpy 1.23.5 which is incompatible.\n",
            "thinc 8.3.6 requires numpy<3.0.0,>=2.0.0, but you have numpy 1.23.5 which is incompatible.\u001b[0m\u001b[31m\n",
            "\u001b[0mSuccessfully installed numpy-1.23.5\n"
          ]
        },
        {
          "output_type": "display_data",
          "data": {
            "application/vnd.colab-display-data+json": {
              "pip_warning": {
                "packages": [
                  "numpy"
                ]
              },
              "id": "a9bce00eb14d4a12838fdf0f5220f0b8"
            }
          },
          "metadata": {}
        }
      ]
    },
    {
      "cell_type": "code",
      "source": [
        "!pip install scipy --upgrade --force-reinstall --no-cache-dir"
      ],
      "metadata": {
        "colab": {
          "base_uri": "https://localhost:8080/"
        },
        "id": "KCE0B_wGpT4s",
        "outputId": "a1042ffa-e46a-412c-8ec9-dc3f47c20318"
      },
      "execution_count": null,
      "outputs": [
        {
          "output_type": "stream",
          "name": "stdout",
          "text": [
            "Collecting scipy\n",
            "  Downloading scipy-1.15.2-cp311-cp311-manylinux_2_17_x86_64.manylinux2014_x86_64.whl.metadata (61 kB)\n",
            "\u001b[2K     \u001b[90m━━━━━━━━━━━━━━━━━━━━━━━━━━━━━━━━━━━━━━━━\u001b[0m \u001b[32m62.0/62.0 kB\u001b[0m \u001b[31m76.9 MB/s\u001b[0m eta \u001b[36m0:00:00\u001b[0m\n",
            "\u001b[?25hCollecting numpy<2.5,>=1.23.5 (from scipy)\n",
            "  Downloading numpy-2.2.4-cp311-cp311-manylinux_2_17_x86_64.manylinux2014_x86_64.whl.metadata (62 kB)\n",
            "\u001b[2K     \u001b[90m━━━━━━━━━━━━━━━━━━━━━━━━━━━━━━━━━━━━━━━\u001b[0m \u001b[32m62.0/62.0 kB\u001b[0m \u001b[31m121.3 MB/s\u001b[0m eta \u001b[36m0:00:00\u001b[0m\n",
            "\u001b[?25hDownloading scipy-1.15.2-cp311-cp311-manylinux_2_17_x86_64.manylinux2014_x86_64.whl (37.6 MB)\n",
            "\u001b[2K   \u001b[90m━━━━━━━━━━━━━━━━━━━━━━━━━━━━━━━━━━━━━━━━\u001b[0m \u001b[32m37.6/37.6 MB\u001b[0m \u001b[31m304.6 MB/s\u001b[0m eta \u001b[36m0:00:00\u001b[0m\n",
            "\u001b[?25hDownloading numpy-2.2.4-cp311-cp311-manylinux_2_17_x86_64.manylinux2014_x86_64.whl (16.4 MB)\n",
            "\u001b[2K   \u001b[90m━━━━━━━━━━━━━━━━━━━━━━━━━━━━━━━━━━━━━━━━\u001b[0m \u001b[32m16.4/16.4 MB\u001b[0m \u001b[31m133.3 MB/s\u001b[0m eta \u001b[36m0:00:00\u001b[0m\n",
            "\u001b[?25hInstalling collected packages: numpy, scipy\n",
            "  Attempting uninstall: numpy\n",
            "    Found existing installation: numpy 1.23.5\n",
            "    Uninstalling numpy-1.23.5:\n",
            "      Successfully uninstalled numpy-1.23.5\n",
            "  Attempting uninstall: scipy\n",
            "    Found existing installation: scipy 1.13.1\n",
            "    Uninstalling scipy-1.13.1:\n",
            "      Successfully uninstalled scipy-1.13.1\n",
            "\u001b[31mERROR: pip's dependency resolver does not currently take into account all the packages that are installed. This behaviour is the source of the following dependency conflicts.\n",
            "gensim 4.3.3 requires numpy<2.0,>=1.18.5, but you have numpy 2.2.4 which is incompatible.\n",
            "gensim 4.3.3 requires scipy<1.14.0,>=1.7.0, but you have scipy 1.15.2 which is incompatible.\n",
            "tensorflow 2.18.0 requires numpy<2.1.0,>=1.26.0, but you have numpy 2.2.4 which is incompatible.\n",
            "numba 0.60.0 requires numpy<2.1,>=1.22, but you have numpy 2.2.4 which is incompatible.\u001b[0m\u001b[31m\n",
            "\u001b[0mSuccessfully installed numpy-2.2.4 scipy-1.15.2\n"
          ]
        }
      ]
    },
    {
      "cell_type": "code",
      "source": [
        "from gensim.models import Word2Vec\n"
      ],
      "metadata": {
        "id": "x6G_EOnzLrNr"
      },
      "execution_count": null,
      "outputs": []
    },
    {
      "cell_type": "code",
      "source": [
        "sentences = [line.split() for line in texts]\n",
        "\n",
        "w2v =Word2Vec(sentences, size=100, window=5, workers=4, iter=10, min_count=5)"
      ],
      "metadata": {
        "id": "TOEQj-VlLsEG",
        "colab": {
          "base_uri": "https://localhost:8080/",
          "height": 176
        },
        "outputId": "c76ccddd-ad9a-4b65-82ea-48298d6dee2c"
      },
      "execution_count": null,
      "outputs": [
        {
          "output_type": "error",
          "ename": "NameError",
          "evalue": "name 'texts' is not defined",
          "traceback": [
            "\u001b[0;31m---------------------------------------------------------------------------\u001b[0m",
            "\u001b[0;31mNameError\u001b[0m                                 Traceback (most recent call last)",
            "\u001b[0;32m<ipython-input-4-6f2363fe2885>\u001b[0m in \u001b[0;36m<cell line: 0>\u001b[0;34m()\u001b[0m\n\u001b[0;32m----> 1\u001b[0;31m \u001b[0msentences\u001b[0m \u001b[0;34m=\u001b[0m \u001b[0;34m[\u001b[0m\u001b[0mline\u001b[0m\u001b[0;34m.\u001b[0m\u001b[0msplit\u001b[0m\u001b[0;34m(\u001b[0m\u001b[0;34m)\u001b[0m \u001b[0;32mfor\u001b[0m \u001b[0mline\u001b[0m \u001b[0;32min\u001b[0m \u001b[0mtexts\u001b[0m\u001b[0;34m]\u001b[0m\u001b[0;34m\u001b[0m\u001b[0;34m\u001b[0m\u001b[0m\n\u001b[0m\u001b[1;32m      2\u001b[0m \u001b[0;34m\u001b[0m\u001b[0m\n\u001b[1;32m      3\u001b[0m \u001b[0mw2v\u001b[0m \u001b[0;34m=\u001b[0m\u001b[0mWord2Vec\u001b[0m\u001b[0;34m(\u001b[0m\u001b[0msentences\u001b[0m\u001b[0;34m,\u001b[0m \u001b[0msize\u001b[0m\u001b[0;34m=\u001b[0m\u001b[0;36m100\u001b[0m\u001b[0;34m,\u001b[0m \u001b[0mwindow\u001b[0m\u001b[0;34m=\u001b[0m\u001b[0;36m5\u001b[0m\u001b[0;34m,\u001b[0m \u001b[0mworkers\u001b[0m\u001b[0;34m=\u001b[0m\u001b[0;36m4\u001b[0m\u001b[0;34m,\u001b[0m \u001b[0miter\u001b[0m\u001b[0;34m=\u001b[0m\u001b[0;36m10\u001b[0m\u001b[0;34m,\u001b[0m \u001b[0mmin_count\u001b[0m\u001b[0;34m=\u001b[0m\u001b[0;36m5\u001b[0m\u001b[0;34m)\u001b[0m\u001b[0;34m\u001b[0m\u001b[0;34m\u001b[0m\u001b[0m\n",
            "\u001b[0;31mNameError\u001b[0m: name 'texts' is not defined"
          ]
        }
      ]
    },
    {
      "cell_type": "code",
      "source": [
        "print(sentences[20:25])"
      ],
      "metadata": {
        "colab": {
          "base_uri": "https://localhost:8080/"
        },
        "id": "yBEn_UrmxdaW",
        "outputId": "22d00d68-6b3d-46f3-97da-a4c61792a861"
      },
      "execution_count": null,
      "outputs": [
        {
          "output_type": "stream",
          "name": "stdout",
          "text": [
            "[['with', 'nations', 'inficted', 'with', 'covid', 'the', 'world', 'must', 'not', 'play', 'fair', 'with', 'china', 'goverments', 'must', 'demand', 'china', 'adopts', 'new', 'guilde', 'lines', 'on', 'food', 'safty', 'the', 'chinese', 'goverment', 'is', 'guilty', 'of', 'being', 'irosponcible', 'with', 'life', 'on', 'a', 'global', 'scale'], [], ['we', 'have', 'amazing', 'cheap', 'deals', 'for', 'the', 'covid', 'going', 'on', 'to', 'help', 'you', 'trials', 'monthly', 'yearly', 'and', 'resonable', 'prices', 'subscriptions', 'just', 'dm', 'us', 'bestiptv', 'iptv', 'service', 'iptv', 'iptvdeals', 'cheap', 'iptv', 'football', 'hd', 'movies', 'adult', 'cinema', 'hotmovies', 'iptvnew', 'iptv', 'adult'], ['we', 'have', 'amazing', 'cheap', 'deals', 'for', 'the', 'covid', 'going', 'on', 'to', 'help', 'you', 'trials', 'monthly', 'yearly', 'and', 'resonable', 'prices', 'subscriptions', 'just', 'dm', 'us', 'bestiptv', 'iptv', 'service', 'iptv', 'iptvdeals', 'cheap', 'iptv', 'football', 'hd', 'movies', 'adult', 'cinema', 'hotmovies', 'iptv', 'iptvlinks', 'movies'], ['downingstreet', 'grantshapps', 'what', 'is', 'being', 'done', 'to', 'ensure', 'food', 'and', 'other', 'essential', 'products', 'are', 'being', 're', 'stocked', 'at', 'supermarkets', 'and', 'panic', 'buying', 'actively', 'discouraged', 'it', 'cannot', 'be', 'left', 'to', 'checkout', 'staff', 'to', 'police', 'the', 'actions', 'of', 'the', 'selfish', 'and', 'profiteer']]\n"
          ]
        }
      ]
    },
    {
      "cell_type": "markdown",
      "source": [
        "## Working with word2vec"
      ],
      "metadata": {
        "id": "5RLH55l3bo2U"
      }
    },
    {
      "cell_type": "markdown",
      "source": [
        "Finding the vocabulary of the model can be useful in several general applications, and in this case, provides us with a list of words we can try and use other functions."
      ],
      "metadata": {
        "id": "dJMH7c2DbxaT"
      }
    },
    {
      "cell_type": "code",
      "source": [
        "words = list(w2v.wv.vocab)\n"
      ],
      "metadata": {
        "id": "Hh3yF2HgMeyq"
      },
      "execution_count": null,
      "outputs": []
    },
    {
      "cell_type": "code",
      "source": [
        "print(words)"
      ],
      "metadata": {
        "id": "eYGG6ySCMir4",
        "outputId": "4863e7dc-5168-4263-d03b-d9007b158619",
        "colab": {
          "base_uri": "https://localhost:8080/"
        }
      },
      "execution_count": null,
      "outputs": [
        {
          "output_type": "stream",
          "name": "stdout",
          "text": [
            "['phil', 'advice', 'talk', 'to', 'your', 'neighbours', 'family', 'exchange', 'phone', 'numbers', 'create', 'contact', 'list', 'with', 'of', 'schools', 'employer', 'chemist', 'gp', 'set', 'up', 'online', 'shopping', 'accounts', 'if', 'adequate', 'supplies', 'regular', 'meds', 'but', 'not', 'over', 'order', 'coronavirus', 'australia', 'woolworths', 'give', 'elderly', 'disabled', 'dedicated', 'hours', 'amid', 'covid', 'outbreak', 'my', 'food', 'stock', 'is', 'the', 'only', 'one', 'which', 'empty', 'please', 'don', 't', 'panic', 'there', 'will', 'be', 'enough', 'for', 'everyone', 'you', 'do', 'take', 'more', 'than', 'need', 'stay', 'calm', 'safe', 'france', 'confinement', 'me', 'ready', 'go', 'at', 'supermarket', 'during', 'because', 'i', 'm', 'paranoid', 'a', 'serious', 'thing', 'it', 'causes', 'shortage', 'stayathome', 'as', 'news', 'region', 's', 'first', 'confirmed', 'case', 'came', 'out', 'county', 'last', 'week', 'people', 'area', 'stores', 'purchase', 'cleaning', 'hand', 'sanitizer', 'toilet', 'paper', 'and', 'other', 'goods', 'tim', 'reports', 'cashier', 'grocery', 'store', 'was', 'sharing', 'his', 'insights', 'on', 'prove', 'he', 'in', 'class', 'so', 'know', 'what', 'talking', 'about', 'today', 'didn', 'buy', 'rebel', 'toiletpapercrisis', 'due', 'our', 'retail', 'atlanta', 'open', 'walk', 'business', 'or', 'classes', 'next', 'two', 'weeks', 'beginning', 'monday', 'march', 'we', 'continue', 'process', 'orders', 'normal', 'thank', 'understanding', 'corona', 'prevention', 'should', 'stop', 'things', 'cash', 'use', 'payment', 'methods', 'can', 'spread', 'through', 'notes', 'also', 'prefer', 'from', 'home', 'time', 'fight', 'against', 'indiafightscorona', 'all', 'month', 'hasn', 'been', 'crowding', 'supermarkets', 'restaurants', 'however', 'reducing', 'closing', 'malls', 'means', 'now', 'using', 'same', 'entrance', 'dependent', 'single', 'lockdown', 'philippines', 'situation', 'have', 'increased', 'demand', 'products', 'wait', 'may', 'longer', 'particularly', 'beef', 'share', 'freezer', 'packs', 'patience', 'this', 'caring', 'community', 'let', 'look', 'after', 'less', 'capable', 'village', 'ensure', 'they', 'healthy', 'bringing', 'their', 'doors', 'help', 'self', 'isolation', 'symptoms', 'exposed', 'somebody', 'who', 'has', 'll', 'just', 'amazon', 'deliver', 'whatever', 'releases', 'resource', 'center', 'travel', 'brands', 'date', 'consumer', 'behavior', 'trends', 'lines', 'unpredictable', 'eating', 'alternative', 'find', 'whether', 'avoiding', 'right', 'mar', 'russia', 'surveillance', 'watchdog', 'reported', 'high', 'where', 'man', 'traveled', 'iran', 'are', 'observed', 'whole', 'foods', 'fresh', 'deliveries', 've', 'seen', 'significant', 'increase', 'groceries', 'said', 'statement', 'resulted', 'systems', 'impact', 'affecting', 'those', 'aren', 'struggling', 'consider', 'donating', 'bank', 'nonprofit', 'these', 'services', 'impacts', 'jobs', 'way', 'life', 'nations', 'world', 'must', 'play', 'fair', 'china', 'new', 'chinese', 'guilty', 'being', 'global', 'scale', 'amazing', 'cheap', 'deals', 'going', 'trials', 'monthly', 'yearly', 'prices', 'subscriptions', 'dm', 'us', 'iptv', 'service', 'football', 'hd', 'movies', 'adult', 'cinema', 'downingstreet', 'done', 'essential', 're', 'stocked', 'buying', 'actively', 'cannot', 'left', 'checkout', 'staff', 'police', 'actions', 'selfish', 'profiteer', 'uk', 'poll', 'indicates', 'majority', 'expect', 'months', 'tracker', 'see', 'full', 'results', 'confidence', 'here', 'preparation', 'higher', 'potential', 'hunger', 'coalition', 'purchased', 'percent', 'implemented', 'protocols', 'morning', 'tested', 'positive', 'feel', 'ok', 'no', 'far', 'isolated', 'since', 'found', 'possible', 'exposure', 'virus', 'keep', 'updated', 'how', 'doing', 'malicious', 'price', 'increases', 'nyc', 'department', 'worker', 'protection', 'page', 'digitally', 'file', 'complaint', 'click', 'soon', 'dwindling', 'breaking', 'into', 'closed', 'amp', 'raid', 'them', 'normally', 'crisis', 'massive', 'stockup', 'country', 'shelves', 'hole', 'images', 'richest', 'neighborhoods', 'united', 'states', 'closures', 'could', 'explode', 'via', 'cnbc', 'fun', 'fact', 'cough', 'get', 'aisle', 'yourself', 'pretty', 'quickly', 'coronavirusoutbreak', 'sorry', 'say', 'that', 'event', 'cancelled', 'health', 'wellbeing', 'speakers', 'top', 'priority', 'any', 'disappointment', 'cause', 'faqs', 'answered', 'link', 'below', 'went', 'yesterday', 'gone', 'anything', 'yes', 'point', 'posting', 'photos', 'load', 'stuff', 'parents', 'kids', 'siblings', 'etc', 'themselves', 'everything', 'needs', 'viral', 'worried', 'current', 'pandemic', 'finances', 'published', 'some', 'tips', 'manage', 'money', 'challenging', 'times', 'wife', 'works', 'customer', 'coughing', 'everywhere', 'saying', 'requested', 'deep', 'clean', 'her', 'company', 'cost', 'recommending', 'team', 'spray', 'disinfectant', 'gonna', 'die', 'sick', 'capitalism', 'like', 'without', 'judged', 'provide', 'experience', 'customers', 'environment', 'associates', 'placed', 'curious', 'think', 'shoppers', 'lot', 'bc', 'unable', 'too', 'extra', 'pair', 'shoes', 'economy', 'onlineshopping', 'stayhome', 'check', 'video', 'story', 'clothes', 'rises', 'white', 'forming', 'quarantinelife', 'fakenews', 'line', 'outside', 'target', 'south', 'africans', 'basic', 'hits', 'someone', 'living', 'own', 'local', 'issues', 'around', 'offering', 'free', 'nationwide', 'anyone', 'plus', 'half', 'completely', 'calling', 'dumb', 'idiots', 'while', 'lol', 'never', 'thought', 'd', 'come', 'back', 'stoppanicbuying', 'restrictions', 'sparking', 'run', 'cannabis', 'yet', 'stocking', 'weekend', 'preparing', 'coming', 'days', 'seeing', 'before', 'previous', 'epidemics', 'pandemics', 'rise', 'fear', 'racism', 'medicines', 'conspiracy', 'theories', 'cures', 'remain', 'an', 'emergency', 'workers', 'socialdistancing', 'why', 'water', 'utility', 'companies', 'shut', 'off', 'middle', 'close', 'thier', 'lose', 'work', 'kid', 'afford', 'worth', 'dear', 'following', 'social', 'distancing', 'rules', 'staying', 'prevent', 'spent', 'alarming', 'amount', 'submit', 'expenses', 'coronapocolypse', 'intensified', 'across', 'several', 'further', 'downward', 'pressures', 'continued', 'well', 'supplied', 'markets', 'negative', 'resulting', 'great', 'day', 'bekind', 'mufc', 'important', 'afraid', 'worst', 'scenario', 'wash', 'y', 'crazy', 'clerk', 'looked', 'weary', 'eyes', 'thanked', 'realized', 'she', 'front', 'panick', 'responders', 'working', 'hard', 'serve', 'communities', 'entire', 'shops', 'malaysia', 'facing', 'challenges', 'near', 'future', 'surprise', 'many', 'lost', 'thoughts', 'corner', 'scammers', 'taking', 'advantage', 'fears', 'cdc', 'flu', 'alert', 'both', 'masks', 'made', 'medical', 'personnel', 'require', 'once', 'material', 'called', 'melt', 'blown', 'fabric', 'packaged', 'making', 'opposed', 'safety', 'feeling', 'ethical', 'still', 'ship', 'care', 'packages', 'loved', 'ones', 'k', 'consumers', 'told', 'pymnts', 'changed', 'daily', 'lives', 'bought', 'house', 'tragic', 'facebook', 'group', 'businesses', 'increasing', 'essentials', 'frankly', 'despicable', 'totally', 'void', 'spirit', 'nameandshame', 'liverpool', 'sadly', 'thinking', 'gives', 'diarrhoea', 'therefore', 'had', 'pile', 'papers', 'atm', 'hygiene', 'yeah', 'risky', 'when', 'really', 'necessary', 'mum', 'live', 'shielded', 'mean', 'hope', 'kind', 'word', 'makes', 'sound', 'anymore', 'bs', 'necessities', 'until', 'nothing', 'hi', 'thanks', 'scare', 'sends', 'sea', 'skyrocketing', 'mumbai', 'gt', 'student', 'loan', 'payments', 'addition', 'halting', 'interest', 'stopping', 'collections', 'would', 'much', 'needed', 'immediate', 'relief', 'individuals', 'economic', 'hardship', 'side', 'tech', 'already', 'test', 'strips', 'though', 'details', 'were', 'lacking', 'fda', 'deem', 'waived', 'doesn', 'easily', 'wages', 'either', 'illness', 'urge', 'support', 'bill', 'includes', 'banks', 'flexibility', 'school', 'meals', 'ceo', 'am', 'shop', 'show', 'id', 'saw', 'young', 'couple', 'rolls', 'tp', 'crap', 'maybe', 'poses', 'complex', 'puzzle', 'delivery', 'capacity', 'under', 'surging', 'peanut', 'borisjohnson', 'patel', 'witham', 'disgusting', 'disgraceful', 'charging', 'inflated', 'items', 'government', 'something', 'retailers', 'physical', 'curtail', 'result', 'put', 'additional', 'pressure', 'alternatives', 'curbside', 'pick', 'folks', 'idea', 'la', 'habra', 'offers', 'special', 'seniors', 'love', 'hate', 'head', 'happening', 'dont', 'wont', 'spend', 'common', 'sense', 'letter', 'debt', 'holding', 'organizations', 'others', 'household', 'suspend', 'debts', 'fees', 'response', 'sign', 'aus', 'wanted', 'older', 'australians', 'mobile', 'does', 'heard', 'exec', 'laying', 'low', 'hoping', 'blows', 'mind', 'stupid', 'blues', 'plan', 'such', 'frank', 'comes', 'bread', 'sees', 'shelve', 'worry', 'pal', 'saved', 'pat', 'n', 'beans', 'got', 'attempts', 'marketing', 'budgets', 'slashed', 'hiring', 'frozen', 'staffing', 'dive', 'startups', 'battling', 'distillery', 'remains', 'operation', 'public', 'tours', 'hosting', 'functions', 'events', 'hoard', 'absolutely', 'supply', 'chain', 'interrupted', 'above', 'sanitizing', 'probably', 'dontpanicbuy', 'canned', 'toxic', 'chemicals', 'sanitizers', 'fruit', 'vegetables', 'herbs', 'fully', 'shows', 'humans', 'immune', 'system', 'dad', 'offered', 'might', 'sometimes', 'forget', 'always', 'easy', 'useful', 'trolleys', 'rumours', 'hypermarket', 'picture', 'by', 'often', 'major', 'criminals', 'try', 'exception', 'guidance', 'attorney', 'general', 'office', 'sure', 'within', 'chains', 'dry', 'counties', 'effected', 'possibly', 'introduce', 'form', 'rationing', 'eat', 'somehow', 'frontline', 'extraordinary', 'extreme', 'checkouts', 'moving', 'panicking', 'having', 'focus', 'best', 'opportunity', 'outcome', 'structure', 'reduce', 'key', 'decisions', 'flourish', 'kroger', 'biggest', 'employees', 'receive', 'leave', 'even', 'won', 'paid', 'instead', 'providing', 'mandatory', 'quarantine', 'insufficient', 'protect', 'especially', 'little', 'testing', 'followed', 'few', 'ago', 'pain', 'stayhealthy', 'took', 'pictures', 'md', 'flour', 'sugar', 'sweet', 'potatoes', 'orange', 'juice', 'towels', 'meat', 'mac', 'cheese', 'panicbuying', 'swear', 'deal', 'buyers', 'coronavirusuk', 'anxiety', 'panicbuyinguk', 'morons', 'rapid', 'slots', 'elsewhere', 'seemed', 'fine', 'email', 'listing', 'bottle', 'getting', 'fault', 'short', 'safely', 'meaning', 'risk', 'spreading', 'ft', 'washing', 'hands', 'eliminate', 'recession', 'three', 'phases', 'damage', 'main', 'street', 'ongoing', 'rescue', 'temp', 'recovery', 'credit', 'mkt', 'econ', 'unknown', 'second', 'shock', 'later', 'finally', 'brings', 'wall', 'down', 'altogether', 'spx', 'end', 'bootsuk', 'surgical', 'receiving', 'supposed', 'disinfect', 'real', 'worlds', 'petition', 'bev', 'colorado', 'starbucks', 'moves', 'bar', 'feels', 'update', 'make', 'listings', 'chick', 'fil', 'drive', 'model', 'early', 'include', 'king', 'sam', 'club', 'trying', 'opening', 'its', 'hour', 'each', 'exclusively', 'ton', 'then', 'greedy', 'mild', 'chance', 'transmission', 'study', 'cspi', 'guide', 'examines', 'largest', 'restaurant', 'sales', 'handling', 'good', 'policy', 'offer', 'locations', 'confirm', 'signage', 'says', 'precautions', 'light', 'stating', 'changing', 'efforts', 'management', 'speed', 'crucial', 'causing', 'unnecessary', 'problems', 'rice', 'him', 'years', 'panicshopping', 'pricegougers', 'caused', 'shortages', 'wasted', 'dates', 'shopkeepers', 'hoarders', 'selfishpeople', 'congress', 'temporarily', 'technical', 'corrections', 'currently', 'anyway', 'read', 'floor', 'returning', 'senate', 'fighting', 'financial', 'bureau', 'employee', 'federal', 'regulators', 'most', 'aircanada', 'very', 'poor', 'algorithms', 'refund', 'airport', 'population', 'compromised', 'clear', 'nygovcuomo', 'govinslee', 'job', 'handle', 'surge', 'related', 'danielandrewsmp', 'daughter', 'stories', 'friends', 'adults', 'act', 'stand', 'aged', 'woman', 'refused', 'boxes', 'isolating', 'symptomatic', 'neighbour', 'friend', 'agreed', 'attempt', 'skype', 'call', 'walking', 'problem', 'responsible', 'shit', 'available', 'nys', 'aware', 'uptick', 'scams', 'media', 'emails', 'texts', 'websites', 'scam', 'involving', 'product', 'visit', 'website', 'hotline', 'able', 'tell', 'understands', 'restricted', 'movement', 'katie', 'amongst', 'respect', 'least', 'fyi', 'notice', 'nasty', 'mentions', 'supporting', 'industries', 'market', 'trump', 'cut', 'medicare', 'security', 'benefits', 'stamps', 'remove', 'pre', 'existing', 'conditions', 'coverage', 'aca', 'charlotte', 'voluntarily', 'concerns', 'tough', 'decision', 'remember', 'option', 'want', 'heb', 'h', 'e', 'b', 'fan', 'appreciate', 'limit', 'tho', 'concern', 'lack', 'push', 'towards', 'pickups', 'charge', 'per', 'item', 'cart', 'happy', 'o', 'uneasy', 'thats', 'lets', 'small', 'ordering', 'move', 'tackling', 'implement', 'restrict', 'hoarding', 'creating', 'prosecute', 'gougers', 'pricegouging', 'cyber', 'reveal', 'personal', 'info', 'avoid', 'clicking', 'unsolicited', 'links', 'trusted', 'sources', 'report', 'attacks', 'queues', 'guns', 'scared', 'happen', 'families', 'spark', 'centre', 'calls', 'nz', 'based', 'asking', 'app', 'lottery', 'stockmarket', 'toiletpaper', 'arizona', 'foxnews', 'fox', 'phoenix', 'bad', 'habit', 'definitely', 'hospital', 'wearing', 'scrubs', 'nobody', 'wants', 'medtwitter', 'leaders', 'realize', 'kashmir', 'struggle', 'state', 'piles', 'imagine', 'wake', 'european', 'ordered', 'wonder', 'rations', 'past', 'start', 'fml', 'catch', 'saving', 'hella', 'delayed', 'car', 'wanna', 'transport', 'hell', 'apparently', 'worked', 'wipe', 'ass', 'hearing', 'national', 'wednesday', 'th', 'ammo', 'believe', 'ugly', 'source', 'cares', 'broke', 'feed', 'long', 'pasta', 'stockpiled', 'em', 'starve', 'hoarder', 'effort', 'win', 'pr', 'game', 'difference', 'trending', 'freaked', 'shelf', 'control', 'realdonaldtrump', 'sake', 'actually', 'dispenser', 'soap', 'enter', 'unfortunately', 'feeding', 'hungry', 'staysafe', 'frontlines', 'chocolate', 'dark', 'circles', 'seeds', 'grow', 'flowers', 'manual', 'survive', 'apocalypse', 'gin', 'announcement', 'electronics', 'walmart', 'add', 'hire', 'sanitiser', 'roll', 'leaving', 'rest', 'realise', 'nearly', 'year', 'old', 'piled', 'cupboard', 'tubs', 'priorities', 'person', 'capability', 'encourage', 'relative', 'city', 'alternate', 'killing', 'selling', 'survival', 'almost', 'cheaper', 'edition', 'fitting', 'rooms', 'pact', 'upset', 'rn', 'fit', 'bars', 'reminded', 'ignorance', 'corporate', 'america', 'opportunities', 'apparent', 'turning', 'photo', 'edinburgh', 'night', 'gov', 'classed', 'skilled', 'hit', 'thread', 'distance', 'drivers', 'relatives', 'position', 'actual', 'footage', 'together', 'panicbuyers', 'pop', 'various', 'groups', 'toll', 'number', 'infant', 'formula', 'send', 'hoax', 'checked', 'freeze', 'dried', 'seems', 'sold', 'although', 'stockpiling', 'silver', 'linings', 'cloud', 'post', 'mates', 'haven', 'panicked', 'provisions', 'idiot', 'smashed', 'mine', 'kills', 'mass', 'hysteria', 'isn', 'successfully', 'contracting', 'pack', 'milk', 'cat', 'treats', 'god', 'save', 'cases', 'province', 'paycheck', 'supplying', 'sensible', 'suggest', 'isolate', 'telling', 'american', 'households', 'impacted', 'taken', 'saturday', 'w', 'black', 'beauty', 'train', 'tourists', 'colleagues', 'running', 'respecting', 'measures', 'americans', 'nordstrom', 'rack', 'washington', 'st', 'retailnews', 'phishing', 'updates', 'experiences', 'colleague', 'pm', 'ask', 'cartons', 'almond', 'convince', 'myself', 'sh', 'currency', 'rate', 'oil', 'changes', 'fluctuations', 'coronavirusindia', 'lifestyle', 'correction', 'wisdom', 'nature', 'henry', 'provides', 'guess', 'press', 'hysterical', 'disabilities', 'step', 'shoot', 'pickup', 'contamination', 'strain', 'google', 'build', 'hrs', 'savvy', 'joining', 'uae', 'contain', 'considering', 'mall', 'visitors', 'gym', 'areas', 'centres', 'lulu', 'operating', 'routine', 'given', 'postponed', 'til', 'nov', 'meeting', 'discussions', 'experienced', 'epidemic', 'likely', 'forward', 'stuck', 'indoors', 'decided', 'wasn', 'kept', 'boomers', 'flights', 'infect', 'meanwhile', 'massgovernor', 'announces', 'fund', 'ma', 'including', 'nonprofits', 'lt', 'part', 'release', 'sauce', 'pizza', 'did', 'dallas', 'become', 'italian', 'killer', 'pres', 'private', 'sector', 'access', 'turn', 'cnn', 'resist', 'herd', 'mentality', 'coronaviruspandemic', 'fulfill', 'return', 'drsanjaygupta', 'newday', 'touted', 'critical', 'avail', 'coronavir', 'multiple', 'citizens', 'warning', 'late', 'coronavirusupdates', 'drops', 'latest', 'extent', 'auto', 'transportation', 'banking', 'investing', 'article', 'sane', 'escalated', 'impending', 'ministry', 'domestic', 'trade', 'affairs', 'warned', 'fake', 'increasingly', 'masses', 'becoming', 'chaotic', 'kicked', 'starting', 'nose', 'drink', 'writer', 'usual', 'recipe', 'fans', 'regarding', 'pregnant', 'women', 'vaccinations', 'frequently', 'away', 'ways', 'chief', 'officer', 'fee', 'colors', 'rainbow', 'boost', 'medicine', 'fridge', 'pantry', 'foodshortage', 'foodsecurity', 'stockpile', 'sad', 'hotel', 'vendor', 'associated', 'room', 'costing', 'nights', 'willing', 'levels', 'usa', 'u', 'fashion', 'collapse', 'stockmarkets', 'governments', 'ulta', 'shuts', 'drop', 'every', 'fucking', 'bog', 'goes', 'worse', 'pricks', 'canada', 'cleans', 'section', 'infection', 'heri', 'ensures', 'safest', 'space', 'shall', 'ransacked', 'craziness', 'retailworkers', 'btw', 'infrastructure', 'sudden', 'nice', 'pay', 'reflected', 'survey', 'leads', 'guard', 'placing', 'military', 'raided', 'needing', 'driver', 'banning', 'shame', 'leading', 'tops', 'lead', 'heavily', 'interaction', 'dtc', 'looking', 'toward', 'brick', 'mortar', 'facilitate', 'growth', 'question', 'happens', 'manufactures', 'plants', 'shutdowns', 'beats', 'classic', 'wheels', 'big', 'meal', 'mcdonald', 'r', 'ubereats', 'code', 'cs', 'apply', 'hyvee', 'sunday', 'blue', 'springs', 'missouri', 'develops', 'begin', 'forms', 'asda', 'tesco', 'morrisons', 'sainsburys', 'minimum', 'basket', 'forgot', 'wish', 'predicted', 'between', 'air', 'strikes', 'iraqi', 'itself', 'dealing', 'greatest', 'governance', 'challenge', 'invasion', 'f', 'receipt', 'coronavirusinpakistan', 'florida', 'door', 'along', 'seem', 'leaves', 'fate', 'announced', 'fluctuate', 'encouraged', 'places', 'gathering', 'di', 'ang', 'realizing', 'aggressive', 'behaviour', 'streets', 'aisles', 'thrilled', 'war', 'threat', 'true', 'selves', 'emerge', 'stress', 'failing', 'lax', 'standards', 'im', 'veg', 'coffee', 'participating', 'runs', 'era', 'lean', 'difficult', 'accommodate', 'huge', 'surges', 'strong', 'nytimes', 'unprecedented', 'opting', 'indefinitely', 'novel', 'fl', 'agriculture', 'commissioner', 'dept', 'activated', 'summer', 'children', 'afternoon', 'bet', 'learn', 'wellness', 'reacting', 'coz', 'danger', 'neighbouring', 'kenya', 'requesting', 'tonight', 'french', 'president', 'macron', 'imposed', 'declaring', 'municipal', 'elections', 'allowed', 'duties', 'trips', 'pharmacy', 'fraud', 'information', 'commission', 'religious', 'finding', 'clearing', 'kill', 'winning', 'games', 'vulnerable', 'crowds', 'costco', 'multiply', 'zombie', 'mountain', 'members', 'financially', 'options', 'unique', 'prepared', 'reliable', 'electric', 'binge', 'dream', 'enjoy', 'everyday', 'millennials', 'habits', 'generation', 'allow', 'change', 'beyond', 'disappointed', 'humanity', 'planning', 'insurance', 'stayconnected', 'hello', 'brother', 'sister', 'connect', 'mainly', 'place', 'countries', 'devastating', 'effect', 'depression', 'yelled', 'garlic', 'australian', 'soo', 'loves', 'commerce', 'started', 'level', 'commodities', 'disappear', 'allowing', 'dying', 'alone', 'deserve', 'nation', 'else', 'dave', 'korea', 'limiting', 'necessity', 'giant', 'adding', 'positions', 'importantly', 'prioritizing', 'marijuana', 'patients', 'grab', 'convid', 'courier', 'partners', 'amazonin', 'flipkart', 'vast', 'distances', 'trains', 'handled', 'carriers', 'hiking', 'cashing', 'ebay', 'ridiculous', 'impacting', 'workforce', 'pwc', 'barely', 'managers', 'troubling', 'tracking', 'industry', 'blog', 'tuned', 'friday', 'bogus', 'kits', 'crush', 'spreads', 'keeps', 'assures', 'stopthespread', 'research', 'shown', 'faster', 'authorities', 'moved', 'kinds', 'designed', 'slow', 'disease', 'npr', 'facemask', 'catching', 'proper', 'scarcity', 'resources', 'gallons', 'eggs', 'reading', 'hopefully', 'locally', 'course', 'needless', 'feelings', 'san', 'mayor', 'london', 'announce', 'april', 'midnight', 'tuesday', 'doctors', 'visits', 'plunging', 'drove', 'according', 'apple', 'reopened', 'greater', 'grown', 'highest', 'loving', 'quiet', 'tube', 'terrible', 'fantastic', 'ticket', 'turmoil', 'deeper', 'relationships', 'insurers', 'society', 'large', 'welfare', 'odisha', 'effective', 'steps', 'protective', 'oregon', 'kate', 'brown', 'site', 'dining', 'takeout', 'europe', 'muppets', 'again', 'yorkshire', 'anthony', 'fauci', 'guidelines', 'inconvenient', 'reflect', 'deteriorating', 'assessment', 'containment', 'seriously', 'overreaction', 'centers', 'recommended', 'cancel', 'postpone', 'gatherings', 'eight', 'issued', 'prisoners', 'released', 'view', 'italy', 'created', 'prison', 'cell', 'suspect', 'whereas', 'india', 'face', 'extremely', 'bharat', 'rule', 'surveyed', 'ventilators', 'losing', 'income', 'homes', 'bailing', 'virtue', 'excessive', 'stations', 'makro', 'selfquarantine', 'suggests', 'medication', 'birth', 'shaky', 'ground', 'hear', 'listen', 'absolute', 'chaos', 'hardly', 'paracetamol', 'tills', 'haunt', 'quick', 'homeless', 'answer', 'limited', 'sucks', 'denying', 'condition', 'postal', 'throughout', 'sectors', 'forefront', 'societies', 'type', 'piling', 'stopped', 'loo', 'moms', 'watching', 'playing', 'ireland', 'monitored', 'looks', 'staythefhome', 'selfisolation', 'scene', 'foreigners', 'finland', 'ron', 'diesel', 'buses', 'combat', 'evolving', 'rapidly', 'reopen', 'uncertain', 'aims', 'sell', 'wholesale', 'jeremy', 'hunt', 'intervention', 'helping', 'disagree', 'strategy', 'campaign', 'frightened', 'l', 'takes', 'fall', 'energy', 'natural', 'gas', 'production', 'crushing', 'coal', 'shift', 'fuels', 'power', 'welcome', 'stophoarding', 'alan', 'jones', 'radio', 'silly', 'perhaps', 'exactly', 'journal', 'sets', 'period', 'valley', 'trading', 'tomorrow', 'enhanced', 'luzon', 'owners', 'coronavirussa', 'lvmh', 'converting', 'perfume', 'factories', 'ikea', 'ecommerce', 'crowd', 'stops', 'coronapocalypse', 'holidays', 'quarantined', 'dubai', 'learning', 'drinks', 'insure', 'winery', 'closure', 'mon', 'rd', 'wine', 'contacted', 'paypal', 'addiction', 'wherever', 'shelfs', 'compassion', 'tissue', 'coronaoutbreak', 'talked', 'foodsafety', 'immunocompromised', 'opt', 'packaging', 'fruits', 'download', 'applications', 'smartphones', 'easier', 'recover', 'agencies', 'secure', 'cattle', 'sheep', 'plates', 'shared', 'reach', 'questions', 'pharmacies', 'smart', 'mothers', 'infected', 'lil', 'math', 'milwaukee', 'highriskcovid', 'alibaba', 'beijing', 'faring', 'checks', 'interviews', 'manager', 'mypov', 'chatter', 'background', 'lock', 'plans', 'preppers', 'wks', 'peak', 'sarscov', 'homebound', 'guy', 'generally', 'enjoying', 'remained', 'whom', 'address', 'issue', 'registered', 'multi', 'specialty', 'clinic', 'mis', 'bengaluru', 'plenty', 'suppliers', 'insist', 'bulk', 'excessively', 'texas', 'spoken', 'nurse', 'better', 'cure', 'beat', 'wear', 'cloth', 'cover', 'mouth', 'crowded', 'meter', 'strangers', 'homemade', 'recovering', 'employed', 'fred', 'meyer', 'jack', 'cdcgov', 'box', 'suggestion', 'pls', 'pharmacist', 'cruel', 'ba', 'rock', 'ignorant', 'deliberately', 'blind', 'accurate', 'lies', 'despite', 'opec', 'affect', 'sharp', 'prolonged', 'lower', 'talks', 'nervous', 'measure', 'stick', 'figures', 'effects', 'voice', 'spending', 'patterns', 'regions', 'asset', 'perspective', 'react', 'behaviors', 'surged', 'takeaways', 'reps', 'border', 'bil', 'loans', 'mortgages', 'treatments', 'footing', 'follow', 'bonds', 'stocks', 'crashing', 'bothered', 'fuck', 'looting', 'shooting', 'perspectives', 'inflation', 'consumption', 'fold', 'growing', 'uncertainty', 'triggered', 'alike', 'surveys', 'cuts', 'restocking', 'reduced', 'restock', 'sanitize', 'billion', 'prompts', 'referring', 'downturn', 'activity', 'dispute', 'dow', 'hygienic', 'storing', 'nan', 'bright', 'spot', 'babies', 'spared', 'severe', 'wow', 'standing', 'child', 'hey', 'keeping', 'lady', 'assholes', 'vile', 'outlets', 'non', 'opens', 'hub', 'york', 'ap', 'produce', 'college', 'toronto', 'newzealand', 'exports', 'previously', 'elizabeth', 'warren', 'returns', 'pharma', 'language', 'preventing', 'profits', 'vaccines', 'drug', 'funding', 'wins', 'father', 'restriction', 'station', 'hang', 'del', 'pass', 'sanitized', 'minimise', 'chances', 'deadly', 'portable', 'minofhealthug', 'mondaymotivation', 'wallstreet', 'appreciation', 'term', 'driven', 'tax', 'planet', 'shore', 'raw', 'prognosis', 'sitting', 'internet', 'traffic', 'earn', 'raise', 'tools', 'remote', 'bitcoin', 'falling', 'technology', 'reporter', 'anywhere', 'pmoindia', 'narendramodi', 'request', 'bring', 'action', 'hold', 'mrp', 'suffer', 'town', 'trip', 'waste', 'heading', 'purpose', 'ashamed', 'dogs', 'flocking', 'hazard', 'survived', 'atleast', 'carry', 'mask', 'huh', 'broad', 'communication', 'whose', 'queue', 'jersey', 'murphy', 'except', 'ashley', 'ahead', 'wave', 'donate', 'scraps', 'behind', 'responses', 'asked', 'recently', 'detailed', 'wallet', 'shanghai', 'worsening', 'circumstances', 'spring', 'bargain', 'sale', 'season', 'defined', 'engagement', 'providers', 'seek', 'attention', 'sanfrancisco', 'amzn', 'strained', 'sparks', 'highly', 'rs', 'kindly', 'variety', 'earth', 'punjab', 'practice', 'monitor', 'required', 'assist', 'unknowingly', 'sainsbury', 'approaching', 'doomsday', 'fast', 'coronavirusnz', 'privileged', 'melbourne', 'grandma', 'gloves', 'gouging', 'affected', 'vigilant', 'proactive', 'au', 'les', 'de', 'le', 'greed', 'death', 'swept', 'rich', 'sustain', 'bare', 'refrain', 'unnecessarily', 'message', 'continuity', 'clients', 'vendors', 'reporting', 'agency', 'ever', 'rely', 'verified', 'data', 'identity', 'mcdonalds', 'subway', 'hint', 'ryan', 'felt', 'severely', 'debit', 'cards', 'touching', 'touched', 'persons', 'age', 'pittsburgh', 'icelandfoods', 'lifeline', 'finished', 'nursing', 'role', 'wildlife', 'scrutiny', 'pushing', 'species', 'brink', 'animal', 'farms', 'endangered', 'principal', 'govt', 'sars', 'cov', 'contagious', 'undocumented', 'infections', 'supported', 'arseholes', 'harder', 'stopstockpiling', 'waiting', 'los', 'angeles', 'launch', 'series', 'entertainment', 'venues', 'field', 'offices', 'dentists', 'ups', 'gratitude', 'nurses', 'healthcare', 'fire', 'fighters', 'emts', 'shape', 'hide', 'crude', 'responding', 'contagion', 'stimulate', 'gets', 'foresee', 'paying', 'card', 'federalreserve', 'stretching', 'economics', 'finance', 'ivankatrump', 'millions', 'livelihood', 'stir', 'practicing', 'sweep', 'nightmare', 'putting', 'ammunition', 'soar', 'toiletpaperpanic', 'indian', 'sf', 'bay', 'bbcbreakfast', 'accepting', 'checking', 'hon', 'bag', 'drama', 'epicenter', 'seattle', 'lots', 'note', 'shelter', 'bingo', 'total', 'thousands', 'fellow', 'human', 'beings', 'okay', 'primark', 'dinner', 'till', 'friendly', 'picky', 'eater', 'approved', 'saver', 'listening', 'weekly', 'quite', 'surreal', 'risking', 'incase', 'contract', 'dollar', 'neighbors', 'recent', 'biz', 'smallbiz', 'howard', 'chicken', 'globally', 'prep', 'device', 'kuwait', 'tons', 'sites', 'finger', 'trust', 'law', 'tempting', 'boredom', 'bum', 'nope', 'fmi', 'highlights', 'sparked', 'association', 'stressing', 'nike', 'urban', 'joined', 'organisations', 'recognition', 'slowing', 'richmond', 'staythefuckhome', 'cult', 'films', 'wreaking', 'havoc', 'wholefoods', 'prime', 'amazonfresh', 'limits', 'yall', 'another', 'blood', 'bath', 'medicaid', 'fascinating', 'piece', 'honest', 'tv', 'baby', 'boom', 'ten', 'subsequent', 'repeat', 'happened', 'received', 'informing', 'glad', 'managed', 'delivered', 'precautionary', 'walks', 'sydney', 'coronavirusaustralia', 'governor', 'cuomo', 'husband', 'expose', 'himself', 'unless', 'portugal', 'pt', 'francisco', 'curfew', 'residents', 'banned', 'doctor', 'oh', 'mins', 'max', 'wtf', 'influencing', 'ripple', 'dairy', 'battered', 'depressed', 'garden', 'planting', 'carrots', 'commodity', 'unfair', 'display', 'drharshvardhan', 'mohfw', 'coronaindia', 'wic', 'symbol', 'beside', 'switch', 'brand', 'handed', 'makemytrip', 'flight', 'bookings', 'dated', 'circular', 'cancellation', 'org', 'communicating', 'ran', 'lime', 'vote', 'biden', 'bernie', 'cancelling', 'ultimate', 'bo', 'jo', 'gave', 'conference', 'minutes', 'appears', 'slot', 'surrounding', 'reassuring', 'resilience', 'dropped', 'barrel', 'amidst', 'saudi', 'arabia', 'monica', 'lightly', 'seasoning', 'trader', 'joe', 'coronavid', 'abc', 'tomato', 'cleaners', 'cereal', 'diet', 'coke', 'esp', 'models', 'disappeared', 'printing', 'prop', 'corporations', 'hospitals', 'requires', 'location', 'pocket', 'rocket', 'anxious', 'disorder', 'miss', 'boyfriend', 'bestbuy', 'guys', 'basically', 'asymptomatic', 'clubs', 'fuel', 'effecting', 'express', 'loss', 'rent', 'mortgage', 'ect', 'temporary', 'mandated', 'asap', 'messages', 'repost', 'quarantineandchill', 'socialdistance', 'walked', 'miles', 'eerie', 'deserted', 'staples', 'ourselves', 'alonetogether', 'suspending', 'shutoffs', 'senior', 'meet', 'damaged', 'sp', 'discretionary', 'firmly', 'chart', 'luxury', 'watch', 'expected', 'expiration', 'package', 'gop', 'opposition', 'homedepot', 'showing', 'complaining', 'buyer', 'million', 'visiting', 'weather', 'storm', 'solution', 'appealing', 'cats', 'rights', 'cautiously', 'adjusts', 'abroad', 'nearest', 'fucked', 'economically', 'profit', 'claim', 'strip', 'ni', 'unsung', 'heroes', 'cashiers', 'michigan', 'sentiment', 'index', 'decline', 'accelerates', 'regina', 'anticipating', 'donations', 'cbc', 'uh', 'tests', 'hurts', 'wheelchair', 'arrived', 'partner', 'c', 'political', 'helpers', 'shopper', 'co', 'verbally', 'assaulted', 'tip', 'pace', 'madness', 'exploitation', 'berlin', 'bbcnews', 'book', 'traderjoes', 'typically', 'targeted', 'solutions', 'prince', 'george', 'tank', 'halted', 'fixed', 'phase', 'slowly', 'costs', 'cents', 'gallon', 'fell', 'midwest', 'decrease', 'transactions', 'parked', 'safeway', 'tea', 'ginger', 'lemon', 'honey', 'settles', 'sos', 'aldiusa', 'aldi', 'exhausted', 'coronavirussouthafrica', 'commitment', 'adjusting', 'scheduled', 'loads', 'parts', 'portal', 'pumping', 'lowering', 'rates', 'solve', 'earning', 'drawing', 'funds', 'advisers', 'specific', 'trolley', 'bug', 'fuckin', 'unlike', 'ftc', 'posts', 'smith', 'immediately', 'weighing', 'mintel', 'experts', 'marketresearch', 'consumerinsights', 'consumerbehavior', 'entity', 'calculated', 'bomb', 'invisible', 'behalf', 'peers', 'clock', 'labor', 'breathe', 'demands', 'grocerystores', 'supermarketsweep', 'sellers', 'expects', 'heightened', 'distribution', 'describe', 'brought', 'essentially', 'doubt', 'slowed', 'eastern', 'carolina', 'mission', 'forever', 'animals', 'pension', 'holders', 'tried', 'midst', 'seating', 'wv', 'ag', 'regret', 'purchasing', 'junk', 'comfort', 'arrive', 'anticipated', 'revenue', 'account', 'trinidad', 'tobago', 'minister', 'fines', 'cautious', 'dude', 'montreal', 'protein', 'heal', 'waitrose', 'launched', 'cant', 'simply', 'figure', 'bold', 'proof', 'retailer', 'hassle', 'solidarity', 'exacerbate', 'suffering', 'drtedros', 'videos', 'piano', 'technicians', 'guild', 'compiled', 'advisory', 'explaining', 'prompted', 'continuing', 'document', 'finish', 'smaller', 'bags', 'containers', 'overly', 'training', 'meets', 'explained', 'pretend', 'marketplace', 'bills', 'january', 'yougov', 'different', 'shifting', 'voters', 'democracy', 'explore', 'findings', 'physicaldistancing', 'flagship', 'history', 'draft', 'wage', 'replacement', 'exemptions', 'imo', 'bottom', 'contrary', 'popular', 'gold', 'investors', 'worldwide', 'crypto', 'pork', 'estate', 'placement', 'handwash', 'condoms', 'facemasks', 'diy', 'kit', 'born', 'serving', 'thanking', 'enduring', 'groceryshopping', 'grocerystore', 'grocer', 'thankyou', 'thankful', 'students', 'availability', 'extended', 'break', 'arvindkejriwal', 'sir', 'evening', 'uber', 'vouchers', 'bored', 'sofa', 'passed', 'reaction', 'meant', 'foodbanks', 'establishes', 'spain', 'gotta', 'nj', 'clerks', 'farmers', 'truckers', 'disability', 'disgusted', 'slim', 'creativity', 'cooking', 'episode', 'chopped', 'risen', 'filling', 'fridges', 'lord', 'andy', 'penn', 'giving', 'broadband', 'unlimited', 'joke', 'bigger', 'moment', 'rather', 'headed', 'digital', 'traditional', 'engineer', 'weed', 'besides', 'diapers', 'married', 'curb', 'constantly', 'whilst', 'drones', 'reasonable', 'california', 'seller', 'busy', 'taxes', 'reschedule', 'cook', 'coronavirususa', 'mad', 'selfishness', 'pointless', 'acting', 'dead', 'labeled', 'chose', 'fired', 'badly', 'honestly', 'danish', 'guardian', 'reality', 'complete', 'chicago', 'feedback', 'develop', 'ing', 'meltdown', 'wondering', 'register', 'none', 'socially', 'distanced', 'kitchen', 'boris', 'reason', 'expecting', 'announcements', 'bangkok', 'everybody', 'paranoia', 'sounds', 'interested', 'eg', 'behaviours', 'ur', 'nappies', 'tbh', 'fb', 'psa', 'choice', 'al', 'bit', 'direction', 'nofood', 'maga', 'kag', 'tool', 'grip', 'bullshit', 'wipes', 'underwear', 'maryland', 'emptyshelves', 'wwg', 'wga', 'q', 'offline', 'barrier', 'ain', 'yell', 'alcohol', 'confusion', 'soooo', 'answers', 'ration', 'fill', 'universities', 'figured', 'understand', 'son', 'niece', 'thru', 'helps', 'repairs', 'isnt', 'mere', 'damn', 'relax', 'overnight', 'sporting', 'mother', 'gf', 'er', 'stayhomechallenge', 'firearms', 'continues', 'addresses', 'sending', 'indicate', 'pharmacists', 'lab', 'buys', 'cars', 'import', 'similar', 'charts', 'fuckers', 'demanding', 'seekers', 'operates', 'carrefour', 'rosie', 'baked', 'dr', 'filmed', 'personally', 'penalties', 'catastrophe', 'addressed', 'insecurity', 'riots', 'sa', 'pricing', 'practices', 'steep', 'discounts', 'cream', 'channels', 'active', 'tour', 'programs', 'shipping', 'stressful', 'rt', 'chris', 'caught', 'chip', 'nationally', 'fortune', 'wouldn', 'eu', 'directive', 'shout', 'salute', 'shoutout', 'coles', 'aldiaustralia', 'lawmakers', 'conduct', 'ri', 'caller', 'toddler', 'finds', 'emotion', 'describes', 'difficulty', 'flies', 'survivalist', 'bent', 'included', 'john', 'declaration', 'delaware', 'influx', 'unemployment', 'claims', 'egypt', 'truck', 'stepping', 'duty', 'couldn', 'complaints', 'microsoft', 'impressed', 'shot', 'tin', 'bins', 'shares', 'penne', 'driving', 'lived', 'differently', 'bout', 'solid', 'widespread', 'double', 'shifts', 'statistics', 'mini', 'responded', 'table', 'deserving', 'disaster', 'moscow', 'accelerating', 'forecast', 'soared', 'predominantly', 'asian', 'muslim', 'machine', 'network', 'loading', 'germany', 'turkey', 'chinesevirus', 'johnson', 'voluntary', 'assets', 'clears', 'misleading', 'hitting', 'hampers', 'operators', 'provided', 'gear', 'sent', 'compensate', 'allows', 'pics', 'knowing', 'noted', 'korean', 'owned', 'wiping', 'surfaces', 'concerned', 'ppl', 'horrible', 'writing', 'essays', 'acted', 'internationally', 'equity', 'announcing', 'climate', 'awful', 'provider', 'smile', 'mart', 'forced', 'boss', 'gather', 'bus', 'frontliners', 'handsanitizers', 'distributed', 'saudiarabia', 'coronauk', 'saint', 'tightening', 'literally', 'freak', 'agree', 'primarily', 'credible', 'journalism', 'cologne', 'prayers', 'victims', 'overtime', 'stressed', 'nonsense', 'visible', 'ill', 'understandable', 'adapting', 'grateful', 'chronic', 'butchers', 'bakers', 'wild', 'version', 'trumpplague', 'clarify', 'freaking', 'soul', 'stuffed', 'popped', 'thailand', 'monkeys', 'arrested', 'road', 'optimistic', 'platforms', 'shopee', 'respective', 'operational', 'dan', 'mummy', 'famous', 'german', 'sausages', 'se', 'asks', 'rant', 'proud', 'el', 'borders', 'fearful', 'creates', 'treatment', 'breath', 'recovers', 'smoothly', 'secret', 'tweeted', 'blocked', 'tweets', 'thrown', 'shocked', 'committee', 'artificially', 'strongly', 'logistics', 'truckdrivers', 'bunch', 'learned', 'likes', 'explain', 'harm', 'workplace', 'bakery', 'californiacoronavirus', 'beverage', 'platform', 'nd', 'queuing', 'maintaining', 'counter', 'grind', 'supreme', 'commercial', 'catering', 'clinics', 'optical', 'reserve', 'urging', 'produced', 'processed', 'cleared', 'cupboards', 'breakfast', 'program', 'suspended', 'cos', 'volunteers', 'lunchtime', 'creative', 'coronacrisis', 'loop', 'shutting', 'politicians', 'elected', 'obviously', 'shelters', 'letting', 'becomes', 'residence', 'education', 'knowledge', 'choose', 'canadians', 'justin', 'trudeau', 'affordable', 'carbon', 'farm', 'activities', 'slap', 'books', 'collection', 'rethink', 'iam', 'covidindia', 'jeffbezos', 'fam', 'building', 'tickets', 'nuts', 'mfs', 'tryna', 'race', 'awesome', 'assure', 'dutch', 'nah', 'marketcrash', 'purse', 'disposable', 'statewide', 'charles', 'cunts', 'simple', 'mode', 'egg', 'hording', 'triggers', 'yr', 'chill', 'learnt', 'magic', 'spell', 'joking', 'sore', 'throat', 'ball', 'appear', 'mess', 'russian', 'imp', 'correct', 'missing', 'discounted', 'santizers', 'coronavirusinindia', 'brothers', 'cities', 'towns', 'donaldjtrumpjr', 'category', 'chronically', 'importance', 'scaring', 'alright', 'swiss', 'status', 'tanks', 'mostly', 'virtually', 'feet', 'metro', 'fragility', 'laid', 'rampant', 'formed', 'gun', 'beating', 'vehicle', 'fares', 'matter', 'apps', 'wuhan', 'treating', 'proved', 'kr', 'assistance', 'massively', 'scary', 'civil', 'unrest', 'arms', 'ryanair', 'waiving', 'expensive', 'original', 'skynews', 'thursday', 'flyer', 'ply', 'lineup', 'didnt', 'veggies', 'soup', 'member', 'union', 'join', 'employers', 'abused', 'earliest', 'improve', 'opened', 'handing', 'individual', 'cmo', 'sky', 'central', 'covi', 'dropping', 'litre', 'van', 'lowest', 'flowing', 'machines', 'doug', 'baker', 'cbs', 'seconds', 'protecting', 'layer', 'travelling', 'rumors', 'pensioners', 'locals', 'potus', 'waive', 'citizen', 'costly', 'joins', 'speak', 'conversation', 'socks', 'pants', 'particular', 'menards', 'accused', 'doubling', 'experiencing', 'volumes', 'enquiries', 'cancellations', 'relating', 'advertising', 'reminder', 'surprisingly', 'ralphs', 'teachers', 'contributing', 'beware', 'ineffective', 'charity', 'pretending', 'netherlands', 'exporter', 'amsterdam', 'irony', 'chips', 'party', 'size', 'memes', 'six', 'stripped', 'flying', 'donation', 'onto', 'straight', 'charities', 'lesson', 'representatives', 'joint', 'secretary', 'council', 'appealed', 'laboratories', 'diagnosis', 'emotionally', 'reserves', 'ty', 'reassured', 'retailgazette', 'launches', 'expands', 'corvid', 'businessnews', 'diligently', 'useless', 'boosting', 'worries', 'tumble', 'pump', 'braving', 'officially', 'upcoming', 'rwanda', 'rwandans', 'considerate', 'ei', 'patient', 'visited', 'advised', 'advisor', 'abrupt', 'ended', 'aspect', 'worrying', 'judging', 'barren', 'bean', 'british', 'defeat', 'pledge', 'beer', 'shoplocal', 'supportlocal', 'lone', 'anonymous', 'mystery', 'among', 'checklist', 'grocers', 'twice', 'amounts', 'contribute', 'dozen', 'rwandatrade', 'leadership', 'cyrilramaphosa', 'fix', 'signs', 'respectful', 'specifically', 'registers', 'ages', 'medications', 'perishable', 'un', 'en', 'du', 'afp', 'reactions', 'rough', 'fires', 'lights', 'brave', 'humble', 'stocker', 'count', 'fancy', 'graduate', 'degrees', 'res', 'africa', 'fourth', 'maintain', 'virtual', 'example', 'judge', 'owe', 'incredible', 'sacrifice', 'trial', 'telemedicine', 'workfromhome', 'overseas', 'stole', 'inside', 'houses', 'absurd', 'kudos', 'appreciated', 'sephora', 'policies', 'adjusted', 'north', 'barcelona', 'reuters', 'albert', 'added', 'las', 'vegas', 'hardships', 'unlikely', 'negotiations', 'contracts', 'average', 'sprint', 'concerning', 'severity', 'deter', 'viruses', 'airways', 'choices', 'ban', 'wrong', 'evil', 'gamestop', 'five', 'induced', 'zoom', 'vons', 'albertsons', 'overheard', 'anyways', 'ex', 'girl', 'quicktake', 'jump', 'hugely', 'performance', 'urgent', 'mosul', 'moral', 'agricultural', 'wonderful', 'hse', 'gps', 'booze', 'heartfelt', 'professionals', 'enforcement', 'officers', 'scientists', 'dedication', 'fatal', 'sprayed', 'lysol', 'coughed', 'carts', 'tissues', 'sneeze', 'towel', 'bathroom', 'warehouses', 'motion', 'enhance', 'migration', 'pet', 'liquor', 'nintendo', 'projects', 'aldiuk', 'restricting', 'super', 'ray', 'leo', 'promises', 'payers', 'propaganda', 'whatsapp', 'artificial', 'pakistan', 'alarm', 'profiteering', 'poverty', 'traders', 'appointment', 'counting', 'lifesaving', 'former', 'tells', 'triple', 'capital', 'fiscal', 'stimulus', 'unavoidable', 'latin', 'mindful', 'nhs', 'insanity', 'reselling', 'fordnation', 'ontario', 'reserved', 'iowa', 'cybercriminals', 'preventative', 'discusses', 'refusing', 'butter', 'mike', 'interactions', 'desperate', 'ids', 'remind', 'helped', 'symptom', 'regardless', 'hawaii', 'executive', 'director', 'stephen', 'officials', 'fluid', 'onpoli', 'met', 'odd', 'appeal', 'carnage', 'ar', 'engage', 'yrs', 'mp', 'youre', 'disgrace', 'mentalhealth', 'marked', 'logo', 'substitute', 'blast', 'alive', 'canadalockdown', 'certainly', 'stance', 'materials', 'packets', 'bound', 'touch', 'treat', 'substitutes', 'cope', 'shameless', 'charged', 'nutritious', 'peeps', 'gift', 'selfcare', 'strategies', 'brad', 'emptying', 'restocked', 'pig', 'peas', 'sanity', 'makeup', 'technologies', 'expert', 'stacking', 'reflects', 'ah', 'conscience', 'gaming', 'resiliency', 'establish', 'consideration', 'sun', 'newspaper', 'tinned', 'growers', 'emissions', 'warming', 'brooklyn', 'earlier', 'fish', 'minus', 'bananas', 'cooked', 'eaten', 'bro', 'writes', 'sindh', 'spokesman', 'terms', 'facilities', 'exclusive', 'criminal', 'washyourhands', 'addressing', 'eye', 'fraudulent', 'charges', 'ted', 'nielsen', 'appalled', 'responsibly', 'chefs', 'weird', 'remaining', 'connectivity', 'allies', 'ceos', 'lift', 'caps', 'wells', 'fargo', 'committed', 'trained', 'specialist', 'lending', 'assured', 'tirelessly', 'removed', 'prohibits', 'profiting', 'tragedy', 'mention', 'pushed', 'furniture', 'tuesdaythoughts', 'dontbeaspreader', 'disrupted', 'dedicate', 'sterilize', 'kinda', 'mail', 'requests', 'foodbank', 'disasters', 'situations', 'certain', 'instability', 'postponing', 'bulletin', 'hugs', 'intelligence', 'housing', 'explores', 'perishables', 'throw', 'sanitisers', 'mums', 'mate', 'snap', 'authorized', 'purchases', 'populations', 'dod', 'recommends', 'prescription', 'comprehensive', 'interviewing', 'interview', 'roof', 'crashed', 'owner', 'weapon', 'therapy', 'barrie', 'bracing', 'workplaces', 'bloody', 'enforce', 'relatively', 'baseball', 'shipped', 'stuffs', 'nepal', 'merchants', 'hiding', 'elonmusk', 'feared', 'strict', 'harvest', 'seeks', 'monetary', 'clothing', 'green', 'urges', 'downtown', 'respond', 'certificates', 'attack', 'enemy', 'schedule', 'temperatures', 'occurs', 'legends', 'carers', 'surgery', 'jam', 'inventory', 'laugh', 'expansion', 'residential', 'fever', 'four', 'yvr', 'vancouver', 'rolling', 'laughing', 'century', 'teach', 'transferred', 'nutrition', 'quarter', 'round', 'ward', 'suit', 'advertise', 'hopes', 'focused', 'coordinated', 'agenda', 'cpg', 'consequences', 'heart', 'failure', 'diabetes', 'timeline', 'frightening', 'hanging', 'convenient', 'direct', 'merchandise', 'fearing', 'thresholds', 'seo', 'sem', 'smo', 'smm', 'websitedesign', 'digitalmarketing', 'singapore', 'imports', 'fed', 'lie', 'superior', 'district', 'violation', 'savages', 'raiding', 'chinavirus', 'losangeles', 'assess', 'brace', 'yourselves', 'surviving', 'neighborhood', 'weapons', 'rush', 'heck', 'railways', 'panicbuy', 'argued', 'unusual', 'prescriptions', 'helpful', 'moratorium', 'yomequedoencasa', 'convert', 'premises', 'gain', 'presence', 'globe', 'investments', 'forces', 'salad', 'brilliant', 'crash', 'liquidity', 'record', 'tackle', 'dial', 'flexible', 'observations', 'obvious', 'tomatoes', 'sauces', 'scratch', 'federation', 'advocates', 'advance', 'councillor', 'haha', 'laptop', 'electricity', 'wind', 'significantly', 'combination', 'momlife', 'gender', 'usage', 'ice', 'prepping', 'aka', 'points', 'wealthy', 'excuse', 'rising', 'enforced', 'minute', 'counts', 'entering', 'spin', 'discount', 'grandparents', 'fortunately', 'interviewed', 'kelly', 'podcast', 'discussion', 'starts', 'informed', 'houston', 'scrambles', 'apocalyptic', 'zero', 'hedge', 'shoe', 'zone', 'park', 'reached', 'disruption', 'medium', 'ebola', 'emerging', 'operations', 'affects', 'mental', 'minimize', 'quarentine', 'turned', 'racial', 'blaming', 'northern', 'freezing', 'reserving', 'phones', 'pin', 'pads', 'handles', 'elevator', 'buttons', 'volatile', 'risks', 'gm', 'sm', 'robinsons', 'mark', 'died', 'edt', 'chamber', 'globeandmail', 'comment', 'hike', 'menu', 'ring', 'thrive', 'vegan', 'uganda', 'booked', 'hikes', 'favorites', 'southafrica', 'christ', 'depot', 'pull', 'red', 'window', 'cruise', 'newly', 'isles', 'plentiful', 'scarce', 'amy', 'explains', 'prepare', 'glance', 'plunge', 'degree', 'fintech', 'contactless', 'processing', 'op', 'celebrities', 'bradpaisley', 'nashville', 'continually', 'reasons', 'wisely', 'decreases', 'holiday', 'constant', 'catherine', 'stealing', 'row', 'anti', 'maximum', 'euros', 'polite', 'manufacturers', 'organization', 'expired', 'largely', 'spice', 'x', 'retailing', 'closings', 'partial', 'segments', 'interactive', 'kindness', 'exploiting', 'pray', 'stpatricksday', 'stayathomechallenge', 'firstresponders', 'winners', 'mile', 'radius', 'sidewalk', 'bottled', 'bat', 'cool', 'piersmorgan', 'pub', 'lately', 'sacrificing', 'tremendous', 'force', 'roads', 'aside', 'dollargeneral', 'arthritis', 'listed', 'sponsor', 'slower', 'curbed', 'returned', 'official', 'basis', 'overall', 'vital', 'guarantees', 'honored', 'transfer', 'players', 'euro', 'genius', 'picking', 'bump', 'baking', 'surprising', 'tonic', 'g', 'lawsuits', 'dressed', 'hazmat', 'protip', 'laundry', 'realjameswoods', 'lowered', 'ebook', 'fantasy', 'covered', 'vegetable', 'behave', 'frustration', 'faced', 'band', 'jaketapper', 'cross', 'clorox', 'opposite', 'grandpa', 'ramen', 'levity', 'owns', 'comedy', 'copper', 'designated', 'intended', 'p', 'publichealth', 'difficulties', 'firms', 'prompting', 'ultimately', 'indicator', 'value', 'vs', 'skip', 'fe', 'stayinghome', 'sessions', 'managing', 'facetime', 'mid', 'practise', 'whenever', 'dispensers', 'besafe', 'keepcalm', 'attendants', 'types', 'predict', 'wide', 'peter', 'claiming', 'overwhelmed', 'advertisers', 'warehouse', 'consistently', 'recruit', 'hospitality', 'mix', 'match', 'bake', 'cookie', 'ca', 'yeg', 'missed', 'trades', 'tesla', 'apartment', 'hospitalized', 'construction', 'smh', 'theage', 'rental', 'halt', 'evictions', 'flyfrontier', 'stepped', 'brewery', 'navigate', 'unfolding', 'recommendations', 'provincial', 'wal', 'noise', 'ad', 'epic', 'smells', 'shelterinplace', 'client', 'craig', 'breweries', 'distilleries', 'bike', 'spaces', 'pulls', 'vaccination', 'jd', 'com', 'surprised', 'clearly', 'olds', 'rebecca', 'inspired', 'noticed', 'trend', 'momentum', 'europeans', 'identifying', 'prompt', 'overreacting', 'error', 'lad', 'male', 'oap', 'washed', 'theme', 'birthday', 'scanning', 'receipts', 'pharmaceutical', 'outrageous', 'ts', 'handsanitizer', 'cap', 'sto', 'shirts', 'accidentally', 'delicious', 'crunch', 'refuse', 'picked', 'apart', 'coronamemes', 'reliance', 'volume', 'supplychain', 'introvert', 'replace', 'genuinely', 'replenish', 'present', 'approach', 'temperature', 'laws', 'welp', 'luck', 'coronavirusaus', 'plague', 'pic', 'gasprices', 'ya', 'cup', 'noodles', 'investigation', 'identified', 'threshold', 'tie', 'directly', 'laughter', 'craze', 'speaking', 'basics', 'shutter', 'thin', 'destinations', 'classy', 'sort', 'malaysians', 'generated', 'grace', 'expand', 'gaps', 'highstreet', 'blame', 'cx', 'sufficient', 'wakeup', 'turbulent', 'licking', 'excess', 'londoners', 'sneezes', 'coughs', 'bailouts', 'stupidity', 'fails', 'delivering', 'haul', 'killed', 'sight', 'golden', 'farmer', 'filed', 'entertained', 'reduction', 'kenyans', 'firm', 'handwashing', 'ke', 'regional', 'deeply', 'afghanistan', 'doubled', 'mom', 'awhile', 'catastrophic', 'foodservice', 'dog', 'baskets', 'tone', 'deaf', 'considerations', 'diverse', 'believes', 'premier', 'ford', 'described', 'prevents', 'hustle', 'grass', 'organic', 'skyrocket', 'duration', 'denver', 'warns', 'hidden', 'cutting', 'drag', 'toiletpaperemergency', 'physically', 'forcing', 'frequent', 'painful', 'pets', 'administration', 'countless', 'salary', 'smiling', 'carefully', 'instructions', 'relates', 'prioritise', 'liar', 'compared', 'deaths', 'influenza', 'reaching', 'sanitise', 'believed', 'function', 'garbage', 'pickers', 'packed', 'tap', 'perfectly', 'bodega', 'burn', 'buck', 'bite', 'nyclockdown', 'accc', 'loose', 'squeeze', 'rinse', 'pulses', 'lentils', 'hmmm', 'hcw', 'wet', 'excellent', 'consume', 'timely', 'balance', 'defeated', 'tactics', 'hmm', 'agreement', 'pl', 'ladies', 'twitter', 'desperation', 'capitalize', 'amend', 'theres', 'passing', 'ghana', 'adhering', 'keto', 'steak', 'ny', 'fairly', 'campaigns', 'words', 'civilization', 'incredibly', 'reminding', 'accordingly', 'liquid', 'otc', 'reassure', 'interim', 'powerful', 'sneezed', 'unexpected', 'obscene', 'scoopit', 'funny', 'ironic', 'usually', 'knew', 'wanting', 'patrick', 'chewy', 'eats', 'sickness', 'widely', 'track', 'dine', 'toiletpaperapocalypse', 'thinks', 'irresponsible', 'inconvenience', 'lenders', 'creditors', 'nowhere', 'escape', 'discuss', 'east', 'truth', 'socialism', 'socialist', 'decide', 'david', 'disinformation', 'pulled', 'chatting', 'yikes', 'lidlgb', 'urgently', 'inner', 'peace', 'dontpanic', 'protections', 'bailout', 'airlines', 'taxpayers', 'fewer', 'subscription', 'practical', 'ideas', 'austerity', 'raising', 'poorest', 'net', 'hoarded', 'fijian', 'competition', 'fijians', 'carrying', 'fbcnews', 'fijinews', 'fiji', 'disruptions', 'ability', 'renewed', 'utilize', 'sheets', 'practitioners', 'illinois', 'entered', 'pills', 'subject', 'myths', 'winter', 'southern', 'distributors', 'ed', 'quit', 'used', 'designer', 'awareness', 'irish', 'tradition', 'pritzker', 'acquired', 'heartbreaking', 'seven', 'tempted', 'questionable', 'cold', 'guilt', 'vunerable', 'ifpri', 'shouldn', 'govts', 'deploy', 'spree', 'grapple', 'pantries', 'altered', 'scrambling', 'profound', 'gap', 'manufacturer', 'exempt', 'manufacturing', 'doorstep', 'parking', 'piss', 'latter', 'knock', 'innovative', 'competitive', 'bail', 'congressional', 'comforting', 'msnbc', 'hy', 'vee', 'inc', 'serves', 'meme', 'await', 'eurozone', 'potentially', 'volatility', 'losses', 'collapsing', 'covering', 'sneezing', 'anybody', 'urged', 'anticipate', 'waking', 'loaf', 'tortillas', 'demographic', 'institute', 'outlet', 'gate', 'stall', 'starving', 'bravo', 'buffer', 'portion', 'goi', 'ww', 'presented', 'recommend', 'fo', 'rbi', 'abundance', 'pubs', 'whoever', 'horrendous', 'scored', 'coronatime', 'pound', 'sides', 'bed', 'seemingly', 'manufactured', 'logic', 'realistic', 'santa', 'hilarious', 'humor', 'counterfeit', 'sanitising', 'cleansing', 'entrepreneurs', 'user', 'niagara', 'television', 'flatten', 'curve', 'unused', 'ugh', 'keepyourdistance', 'sixfeetapart', 'usda', 'weaken', 'weakness', 'plays', 'bless', 'promote', 'booty', 'investment', 'implications', 'discussed', 'division', 'goldman', 'sachs', 'repurposed', 'soviet', 'diary', 'voting', 'ingredients', 'impossible', 'style', 'perfect', 'sourcing', 'aviation', 'beloved', 'hometown', 'hundreds', 'terrified', 'bcz', 'realestate', 'peoples', 'pilling', 'starvation', 'israeli', 'invited', 'israel', 'hancock', 'accept', 'lidl', 'iceland', 'ghost', 'nasdaq', 'nyse', 'hordes', 'stripping', 'favour', 'mentioning', 'surely', 'adds', 'auspol', 'interesting', 'economist', 'dramatic', 'depend', 'lining', 'caution', 'indians', 'rubbing', 'radical', 'exceptions', 'zealand', 'lasting', 'que', 'stands', 'fly', 'hourly', 'leeds', 'petrol', 'inthistogether', 'katrina', 'hunting', 'involved', 'involves', 'bouncing', 'republicans', 'senators', 'election', 'adapt', 'otherwise', 'dramatically', 'jumped', 'jacking', 'childcare', 'mygovindia', 'suggestions', 'shutdown', 'circuit', 'economical', 'stability', 'plz', 'vegetarian', 'pac', 'oriented', 'mutual', 'regard', 'islands', 'unprotected', 'filled', 'wholesalers', 'postmen', 'transit', 'drives', 'vehicles', 'invoke', 'terrorism', 'bodies', 'tired', 'proposing', 'mandate', 'whitehouse', 'emailing', 'recipes', 'immunity', 'con', 'irrational', 'sugary', 'stash', 'exempted', 'ph', 'weighs', 'dstv', 'premium', 'sport', 'repeats', 'procedures', 'notification', 'abt', 'branches', 'extend', 'qatar', 'licences', 'ukgoverment', 'mayoroflondon', 'commentary', 'insight', 'quoted', 'functioning', 'west', 'pissed', 'ocado', 'block', 'booking', 'manchester', 'uni', 'deliveroo', 'riders', 'couriers', 'demise', 'comments', 'drugstore', 'profitability', 'empire', 'exploit', 'economies', 'connection', 'frantic', 'prayer', 'strength', 'os', 'laguna', 'observe', 'afterwards', 'beast', 'prudent', 'macro', 'existential', 'artists', 'toiletroll', 'upping', 'bastards', 'hongkong', 'hk', 'rid', 'fools', 'politics', 'camp', 'taped', 'sandwiches', 'hashtag', 'togetherapart', 'z', 'courtesy', 'cookies', 'morrison', 'regulated', 'corrupt', 'modern', 'washes', 'board', 'netflix', 'hubs', 'boycott', 'clowns', 'ave', 'steam', 'heavy', 'rail', 'flex', 'charmin', 'sanitization', 'stays', 'gdp', 'toiletries', 'flat', 'ignoring', 'susan', 'tn', 'investigated', 'bottles', 'suspected', 'stateofemergency', 'tight', 'markers', 'outlines', 'encouraging', 'hamilton', 'breakingnews', 'discovered', 'carried', 'trouble', 'sickening', 'beds', 'pint', 'assume', 'na', 'j', 'ho', 'li', 'navy', 'pos', 'shocking', 'obesity', 'pizzas', 'hedging', 'wankers', 'tpshortage', 'basketball', 'delays', 'hazardous', 'locked', 'newsletter', 'spike', 'name', 'names', 'disrupt', 'occupancy', 'hotels', 'accommodation', 'malaysialockdown', 'suburban', 'mayorofla', 'aid', 'austria', 'socal', 'catches', 'rightly', 'dangers', 'powered', 'hunker', 'swift', 'wise', 'fucks', 'boeing', 'cruises', 'casinos', 'producers', 'filthy', 'schooling', 'submitted', 'brief', 'summary', 'sentence', 'unbelievable', 'proportion', 'taught', 'gross', 'units', 'built', 'computer', 'digit', 'semi', 'warm', 'salt', 'range', 'specially', 'selected', 'gifts', 'inspiration', 'onion', 'makers', 'consuming', 'benefit', 'accessible', 'coronavirustoronto', 'western', 'controlling', 'stages', 'attitude', 'screaming', 'garage', 'shortly', 'steve', 'regards', 'suggesting', 'countdown', 'delivers', 'dove', 'bacon', 'exercising', 'responsibility', 'fortunate', 'foot', 'sobeys', 'saveonfoods', 'impose', 'canadian', 'known', 'cry', 'genuine', 'astronomical', 'text', 'allergies', 'annoying', 'dangerous', 'plate', 'retweeet', 'dasani', 'gotten', 'collectively', 'spots', 'pleasant', 'contrast', 'neighbourhood', 'regulations', 'ai', 'robot', 'ports', 'scottmorrisonmp', 'sat', 'stable', 'rationed', 'transparent', 'louder', 'relying', 'accelerated', 'hiked', 'suppose', 'meters', 'comply', 'relationship', 'ps', 'sexy', 'looroll', 'smokers', 'cigarette', 'smoke', 'throwing', 'manners', 'signals', 'encourages', 'staple', 'career', 'resilient', 'arguing', 'isle', 'queensland', 'faces', 'unreal', 'planned', 'praying', 'barrels', 'historical', 'precedent', 'researchers', 'stockers', 'angels', 'workingfromhome', 'setting', 'curtis', 'church', 'voteblue', 'lonely', 'informative', 'civilised', 'grandmother', 'screamed', 'solely', 'attacked', 'dirty', 'ch', 'ham', 'prior', 'diagnosed', 'outbreaks', 'diseases', 'dem', 'founder', 'jewelry', 'guests', 'conferences', 'port', 'alaska', 'grand', 'celebrated', 'sweeping', 'hype', 'slightly', 'bell', 'creams', 'horror', 'vietnam', 'beverages', 'suffered', 'movements', 'categories', 'convenience', 'aids', 'webinar', 'giveaway', 'appointments', 'considered', 'commonsense', 'ubs', 'rarely', 'stimuluspackage', 'localbusiness', 'select', 'inevitable', 'cycle', 'permitted', 'art', 'singing', 'guest', 'brookshire', 'tx', 'woolies', 'volunteer', 'spare', 'acccgovau', 'gig', 'enable', 'immigration', 'infectious', 'suitable', 'screening', 'powers', 'shuttered', 'ships', 'loaded', 'poultry', 'oranges', 'docks', 'oxygen', 'holes', 'desperately', 'boots', 'bitch', 'maharashtra', 'airports', 'drastically', 'lucky', 'cooks', 'operate', 'trucks', 'tory', 'ltd', 'ram', 'battle', 'underlying', 'men', 'firefighters', 'emt', 'angry', 'karma', 'bites', 'butt', 'bacterial', 'toothpaste', 'shampoo', 'bleach', 'religion', 'wondered', 'legend', 'spirits', 'pa', 'excise', 'petroleum', 'implementation', 'began', 'purell', 'dodging', 'latimes', 'frame', 'tape', 'spoke', 'neat', 'radar', 'controls', 'automatically', 'flag', 'omg', 'struck', 'sheeple', 'mixed', 'anticipation', 'flattenthecurve', 'congregating', 'fifth', 'avenue', 'manhattan', 'livestream', 'parade', 'overload', 'boring', 'ppes', 'behaved', 'posted', 'vid', 'oc', 'sd', 'illnesses', 'kidney', 'eh', 'illegal', 'declared', 'encountered', 'slash', 'coeliac', 'coronaviruschallenge', 'coronavirusinsa', 'twat', 'hamburger', 'spaghetti', 'annoyed', 'bagging', 'pneumonia', 'appalling', 'reliant', 'accommodations', 'disinfected', 'origin', 'rentals', 'praise', 'christmas', 'rings', 'mishra', 'kicks', 'mainstream', 'ra', 'debate', 'ep', 'sweets', 'penguin', 'cd', 'billions', 'updating', 'loses', 'quality', 'nigeria', 'kano', 'international', 'retweet', 'med', 'bio', 'featuring', 'ky', 'coast', 'shifted', 'freezers', 'refill', 'processors', 'highlighted', 'literacy', 'universal', 'infecting', 'enables', 'mentioned', 'emptied', 'psychological', 'covidontario', 'covidcanada', 'pleaded', 'messing', 'heads', 'railway', 'ie', 'themed', 'coronavirusmemes', 'acquiring', 'educated', 'respected', 'facial', 'ii', 'rose', 'occasion', 'initiative', 'stated', 'confident', 'dfs', 'sports', 'edeka', 'entry', 'tennessee', 'telcos', 'epicentre', 'vodafone', 'commit', 'ripping', 'itvnews', 'clip', 'indeed', 'plastic', 'wrapped', 'devices', 'protected', 'mo', 'ssi', 'coupons', 'mildly', 'copd', 'storage', 'covoid', 'braved', 'applied', 'refugees', 'polish', 'cake', 'bankrupt', 'equipment', 'automatic', 'easyuk', 'essence', 'transmitted', 'sit', 'controlled', 'engaging', 'mongering', 'guessing', 'ppe', 'scum', 'eventually', 'turns', 'donald', 'assistants', 'upon', 'fr', 'interact', 'searching', 'acceptable', 'library', 'promise', 'aiming', 'revenues', 'crises', 'evidence', 'effectiveness', 'capitalist', 'failed', 'newyork', 'coronavirusupdate', 'closes', 'allocate', 'quicker', 'sanitary', 'extortionate', 'tfl', 'music', 'marketers', 'charitable', 'greg', 'declined', 'nikki', 'fried', 'ounce', 'foodstuff', 'abundant', 'tuesdays', 'neworleans', 'unit', 'agents', 'appeared', 'lame', 'waited', 'tiny', 'shouted', 'separate', 'occasions', 'comic', 'labs', 'shipments', 'strike', 'lawyer', 'storefront', 'stolen', 'forum', 'miami', 'uncomfortable', 'bt', 'tweet', 'ignore', 'negatively', 'deadline', 'precaution', 'shower', 'pigs', 'balcony', 'song', 'player', 'upper', 'lip', 'cking', 'broken', 'visibly', 'speaks', 'turnover', 'booming', 'scheduling', 'decent', 'taps', 'bother', 'breaks', 'preliminary', 'spokesperson', 'shoprite', 'jim', 'relation', 'fcacan', 'racist', 'discriminate', 'handshakes', 'lemons', 'folk', 'parks', 'ada', 'influence', 'roundup', 'design', 'blogs', 'search', 'nstnation', 'prepper', 'bushcraft', 'parent', 'asses', 'hill', 'covidbc', 'lasted', 'cleaned', 'content', 'recording', 'vlog', 'hair', 'screen', 'flattening', 'august', 'detained', 'allegedly', 'raised', 'ukraine', 'brits', 'rags', 'pivoting', 'transformation', 'parcels', 'digitaltransformation', 'demo', 'gaza', 'spikes', 'preventive', 'closer', 'star', 'wars', 'theatre', 'dampen', 'outlook', 'orlando', 'scotland', 'analysis', 'tourism', 'hence', 'output', 'bob', 'evans', 'stretch', 'pointing', 'collaborate', 'museum', 'membership', 'quantities', 'ensuring', 'purely', 'observation', 'blitz', 'wartime', 'nt', 'upside', 'third', 'legit', 'gels', 'culinary', 'veggie', 'computers', 'clever', 'happiness', 'inflating', 'selfishly', 'batteries', 'scroll', 'professional', 'audience', 'factsnotfear', 'visa', 'mastercard', 'stockmarketcrash', 'dries', 'bankruptcy', 'layoffs', 'falls', 'ends', 'dowjones', 'wa', 'aussies', 'matt', 'commute', 'emergence', 'ftse', 'slumps', 'vaccine', 'scream', 'lb', 'passover', 'wuhanvirus', 'packet', 'reputation', 'frenzy', 'cauliflower', 'wti', 'settle', 'feb', 'oott', 'forecasts', 'neck', 'identify', 'ethanol', 'wonders', 'crudeoil', 'historic', 'margins', 'flow', 'feature', 'ko', 'pledges', 'hubby', 'sells', 'values', 'valuations', 'inspections', 'maintenance', 'compliance', 'arise', 'evaluation', 'dilemma', 'depleting', 'foreign', 'scott', 'clarke', 'environments', 'performing', 'promotes', 'calming', 'doubles', 'promoting', 'qanon', 'imrankhanpti', 'regulate', 'silicon', 'alot', 'walmartcanada', 'sunshine', 'germs', 'combined', 'threats', 'tensions', 'pose', 'compete', 'workout', 'print', 'wishing', 'foodshortages', 'highlight', 'unavailable', 'saturated', 'tuna', 'cans', 'britain', 'users', 'heros', 'bin', 'sandwich', 'staffed', 'abusing', 'vibe', 'hackers', 'youtube', 'signing', 'jacked', 'unusually', 'unemployed', 'linked', 'employment', 'paradox', 'ab', 'peaks', 'leisure', 'highs', 'avg', 'ev', 'estimate', 'slammed', 'crack', 'diners', 'web', 'teams', 'treated', 'coworkers', 'sex', 'toys', 'snapshot', 'discussing', 'gentleman', 'manner', 'bbc', 'letters', 'skyuk', 'itv', 'highways', 'developing', 'reporters', 'verizon', 'cellphone', 'wwd', 'morningsmaria', 'cspanwj', 'jimcramer', 'decade', 'bonuses', 'tune', 'corporation', 'unpaid', 'jeff', 'bezos', 'evolve', 'covers', 'nor', 'elders', 'adversity', 'recycling', 'publix', 'fort', 'myers', 'kleenex', 'terribly', 'havent', 'cardboard', 'plea', 'advanced', 'cagovernor', 'carrier', 'safer', 'medal', 'sleep', 'stomach', 'crafting', 'amazed', 'executives', 'numerous', 'shocks', 'mood', 'trumppressconference', 'sn', 'lasts', 'hardest', 'stayed', 'healthier', 'coronafighters', 'hot', 'furiously', 'idk', 'beg', 'tins', 'mt', 'careful', 'film', 'andrex', 'boys', 'baggers', 'grabbed', 'scan', 'administrative', 'verify', 'procedure', 'brampton', 'publicly', 'traded', 'trumpvirus', 'bidet', 'equipped', 'newspapers', 'helpingothers', 'robust', 'halal', 'mitigate', 'atlantic', 'wawa', 'neighbor', 'hug', 'voted', 'bullets', 'estimated', 'sheer', 'luckily', 'switzerland', 'apples', 'highlighting', 'transparency', 'downs', 'ending', 'curfews', 'amazonuk', 'bbcbreaking', 'ml', 'gel', 'flooding', 'developments', 'adobe', 'misinformation', 'hoosiers', 'communications', 'centered', 'fixing', 'polling', 'substantially', 'disinfecting', 'aiding', 'connections', 'oman', 'oilpricewar', 'denmark', 'advises', 'beneficiaries', 'screwed', 'topic', 'warn', 'papertowels', 'favorite', 'govsisolak', 'fema', 'lasvegas', 'locusts', 'floods', 'rains', 'chef', 'grabbing', 'quarantines', 'telehealth', 'sooo', 'properly', 'mounting', 'analytics', 'monitors', 'sensibly', 'factory', 'producing', 'root', 'declare', 'laura', 'exorbitant', 'realised', 'crooks', 'travelers', 'sought', 'confused', 'staring', 'hugging', 'foodstuffs', 'ocd', 'uses', 'choosing', 'renting', 'justify', 'minnesota', 'projections', 'hack', 'cdnpoli', 'appropriate', 'offence', 'siege', 'rare', 'ness', 'monster', 'gram', 'eligible', 'october', 'departments', 'resorted', 'unsold', 'contributes', 'intent', 'maps', 'damages', 'legal', 'sheet', 'ffs', 'fallen', 'weston', 'final', 'yours', 'yoga', 'body', 'holds', 'royalmail', 'thismorning', 'coronaalert', 'climatechange', 'cracks', 'evident', 'suits', 'artisanal', 'denies', 'oversight', 'alleviate', 'relevant', 'pour', 'glass', 'justintrudeau', 'vacation', 'cp', 'ctvnews', 'switching', 'dispose', 'chapter', 'ego', 'thoroughly', 'intend', 'onions', 'litter', 'barter', 'dickheads', 'quarentinelife', 'universe', 'butcher', 'gregabbott', 'txlege', 'false', 'texans', 'electronic', 'shoppingonline', 'authority', 'pacp', 'crackdown', 'riot', 'bonus', 'preview', 'permanent', 'sanders', 'showed', 'underway', 'vat', 'incidents', 'focusing', 'blocks', 'woods', 'hyderabad', 'deborah', 'birx', 'younger', 'generations', 'sc', 'freight', 'circle', 'warnings', 'scanner', 'caregivers', 'nephew', 'inhaler', 'february', 'yoy', 'indicating', 'inconsiderate', 'arsehole', 'conscious', 'insensitive', 'venture', 'restore', 'doordash', 'instacart', 'army', 'ta', 'coro', 'excited', 'camera', 'achieve', 'ct', 'praises', 'overlooked', 'shirt', 'mr', 'patch', 'tony', 'toyota', 'dealer', 'declares', 'libraries', 'janitors', 'bopinion', 'bankofamerica', 'honor', 'despair', 'behaving', 'threatening', 'contingency', 'hadn', 'imported', 'matters', 'reminds', 'compensation', 'associate', 'professor', 'william', 'chairman', 'securities', 'hurricane', 'harvey', 'worrisome', 'strictly', 'ic', 'semiconductor', 'festival', 'antibacterial', 'antiviral', 'bacteria', 'antibiotics', 'blowing', 'pak', 'weak', 'studies', 'quedateencasa', 'spit', 'genomics', 'rocketing', 'provision', 'reset', 'tolerate', 'presidencyza', 'trenches', 'write', 'christian', 'easter', 'enterprise', 'surplus', 'mince', 'relations', 'behavioral', 'dish', 'weren', 'dc', 'kantar', 'detail', 'regulatory', 'digest', 'bathandbodyworks', 'courses', 'kevin', 'cage', 'excuses', 'boxing', 'buddy', 'columbia', 'metal', 'rand', 'usd', 'terrorist', 'allah', 'cbd', 'rural', 'ventilator', 'nine', 'steven', 'taylor', 'author', 'psychology', 'minds', 'sooner', 'ramp', 'forth', 'alcoholic', 'queueing', 'northeast', 'ohio', 'survives', 'shoulder', 'signal', 'von', 'university', 'guelph', 'replenished', 'asthma', 'panickbuying', 'tw', 'yo', 'ate', 'campaigners', 'promised', 'triage', 'goodnews', 'wardrobe', 'island', 'daniel', 'bats', 'cleveland', 'browns', 'drugs', 'msm', 'needy', 'compulsory', 'attend', 'crackers', 'breeding', 'jennifer', 'became', 'cheat', 'cinemas', 'economists', 'rank', 'stretched', 'af', 'mount', 'cre', 'cheers', 'locking', 'teaches', 'depending', 'consumerism', 'plant', 'inhumane', 'vultures', 'instant', 'lng', 'silent', 'hero', 'interrupt', 'props', 'su', 'coop', 'coronavirusitaly', 'dozens', 'logistical', 'banana', 'decimated', 'floating', 'adelaide', 'meats', 'insane', 'lucrative', 'susceptible', 'raises', 'rides', 'cluster', 'pleasantly', 'abusive', 'notify', 'yelling', 'rushing', 'exact', 'introduced', 'remotely', 'session', 'celebration', 'homeschooling', 'adventures', 'disproportionately', 'structural', 'detention', 'camps', 'savings', 'swamped', 'slump', 'youth', 'bust', 'actors', 'pro', 'athletes', 'musicians', 'droplet', 'additionally', 'witnessed', 'pp', 'ignored', 'weigh', 'soars', 'begun', 'depth', 'wed', 'grew', 'fortnight', 'leader', 'trollies', 'tobacco', 'smoking', 'drinking', 'recovered', 'anytime', 'metlife', 'foundation', 'tampa', 'victim', 'belgium', 'jail', 'abandoned', 'cornavirusoutbreak', 'pumps', 'paisley', 'summit', 'ski', 'mining', 'captain', 'tag', 'inevitably', 'hurting', 'slipped', 'thousand', 'cafes', 'counters', 'angel', 'min', 'valued', 'located', 'successful', 'compassionate', 'conclusion', 'combating', 'crews', 'stricken', 'inflate', 'prosecuted', 'scamming', 'girlfriend', 'fbi', 'disappointing', 'headline', 'coping', 'sourced', 'speech', 'vastly', 'culture', 'score', 'cc', 'lounge', 'respirators', 'developed', 'samples', 'simultaneously', 'hindustan', 'unilever', 'hul', 'soaps', 'shameful', 'boycotthul', 'bros', 'argue', 'shes', 'clue', 'loblaws', 'lengthy', 'proposed', 'acute', 'respiratory', 'opportunistic', 'favourite', 'animalcrossing', 'crossing', 'anilsinghvi', 'tues', 'arrangements', 'quid', 'bts', 'merch', 'quarterly', 'wagers', 'coronainpakistan', 'kg', 'breakdown', 'ecological', 'pollution', 'applaud', 'chemists', 'amitshah', 'arrest', 'indiafightscoronavirus', 'liberal', 'humour', 'enters', 'noon', 'fuckwits', 'staysafestayhome', 'sweden', 'errands', 'resume', 'leap', 'cape', 'scramble', 'creators', 'image', 'supposedly', 'everytime', 'herald', 'foil', 'bid', 'fights', 'randpaul', 'mistake', 'burning', 'porch', 'chest', 'deserves', 'pieces', 'bury', 'dare', 'neither', 'considerably', 'exponential', 'accountability', 'project', 'selection', 'comfortable', 'realtor', 'license', 'fccc', 'ga', 'gem', 'lockdowns', 'offset', 'dip', 'fi', 'advise', 'trillion', 'reaches', 'vitamin', 'cancer', 'donuts', 'sanctuary', 'independent', 'proximity', 'maria', 'depriving', 'arse', 'oilprice', 'ramping', 'parcel', 'proves', 'installment', 'deputy', 'giantfood', 'dmv', 'mayhem', 'districts', 'indiana', 'considers', 'adversely', 'declines', 'shrink', 'corn', 'churches', 'malaysian', 'germ', 'dragged', 'coronavirusnigeria', 'fightcovid', 'nicer', 'puts', 'indication', 'barometer', 'cfo', 'floridians', 'vr', 'productivity', 'specialists', 'legislation', 'seeking', 'bird', 'birds', 'distributing', 'nbcnews', 'cbsnews', 'usatoday', 'forbes', 'outstanding', 'wsj', 'miserably', 'inventories', 'manufacture', 'washingtonpost', 'prey', 'nifty', 'stage', 'squad', 'coronovirus', 'unacceptable', 'unethical', 'tension', 'livelihoods', 'suddenly', 'collectors', 'refugee', 'emarketer', 'unskilled', 'ufcw', 'diversification', 'oilandgas', 'alex', 'bastard', 'seize', 'aim', 'plunged', 'incl', 'african', 'wheat', 'ind', 'benefiting', 'revive', 'invested', 'japan', 'shale', 'asia', 'title', 'collapsed', 'futures', 'sink', 'vt', 'wwii', 'utah', 'earthquake', 'budget', 'hong', 'kong', 'breaker', 'portfolio', 'valid', 'asdaserviceteam', 'vacuum', 'handsanitiser', 'thoughtful', 'stranger', 'waves', 'assumptions', 'requiring', 'icu', 'eventual', 'wears', 'brussels', 'protects', 'recruitment', 'bangladesh', 'tray', 'teacher', 'bubble', 'intolerances', 'gluten', 'diagnose', 'cocktail', 'lebanon', 'heartless', 'truly', 'disrespectful', 'privilege', 'ubi', 'presumably', 'downside', 'guards', 'establishments', 'sanitation', 'encounter', 'directed', 'squeezed', 'oz', 'roaming', 'tears', 'overstock', 'dominance', 'produces', 'enabling', 'sardines', 'trigger', 'italians', 'exciting', 'nc', 'disrupting', 'producer', 'coupled', 'looming', 'dividends', 'norm', 'patrons', 'chat', 'deposit', 'telephone', 'taxis', 'funeral', 'stubborn', 'robbery', 'loyalty', 'platinum', 'furious', 'thx', 'pays', 'stamp', 'recipients', 'conversations', 'giants', 'vp', 'paint', 'connected', 'proving', 'canceled', 'transaction', 'bankers', 'porters', 'stackers', 'plummeting', 'extension', 'productive', 'fireworks', 'prize', 'expenditure', 'depends', 'droves', 'collapses', 'foreclosures', 'desert', 'durables', 'taxation', 'factors', 'putin', 'dreams', 'trucking', 'jhootspharmacy', 'calpol', 'birmingham', 'medically', 'austin', 'tofu', 'swing', 'mn', 'dollars', 'base', 'cow', 'urine', 'bjp', 'debbie', 'utilities', 'jeremycorbyn', 'england', 'compound', 'hamster', 'cheeks', 'angst', 'plain', 'soda', 'abcnews', 'injection', 'emphasis', 'pulp', 'edit', 'engineering', 'designs', 'hardware', 'hired', 'industrial', 'revolution', 'automation', 'bbb', 'nessel', 'intake', 'adam', 'invented', 'studying', 'maximize', 'application', 'coin', 'emotional', 'majorly', 'spy', 'djia', 'remake', 'coronav', 'hundred', 'lessen', 'disparity', 'proven', 'vector', 'properties', 'pointed', 'praised', 'reusable', 'transmit', 'governors', 'beach', 'presents', 'ambulance', 'crew', 'frontlineheroes', 'mega', 'statements', 'parker', 'host', 'grocerydelivery', 'anxieties', 'indicative', 'larger', 'researching', 'plunges', 'v', 'bleak', 'acts', 'distilledspirit', 'pennsylvania', 'reconsider', 'pitch', 'english', 'wednesdaymotivation', 'shitty', 'dat', 'wen', 'der', 'grade', 'contribution', 'kenyan', 'cabinet', 'thu', 'tipping', 'rout', 'crashes', 'lee', 'cautions', 'thesun', 'thankfully', 'ranging', 'freedom', 'ingrahamangle', 'wrecked', 'destroyed', 'lifetime', 'grows', 'caribbean', 'inspire', 'gauging', 'opinions', 'overcome', 'bbl', 'spat', 'deli', 'gouge', 'cheapest', 'oklahoma', 'wh', 'briefing', 'task', 'quantity', 'bcg', 'candy', 'hoboken', 'imagined', 'exist', 'dating', 'ausbiz', 'whomever', 'holed', 'poorly', 'laborers', 'helpline', 'overrun', 'bailey', 'mortality', 'entitled', 'helpeachother', 'roles', 'sbs', 'voices', 'sing', 'regularly', 'maids', 'assisting', 'suspends', 'perform', 'advising', 'rating', 'decreased', 'paswan', 'monitoring', 'iga', 'gavin', 'newsom', 'californians', 'actress', 'kimberly', 'williams', 'bear', 'faq', 'cleaner', 'context', 'bans', 'consumergoods', 'peterborough', 'contaminated', 'objects', 'organize', 'confined', 'utter', 'inexcusable', 'hr', 'equities', 'oversold', 'headlines', 'indonesia', 'fatalities', 'southeast', 'investor', 'dips', 'steady', 'sip', 'flows', 'gains', 'yellow', 'mobility', 'calgary', 'airline', 'passengers', 'graphic', 'offs', 'cub', 'directing', 'suspension', 'supplier', 'ease', 'unity', 'twin', 'oshawa', 'pens', 'navigating', 'innovation', 'unreasonable', 'penalty', 'voucher', 'touches', 'lows', 'brent', 'taxi', 'lifts', 'july', 'insisted', 'struggled', 'targets', 'journalists', 'academic', 'inform', 'examples', 'ebt', 'paris', 'stat', 'cries', 'societal', 'altering', 'webcast', 'unseen', 'scenes', 'transition', 'fm', 'faith', 'spiked', 'catholic', 'telecom', 'networks', 'guideline', 'elbow', 'fucker', 'wfh', 'manitoba', 'priced', 'sewage', 'rip', 'vulnerabilities', 'rolled', 'shareholders', 'theirs', 'thus', 'belief', 'roommate', 'science', 'fiction', 'movie', 'filing', 'extends', 'june', 'maintained', 'uhuru', 'kenyatta', 'immoral', 'unfortunate', 'homeowners', 'drew', 'advocate', 'november', 'fighter', 'scammed', 'attached', 'jan', 'metrics', 'primary', 'skytv', 'ripoff', 'accessories', 'mouths', 'rewarded', 'nursery', 'communism', 'stark', 'obama', 'blamed', 'chair', 'rtenews', 'avoided', 'lettuce', 'defense', 'estimates', 'doc', 'outdoors', 'metre', 'parties', 'vintage', 'orgs', 'vary', 'plummet', 'operator', 'keen', 'bakeries', 'wk', 'evolves', 'planes', 'route', 'conservative', 'parliament', 'profiteers', 'predatory', 'forex', 'property', 'predicts', 'enact', 'wicked', 'burden', 'issuing', 'breathing', 'pcs', 'contained', 'easing', 'normalcy', 'lung', 'terrifying', 'donaldtrump', 'blow', 'bosses', 'stars', 'influencers', 'billing', 'britons', 'xauusd', 'gld', 'listened', 'upended', 'dose', 'denial', 'sub', 'rx', 'secondary', 'asians', 'presentation', 'assuming', 'unpack', 'goodness', 'recognizing', 'premiums', 'luxembourg', 'ideally', 'wednesdaywisdom', 'askdrh', 'chinaliedpeopledied', 'marketplaces', 'passes', 'basmati', 'potato', 'idle', 'meantime', 'uklockdown', 'villages', 'knows', 'sized', 'wrote', 'custard', 'quote', 'venezuela', 'hotspot', 'greeted', 'posters', 'paramedics', 'crippling', 'drying', 'represents', 'guarantee', 'chasing', 'harvesting', 'chickens', 'saturdays', 'droplets', 'persist', 'nycmayor', 'continuous', 'fooddelivery', 'diamond', 'analyst', 'factor', 'declining', 'pence', 'rotting', 'poised', 'contraction', 'distillers', 'lunch', 'manages', 'ralph', 'participants', 'theaters', 'marketer', 'enroll', 'instance', 'stronger', 'prevail', 'naturally', 'zeebusiness', 'finminindia', 'nsitharaman', 'irvpaswan', 'jagograhakjago', 'dystopian', 'cad', 'cute', 'outfits', 'worsens', 'speakerpelosi', 'berniesanders', 'joebiden', 'memory', 'gasoline', 'prepares', 'land', 'nsw', 'dire', 'sacrifices', 'mustard', 'collect', 'saudis', 'endure', 'toiletpapershortage', 'toiletrollchallenge', 'separation', 'thehill', 'advocacy', 'collaboration', 'currencies', 'landlords', 'po', 'californialockdown', 'rude', 'dis', 'ought', 'patent', 'generic', 'goal', 'pressured', 'prospects', 'pulse', 'landscape', 'scoop', 'int', 'efficient', 'adopt', 'maker', 'boosted', 'processes', 'safeguard', 'software', 'carryout', 'standstill', 'drastic', 'zimbabwe', 'relies', 'grain', 'shits', 'coins', 'cashapp', 'idiotic', 'internal', 'bunny', 'slide', 'refunds', 'schoolclosuresuk', 'stranded', 'jk', 'marksandspencer', 'prioritising', 'launching', 'webinars', 'releasing', 'decides', 'murder', 'dress', 'allowance', 'airborne', 'stockpilers', 'generous', 'dms', 'bullish', 'fallout', 'tescos', 'led', 'directives', 'journey', 'quarantinecats', 'jason', 'swedish', 'forgotten', 'pc', 'optimum', 'passenger', 'candidate', 'seat', 'collecting', 'contains', 'ff', 'singer', 'tumbling', 'weaker', 'soybean', 'searches', 'doom', 'gloom', 'upends', 'wand', 'hypocrisy', 'ceiling', 'solved', 'wreaks', 'prioritize', 'ssa', 'messaging', 'cease', 'instore', 'pensions', 'periods', 'graham', 'jackson', 'viable', 'damaging', 'agri', 'gears', 'sanctions', 'inbox', 'conducting', 'initiatives', 'cuz', 'bond', 'wealth', 'carton', 'distribute', 'recruiting', 'standard', 'vans', 'yep', 'fail', 'column', 'onset', 'facility', 'queing', 'cent', 'edge', 'michael', 'govern', 'admit', 'sleeves', 'fraudsters', 'jet', 'knocking', 'court', 'hmoindia', 'ng', 'lobby', 'cod', 'chilled', 'slashes', 'held', 'ransom', 'labour', 'coronaviruscanada', 'bandana', 'essentialworker', 'resort', 'xmas', 'rob', 'pure', 'gradually', 'progress', 'approximately', 'dynata', 'gavinnewsom', 'goodwill', 'selfemployed', 'businessowner', 'random', 'virginia', 'coworker', 'kn', 'respirator', 'italia', 'overdrive', 'ample', 'cancels', 'kitco', 'metals', 'crime', 'moaning', 'blessed', 'soldiers', 'upped', 'presidential', 'prof', 'cafe', 'vulnerability', 'improved', 'impression', 'linger', 'qe', 'corp', 'marketwatch', 'native', 'stew', 'leonard', 'pandemonium', 'cbcnews', 'gst', 'proposal', 'fundamentally', 'moci', 'disinfectants', 'yoursafetyismysafety', 'seasons', 'mexican', 'subside', 'golf', 'ruined', 'conditioned', 'detection', 'govwhitmer', 'fined', 'eric', 'goggles', 'effectively', 'equivalent', 'lmao', 'inflicted', 'paramount', 'occupied', 'recognised', 'iv', 'exists', 'nowadays', 'explosive', 'suppressed', 'converted', 'maddow', 'govlarryhogan', 'adjust', 'representing', 'petrolprice', 'records', 'crappy', 'newsalert', 'benchmark', 'slumped', 'presses', 'arguments', 'stood', 'nba', 'msg', 'pause', 'nl', 'blogging', 'lorry', 'cabin', 'sonny', 'tom', 'dance', 'wednesdaythoughts', 'consultation', 'logistic', 'philippine', 'foam', 'biotech', 'lake', 'cl', 'development', 'cushion', 'evolution', 'assessing', 'ukrainian', 'signed', 'ruling', 'cfpb', 'foreclosure', 'eviction', 'cf', 'diaries', 'survivor', 'eager', 'alliance', 'woke', 'punish', 'adequately', 'valuable', 'convinced', 'asshole', 'instruction', 'exercise', 'wereinthistogether', 'spanish', 'communist', 'regime', 'unsafe', 'robocalls', 'flush', 'inadequate', 'extending', 'reveals', 'crisp', 'shrinking', 'worsen', 'icis', 'petrochemicals', 'enforcing', 'poisoning', 'rupee', 'snacks', 'gta', 'outrage', 'observing', 'upheaval', 'enterprises', 'mint', 'eagle', 'bu', 'bullion', 'kings', 'supportsmallbusiness', 'mrx', 'shaming', 'votes', 'approve', 'boosts', 'puerto', 'resellers', 'regulation', 'educators', 'helpless', 'songs', 'beard', 'shopped', 'lowes', 'nearby', 'cincinnati', 'homedelivery', 'arses', 'chinesecoronavirus', 'fields', 'reply', 'gyms', 'wiped', 'diego', 'destroying', 'ranks', 'mills', 'nigel', 'appearing', 'brexit', 'gro', 'taiwan', 'empathy', 'rounds', 'algeria', 'opinion', 'policemen', 'patrol', 'indoor', 'outdoor', 'wore', 'jordan', 'nail', 'brunt', 'refuses', 'attacking', 'facts', 'swell', 'tripled', 'followers', 'readers', 'mixture', 'lookout', 'rogue', 'dna', 'assignments', 'labreports', 'annotated', 'bibliographies', 'venmo', 'panickbuyinguk', 'pathetic', 'ramifications', 'abs', 'weakened', 'occurring', 'limitations', 'partnered', 'steel', 'ems', 'apartments', 'lists', 'halts', 'lying', 'shots', 'nigerians', 'switched', 'spectrum', 'fueled', 'possibility', 'balls', 'proudly', 'awkward', 'tale', 'regain', 'urgency', 'coombs', 'blueyonder', 'http', 'billionaire', 'antibodies', 'aliens', 'oilprices', 'channel', 'gesture', 'assuring', 'streaming', 'bets', 'complain', 'exponentially', 'endangering', 'lifting', 'fasting', 'mary', 'december', 'destroy', 'positioned', 'pros', 'riding', 'played', 'bragging', 'fitness', 'philly', 'morgan', 'captify', 'shopritestores', 'chrismurphyct', 'savelives', 'nut', 'taste', 'roasted', 'wasting', 'trace', 'preparedness', 'auctions', 'tvs', 'robert', 'lg', 'contacting', 'cigarettes', 'resolved', 'consumerrights', 'underpaid', 'whats', 'revealed', 'emergencies', 'tb', 'newyorkcity', 'warranty', 'laptops', 'purposes', 'likelihood', 'deserved', 'flyers', 'unsure', 'begins', 'shortfall', 'attempted', 'shaking', 'skyhelpteam', 'aggressively', 'justsaying', 'wedding', 'goddamn', 'venezuelan', 'theft', 'apparel', 'improvement', 'campus', 'socialdistancingnow', 'bricks', 'winco', 'laughed', 'staffs', 'anne', 'stan', 'ventured', 'rubbish', 'gilead', 'vitamins', 'dirt', 'denied', 'billionaires', 'richard', 'afloat', 'tries', 'cnbctv', 'chocolates', 'philadelphia', 'nevada', 'casino', 'tiktok', 'duck', 'abuse', 'da', 'aftermath', 'concentration', 'dawn', 'lay', 'telegraph', 'icymi', 'alberta', 'shake', 'eve', 'alleged', 'harmful', 'honorable', 'painkiller', 'containing', 'cargo', 'govuk', 'perilofafrica', 'migrant', 'expressing', 'delhi', 'pending', 'lockdownuk', 'lazy', 'notices', 'labels', 'disadvantaged', 'ride', 'hills', 'subscribe', 'cartoon', 'sketch', 'comics', 'gmb', 'blatant', 'bargains', 'absent', 'blocking', 'entrances', 'pipe', 'londonlockdown', 'deposits', 'cmagovuk', 'sticking', 'tele', 'miguel', 'supplychains', 'cm', 'files', 'kiss', 'export', 'meijer', 'peel', 'screw', 'boy', 'precious', 'edmonton', 'existed', 'breach', 'travellers', 'airfare', 'unions', 'stem', 'ipa', 'beers', 'herself', 'varying', 'views', 'shipment', 'togetherathome', 'dividend', 'reduces', 'projected', 'earnings', 'colours', 'ghee', 'strange', 'bumping', 'custom', 'shite', 'log', 'battery', 'grabs', 'immigrant', 'roulette', 'tonne', 'expectations', 'reverse', 'iraq', 'kurdistan', 'bipartisan', 'extensive', 'rep', 'intervene', 'inspiring', 'touting', 'consumerconfidence', 'plummeted', 'vacancies', 'airbnb', 'staggering', 'smallbusiness', 'scheme', 'tweeps', 'collected', 'loonie', 'lingers', 'struggles', 'resell', 'invest', 'complications', 'lender', 'fg', 'heaven', 'originally', 'external', 'problematic', 'watched', 'fedex', 'arm', 'stringent', 'responds', 'devastation', 'dang', 'buildings', 'wary', 'complicated', 'chores', 'lo', 'chase', 'protectthevulnerable', 'preying', 'circulating', 'sensitive', 'inter', 'lahore', 'query', 'surface', 'bucks', 'est', 'lowe', 'grave', 'ja', 'escalate', 'conducted', 'examine', 'perceptions', 'attitudes', 'console', 'taskforce', 'replied', 'yorkers', 'matthew', 'clarification', 'underground', 'bunker', 'telkomza', 'hotlink', 'farming', 'widening', 'exams', 'pacific', 'frustrated', 'jesus', 'script', 'profile', 'cambridge', 'dynamics', 'maid', 'striking', 'eco', 'togetherness', 'hangs', 'overpriced', 'suck', 'bloke', 'slashing', 'vc', 'map', 'features', 'eleven', 'annual', 'marking', 'mailonline', 'pulling', 'exposing', 'democratic', 'promising', 'suspicious', 'educating', 'ministers', 'accountable', 'interventions', 'seafood', 'tracked', 'seasonal', 'thewalkingdead', 'latex', 'portland', 'routes', 'improvise', 'carona', 'linen', 'method', 'instagram', 'srilanka', 'lka', 'preserving', 'wil', 'clap', 'discourage', 'dishes', 'ktrtrs', 'myth', 'breast', 'wth', 'aaron', 'analysts', 'publish', 'stanley', 'safeguarding', 'mandates', 'investigates', 'panel', 'loaves', 'powder', 'metres', 'para', 'sustained', 'celebrate', 'comeback', 'concert', 'uncharted', 'territory', 'diversify', 'discipline', 'revised', 'cpho', 'madrid', 'et', 'reeling', 'realtime', 'manipulating', 'civic', 'mothersday', 'editor', 'democrats', 'approval', 'odds', 'importing', 'embrace', 'fmcg', 'upto', 'ji', 'leg', 'arrives', 'bearing', 'masked', 'spglobalplatts', 'paul', 'lewis', 'iron', 'petrochemical', 'vertical', 'rumor', 'terminal', 'sophie', 'shorten', 'madison', 'bayarea', 'waving', 'banging', 'cocaine', 'fuelled', 'utterly', 'independently', 'salaries', 'named', 'sorts', 'stares', 'upsetting', 'thinkofothers', 'fool', 'moron', 'quebec', 'granted', 'gardening', 'newnormal', 'principle', 'teamwork', 'depleted', 'cont', 'cast', 'fishing', 'entertain', 'educate', 'govofco', 'demonstrates', 'scientific', 'courage', 'wmt', 'nascent', 'precarious', 'sen', 'atta', 'witness', 'wuhancoronavirus', 'transfers', 'broader', 'ethics', 'oyo', 'shook', 'autoimmune', 'township', 'playgrounds', 'permit', 'aussie', 'jamie', 'appliances', 'proceeds', 'donated', 'rome', 'positives', 'weight', 'pensioner', 'cleanliness', 'congratulations', 'az', 'indicators', 'unnoticed', 'closely', 'pockets', 'generating', 'initial', 'removing', 'capped', 'applies', 'triggering', 'hollywood', 'robots', 'gen', 'victoria', 'expats', 'wereallinthistogether', 'healthcareworkers', 'govevers', 'shed', 'tear', 'implies', 'reckon', 'carries', 'brain', 'weekends', 'plummets', 'guaranteed', 'rents', 'beaches', 'bulkbuying', 'grapples', 'obligations', 'itwire', 'critically', 'spite', 'coronaviruske', 'determined', 'govmurphy', 'employ', 'reshape', 'ha', 'keepers', 'define', 'proceed', 'morgue', 'bcpoli', 'selfdistancing', 'metpoliceuk', 'robbed', 'refrigeration', 'agrees', 'andrew', 'flushed', 'consult', 'ics', 'fastest', 'jumps', 'arab', 'cashless', 'clown', 'outta', 'weareinthistogether', 'ne', 'emailed', 'armed', 'bizarre', 'trash', 'shilla', 'sustainability', 'definition', 'shopkeeper', 'loyal', 'character', 'tr', 'relieve', 'scourge', 'ringing', 'detected', 'exploding', 'curry', 'cab', 'trumppandemic', 'nonexistent', 'attract', 'coviduk', 'timing', 'toast', 'lehman', 'tokyo', 'oils', 'competent', 'greece', 'threatens', 'league', 'replies', 'engaged', 'attending', 'accelerate', 'carlos', 'citrus', 'tree', 'ka', 'screens', 'deodorant', 'tumbled', 'bbcyourquestions', 'ns', 'pelosi', 'grips', 'moody', 'attendant', 'entities', 'shaw', 'resident', 'waits', 'johncornyn', 'hay', 'centric', 'southwestair', 'seats', 'delta', 'flood', 'boomer', 'protest', 'flattened', 'renewables', 'fundamentals', 'cryptocurrency', 'decades', 'sorted', 'routines', 'teens', 'broccoli', 'uneducated', 'playstation', 'aunt', 'ive', 'oldest', 'pledged', 'dwp', 'randomly', 'crying', 'binmen', 'irgc', 'whatsoever', 'soldout', 'spam', 'hillaryclinton', 'skyrocketed', 'somewhere', 'moments', 'lockdownaustralia', 'cried', 'freshdirect', 'ali', 'madmax', 'unscrupulous', 'nhsengland', 'investigate', 'pan', 'mvp', 'quarantining', 'follows', 'unforeseen', 'dense', 'marginal', 'cpi', 'contracted', 'review', 'obamacare', 'consolidation', 'pertaining', 'apologize', 'elder', 'harris', 'articles', 'verge', 'lessons', 'shell', 'deemed', 'amen', 'oversupply', 'destruction', 'sensanders', 'taxpayer', 'selfisolating', 'acid', 'trumpcrash', 'shaken', 'professions', 'cousin', 'institutional', 'kwh', 'solar', 'bids', 'loot', 'mines', 'finishing', 'intensify', 'spitting', 'contaminating', 'omfg', 'begging', 'praising', 'russians', 'buckwheat', 'reg', 'pun', 'naira', 'mbuhari', 'hhs', 'deceptive', 'immigrants', 'documented', 'wembley', 'delaying', 'treasure', 'hurt', 'embarrassment', 'steal', 'lyon', 'overwhelming', 'alerts', 'ours', 'dotherightthing', 'physician', 'chancellor', 'angela', 'merkel', 'roughly', 'bits', 'eradicate', 'joseph', 'stack', 'graph', 'database', 'borrowers', 'reviews', 'institutions', 'height', 'travels', 'micro', 'default', 'tsunami', 'replaced', 'bundles', 'desire', 'fao', 'emerges', 'pleading', 'modi', 'acknowledge', 'sum', 'wto', 'punch', 'cooperate', 'happily', 'clash', 'nhsheroes', 'ravaged', 'openings', 'chinesewuhanvirus', 'spraying', 'goodbye', 'jokes', 'careers', 'disturbing', 'hum', 'timed', 'keyworkers', 'belfast', 'heartwarming', 'twats', 'cornwall', 'animation', 'iranian', 'jumping', 'plane', 'coincidence', 'frm', 'permanently', 'superheroes', 'hardworking', 'lakh', 'crore', 'sept', 'bolster', 'lbs', 'penny', 'windows', 'dots', 'barriers', 'kentucky', 'tf', 'quarters', 'label', 'cons', 'corps', 'dems', 'exceed', 'prevailing', 'equally', 'briefly', 'superstar', 'typical', 'unite', 'blew', 'stalls', 'introducing', 'install', 'traveling', 'wolf', 'targeting', 'casual', 'cooperation', 'covod', 'nhsworkers', 'syria', 'classified', 'cycling', 'tranquileyes', 'harassing', 'lovely', 'introduces', 'narrative', 'va', 'socialdistanacing', 'ppeshortage', 'thursdaymotivation', 'saveworkers', 'ties', 'immense', 'conservatives', 'za', 'occurred', 'defensive', 'rally', 'communicate', 'earned', 'admin', 'schemes', 'bristol', 'kumar', 'gathered', 'dependence', 'politician', 'tbt', 'wireless', 'marks', 'coronavirusoutbreakindia', 'everly', 'rocketed', 'nailed', 'knees', 'janatacurfew', 'acct', 'login', 'passwords', 'publication', 'cv', 'whichuk', 'handy', 'bookmark', 'il', 'outfit', 'shouting', 'implementing', 'hires', 'brutal', 'incindia', 'jammu', 'vice', 'dailymailuk', 'pot', 'wishes', 'healing', 'headquarters', 'favor', 'gulf', 'aluminium', 'rmb', 'grants', 'pilot', 'trumps', 'gut', 'horrified', 'changer', 'alongside', 'aaa', 'skills', 'mps', 'senatemajldr', 'intel', 'briefings', 'burr', 'donors', 'resign', 'cybersecurity', 'proposals', 'fulfillment', 'picks', 'hyper', 'subsidized', 'dignity', 'grant', 'kidding', 'aramco', 'liver', 'transplant', 'poster', 'jerk', 'justice', 'spacing', 'harms', 'crave', 'jon', 'consumerprotection', 'lockdownlondon', 'attractive', 'undoubtedly', 'freelancers', 'devil', 'childhood', 'margin', 'compare', 'practising', 'sizes', 'styles', 'alphabet', 'filter', 'protectyourself', 'winner', 'darkness', 'crimes', 'aimed', 'uninterrupted', 'consistent', 'supervalu', 'plexiglass', 'vermont', 'classify', 'glut', 'throws', 'frustrating', 'tire', 'sunny', 'canal', 'consulting', 'repayment', 'downloads', 'misery', 'pressing', 'euets', 'mexico', 'presidents', 'pakistani', 'liberals', 'dashboard', 'malware', 'tweeting', 'landed', 'attempting', 'pill', 'twitch', 'ccpa', 'privacy', 'supporters', 'tht', 'ir', 'dig', 'yard', 'girls', 'defining', 'charter', 'tougher', 'tend', 'trajectory', 'skill', 'unleashed', 'turbo', 'sticks', 'mifi', 'gb', 'transforming', 'newsaus', 'celebrity', 'spreaders', 'owing', 'recognise', 'thursdaythoughts', 'erupted', 'capes', 'orderly', 'handbag', 'rylan', 'bec', 'chemistry', 'arriving', 'negotiate', 'sw', 'fraction', 'ripped', 'slams', 'remembering', 'metric', 'meaningful', 'earrings', 'muffins', 'rebounds', 'coronavirusnewyork', 'coronavirusnyc', 'spends', 'comrade', 'insightful', 'ken', 'lanes', 'argument', 'kent', 'tricky', 'unstable', 'canberra', 'segment', 'bn', 'humanitarian', 'appeals', 'pmmodi', 'positivity', 'spur', 'gasbuddy', 'boycotted', 'jared', 'slice', 'fraser', 'stricter', 'musk', 'heist', 'confronting', 'advisories', 'condemn', 'lbc', 'awaiting', 'consoles', 'lauren', 'trapped', 'heels', 'colleges', 'nonessential', 'motorists', 'nm', 'dictate', 'rebound', 'lingering', 'warriors', 'nails', 'paused', 'recognized', 'adexchanger', 'earnest', 'existent', 'croydon', 'desk', 'snack', 'functional', 'copy', 'gal', 'lied', 'tackled', 'reviewed', 'malaria', 'reportedly', 'milkman', 'luke', 'assistant', 'waters', 'auckland', 'wheel', 'craft', 'merchant', 'elite', 'intelligent', 'ninja', 'removes', 'wi', 'georgia', 'suggested', 'split', 'mi', 'democrat', 'louisiana', 'established', 'gazette', 'bush', 'maskup', 'outcomes', 'aoc', 'crisps', 'parenting', 'learnings', 'efficiency', 'roy', 'rumour', 'firemen', 'engineers', 'bull', 'duncan', 'instances', 'thermometer', 'journalist', 'expanded', 'arising', 'delay', 'faculty', 'rev', 'programme', 'soaring', 'transunion', 'applauds', 'btc', 'predictions', 'dealt', 'ridiculously', 'pops', 'served', 'handgel', 'sunglasses', 'residentevil', 'namaste', 'fury', 'hungary', 'pushes', 'zombies', 'govmikedewine', 'cunt', 'knight', 'yummy', 'minority', 'stockpilinguk', 'reference', 'stockpiles', 'marty', 'hurry', 'kansas', 'hearts', 'nick', 'newcastle', 'sausage', 'dreaming', 'dettol', 'juliahb', 'authors', 'busier', 'citing', 'slowdown', 'dust', 'newsnight', 'arent', 'representation', 'freedoms', 'trick', 'sponsored', 'cable', 'socialcare', 'scamalert', 'franchise', 'queued', 'desi', 'dime', 'gang', 'jantacurfew', 'drums', 'studio', 'joy', 'confronted', 'setup', 'stabilize', 'pickle', 'branding', 'disney', 'pharmaceuticals', 'fingers', 'coronainmaharashtra', 'exacerbated', 'environmental', 'infuriating', 'depressing', 'threatened', 'kingdom', 'menace', 'selfless', 'beautiful', 'allocated', 'settled', 'beaten', 'ambassador', 'ce', 'slides', 'applause', 'reversed', 'wales', 'dealers', 'bogroll', 'slid', 'scumbags', 'enormous', 'coordinate', 'framework', 'overbuying', 'gc', 'qualify', 'noticing', 'emma', 'gaining', 'lisa', 'dick', 'govpritzker', 'picknpay', 'influenced', 'roots', 'afar', 'blockchain', 'criticism', 'respite', 'downgrade', 'unleaded', 'swimming', 'pool', 'webpage', 'hall', 'gfc', 'credits', 'flushing', 'utmost', 'tabs', 'brian', 'subscriber', 'exporters', 'posed', 'deck', 'tanking', 'length', 'irvine', 'backbone', 'chloroquine', 'sha', 'publications', 'predicting', 'strategic', 'worsened', 'swipe', 'unfold', 'violent', 'rishisunak', 'naughty', 'hefty', 'spurs', 'teaching', 'pastor', 'approx', 'replenishing', 'keepsafe', 'wire', 'prisons', 'renewable', 'acceptance', 'dhaka', 'scrub', 'ck', 'grim', 'lined', 'indispensable', 'lobbies', 'featured', 'lawyers', 'geared', 'dynamic', 'recorded', 'loom', 'thomas', 'imminent', 'mercy', 'nbc', 'bang', 'assault', 'sufferers', 'lifted', 'billgates', 'tariffs', 'popping', 'jose', 'drilling', 'woes', 'publishers', 'resolve', 'kerala', 'embarrassing', 'fat', 'tribute', 'ideal', 'fab', 'hook', 'etsy', 'pleased', 'hindered', 'pulte', 'veteran', 'completed', 'capping', 'hydro', 'businessmen', 'cheer', 'coronavirusitalianews', 'cvs', 'pandemia', 'rio', 'brazil', 'accuracy', 'sample', 'rubber', 'tahini', 'idiocy', 'essex', 'edibles', 'tables', 'moronic', 'cam', 'cracking', 'gi', 'borrow', 'viewers', 'fcc', 'planners', 'singh', 'harsh', 'ani', 'te', 'resale', 'climb', 'obey', 'concessional', 'withdraw', 'barcode', 'furloughs', 'horrifying', 'bollocks', 'mrs', 'tasks', 'ipsos', 'pillows', 'restored', 'awake', 'certified', 'toy', 'freely', 'shopify', 'daughters', 'legally', 'outs', 'hat', 'backdrop', 'embarrassed', 'glasses', 'queen', 'optimism', 'subsidies', 'supplements', 'fade', 'dreaded', 'deficit', 'dragging', 'secured', 'uncertainties', 'kicking', 'rain', 'sustainable', 'zoonotic', 'smooth', 'rushed', 'builders', 'mayors', 'theellenshow', 'supports', 'ffp', 'loudly', 'harold', 'determine', 'pressuring', 'audio', 'punishing', 'contra', 'rus', 'supermercados', 'bottoms', 'master', 'approaches', 'fry', 'diagnostic', 'oxford', 'necessarily', 'translate', 'pe', 'lovers', 'heed', 'politely', 'roses', 'janitorial', 'chronicles', 'liberty', 'citi', 'imperative', 'mindset', 'appropriately', 'audiences', 'takeaway', 'disinfection', 'familiar', 'surrounded', 'surrey', 'lincoln', 'donates', 'teenagers', 'whammy', 'mitigation', 'martinslewis', 'escalating', 'abuja', 'commissions', 'keypads', 'automotive', 'photography', 'bazaar', 'blvd', 'mama', 'institution', 'magazine', 'topics', 'homelessness', 'river', 'ads', 'stabilise', 'bounce', 'drone', 'borrowing', 'treasury', 'bumped', 'packing', 'focuses', 'par', 'ink', 'nhsthankyou', 'clarity', 'oilsands', 'oilpatch', 'anthonymace', 'slip', 'upward', 'grappling', 'thermal', 'sneak', 'branch', 'rallying', 'hats', 'ben', 'execs', 'instructed', 'gr', 'insolvency', 'statutory', 'cue', 'tablets', 'shine', 'massachusetts', 'boston', 'firstdayofspring', 'sacramento', 'shelteringinplace', 'aides', 'metalminer', 'sheltering', 'sap', 'wines', 'admiration', 'reward', 'collective', 'proxy', 'lancashire', 'incentive', 'royal', 'millionaire', 'spiral', 'agent', 'jamaica', 'lick', 'majeure', 'agreements', 'susannareid', 'catchup', 'aud', 'messed', 'mentally', 'poop', 'loblaw', 'wrap', 'inability', 'saves', 'senator', 'flirting', 'suffers', 'holy', 'mill', 'cups', 'joints', 'indonesian', 'seed', 'rv', 'groceryworkers', 'prediction', 'female', 'monopoly', 'dump', 'coronavirusau', 'ecb', 'wandering', 'installed', 'tanzania', 'dominos', 'fragile', 'squirt', 'thermometers', 'meetings', 'chats', 'yelp', 'tonnes', 'forty', 'heroic', 'printed', 'copies', 'dprinting', 'teen', 'dollartree', 'closest', 'jar', 'dodge', 'designate', 'toilets', 'legitimate', 'greatly', 'path', 'horse', 'defective', 'criteria', 'obsession', 'requirements', 'quilted', 'blanket', 'theory', 'zombieland', 'dies', 'norwegian', 'ears', 'cu', 'ms', 'streams', 'versus', 'bouncers', 'finnish', 'tier', 'lit', 'tgt', 'vodka', 'confiscated', 'salons', 'applying', 'holdings', 'forgetting', 'scenarios', 'ranchers', 'square', 'spiking', 'laboratory', 'ds', 'endless', 'couples', 'newest', 'somewhat', 'spinning', 'blank', 'glove', 'concept', 'remedies', 'pages', 'bekindtoeachother', 'incomes', 'coopuk', 'costa', 'dock', 'spotted', 'demonstrating', 'keyworker', 'deferred', 'earners', 'ignite', 'shining', 'bj', 'constraints', 'pairs', 'slows', 'hesitate', 'prepayment', 'montana', 'dj', 'walgreens', 'belt', 'germans', 'martin', 'qantas', 'profited', 'labourers', 'discover', 'weddings', 'tripling', 'entrepreneur', 'actor', 'bye', 'iphone', 'bidets', 'napkins', 'gained', 'prospect', 'grounded', 'stake', 'frauds', 'sri', 'invite', 'remoteworking', 'advantages', 'success', 'elusive', 'staypositive', 'borisout', 'deployed', 'coronaviru', 'councils', 'borough', 'nhsstaff', 'realities', 'foreseeable', 'reform', 'interacting', 'newjersey', 'imf', 'pti', 'lane', 'occidental', 'ding', 'unveils', 'louis', 'tweaking', 'harry', 'brennan', 'escalation', 'unclear', 'unitedstates', 'nhsuk', 'tasty', 'rewe', 'refrigerator', 'stayhomeaustralia', 'moon', 'gary', 'mauritius', 'informal', 'settings', 'seized', 'buhari', 'versions', 'farmworkers', 'ghanaian', 'batch', 'ingredient', 'swan', 'goals', 'tel', 'yields', 'phe', 'throwbackthursday', 'diarrhea', 'lethal', 'careless', 'protocol', 'violence', 'sterling', 'withstand', 'sciences', 'dos', 'tide', 'bargaining', 'safehands', 'realtors', 'scooters', 'lyft', 'startup', 'desde', 'imran', 'khan', 'demanded', 'ig', 'kitchens', 'resumes', 'southkorea', 'exploring', 'insider', 'bubbles', 'sincerely', 'nets', 'consumed', 'ritual', 'nicely', 'stacked', 'thankfulthursday', 'components', 'senategop', 'troubled', 'wisconsin', 'lease', 'unitedkingdom', 'morale', 'naija', 'lagos', 'soft', 'believing', 'nfl', 'cakes', 'biscuits', 'cabinets', 'shitting', 'uncle', 'upgrade', 'sally', 'ug', 'heath', 'populated', 'scrap', 'aspects', 'licked', 'stream', 'daddy', 'grey', 'bruce', 'inflationary', 'refer', 'acquire', 'askebay', 'falsely', 'flower', 'distributor', 'mil', 'shud', 'takeover', 'carter', 'adams', 'practically', 'overworked', 'reader', 'entirely', 'swiftly', 'imposing', 'hai', 'directions', 'inputs', 'coronakrise', 'newworldorder', 'injustice', 'carer', 'coma', 'incident', 'spurred', 'wood', 'recognize', 'godrej', 'patanjali', 'riyadh', 'techs', 'nuclear', 'establishment', 'thieves', 'tearful', 'arts', 'crafts', 'dumped', 'revoke', 'licenses', 'highway', 'midday', 'commits', 'cr', 'worn', 'bidding', 'americas', 'pounds', 'exploited', 'explanation', 'scammer', 'cuban', 'teamed', 'staysafeshoponline', 'ravages', 'matthewlesh', 'campbell', 'fleeing', 'hamptons', 'hudson', 'revealing', 'exhausting', 'animalcrossingnewhorizons', 'negotiated', 'jus', 'compiling', 'deterioration', 'organised', 'um', 'brains', 'brescia', 'exporting', 'consequence', 'cells', 'devastated', 'rona', 'vuitton', 'todo', 'vox', 'absence', 'dec', 'sikh', 'fridaythoughts', 'bilbrough', 'vladimir', 'diabetic', 'wing', 'xx', 'jobless', 'pleas', 'safetyfirst', 'scarf', 'pattern', 'alabama', 'ctsi', 'motor', 'busted', 'postman', 'written', 'indigenous', 'dye', 'shattered', 'cornoravirusuk', 'shoulders', 'asthmatic', 'dublin', 'bursting', 'crushed', 'doesnt', 'tyson', 'container', 'windsor', 'dread', 'thirds', 'analyse', 'domino', 'unchanged', 'finest', 'minimal', 'honour', 'hm', 'ruled', 'inundated', 'screwing', 'fossil', 'uninsured', 'pple', 'sl', 'interior', 'spencer', 'organisation', 'wrestlemania', 'normality', 'norway', 'liquefied', 'prescribed', 'shoved', 'newsroom', 'independence', 'cram', 'chemical', 'ins', 'electricitymarkets', 'ttf', 'catalyst', 'adoption', 'iranians', 'strengthen', 'partnership', 'fortnite', 'republican', 'allegations', 'loeffler', 'coach', 'dietary', 'yeast', 'securing', 'courts', 'memo', 'argentina', 'representative', 'republic', 'promotion', 'receives', 'relate', 'debut', 'quietly', 'mcconnell', 'grains', 'ottawa', 'idaho', 'cma', 'corporates', 'spotlight', 'ut', 'contributed', 'creation', 'imagination', 'amwriting', 'fridayfeeling', 'grossly', 'consultations', 'nitrile', 'impressive', 'haram', 'upstream', 'queries', 'teenager', 'chan', 'kaduna', 'appointed', 'expense', 'coronaviruspakistan', 'threw', 'celebrating', 'concerts', 'draining', 'counterfeiters', 'answering', 'dudes', 'des', 'prone', 'cochrane', 'batman', 'venturing', 'median', 'saferathome', 'rollercoaster', 'abiding', 'ethereum', 'comedian', 'expanding', 'blessing', 'calculator', 'nebraska', 'applauded', 'responsive', 'trevornoah', 'retirement', 'brighton', 'thriving', 'percentage', 'antimalarial', 'continental', 'obligation', 'comical', 'satire', 'floors', 'congrats', 'propose', 'claire', 'appetite', 'threaten', 'busiest', 'customerservice', 'cops', 'coronaviruscrisis', 'drought', 'magecart', 'fisher', 'allied', 'partnering', 'scottish', 'downgraded', 'retired', 'lupus', 'hydroxychloroquine', 'speculation', 'stopit', 'cloths', 'tens', 'greeter', 'homework', 'prohibited', 'growyourown', 'dnc', 'lighting', 'lawn', 'reflection', 'hacks', 'unwanted', 'installing', 'quaratineandchill', 'directors', 'invaluable', 'responder', 'respectively', 'cop', 'licence', 'superstore', 'tower', 'shakes', 'riverside', 'hq', 'undeniable', 'togetherwecan', 'senatorloeffler', 'ss', 'illustration', 'ht', 'hotlines', 'cultural', 'substantial', 'asx', 'gauge', 'motivation', 'matthancock', 'jumia', 'visual', 'adviser', 'flooded', 'jefferson', 'invade', 'backed', 'epa', 'prioritized', 'coronavirusinnigeria', 'santizer', 'thick', 'encouragement', 'vision', 'nab', 'stone', 'mankind', 'intensive', 'prank', 'mcorkery', 'yaffebellany', 'rachelwharton', 'champions', 'james', 'automated', 'arrange', 'whichever', 'badge', 'journeys', 'yyc', 'karen', 'calockdown', 'tighter', 'casually', 'undermining', 'crop', 'booth', 'precisely', 'challenged', 'leaning', 'puertorico', 'distinct', 'incompetent', 'trumpmeltdown', 'canadacovid', 'gown', 'bothering', 'unbelievably', 'ac', 'foodie', 'rum', 'trap', 'festivals', 'shield', 'douglas', 'internationaldayofhappiness', 'behavioural', 'core', 'cor', 'disregard', 'garylineker', 'kungflu', 'remembered', 'sentiments', 'contacts', 'cooperatives', 'eliminating', 'touchscreens', 'delighted', 'antiseptic', 'overcrowded', 'sliding', 'codvid', 'malawi', 'isopropyl', 'experian', 'bookstores', 'bcoz', 'overpricing', 'branded', 'rot', 'liked', 'renewal', 'measured', 'migrants', 'globalization', 'cooper', 'investigating', 'tradingstandards', 'makeshift', 'cocoa', 'inclusive', 'adopted', 'heat', 'victory', 'globaldata', 'hannaford', 'rioting', 'chosen', 'drfauci', 'aerosol', 'exceptional', 'arrests', 'applicable', 'jane', 'mg', 'workouts', 'additive', 'propertymarket', 'genz', 'horizon', 'overcharging', 'unfairly', 'ore', 'award', 'apologise', 'grofers', 'matched', 'nigerian', 'unprepared', 'climbing', 'competing', 'wit', 'hmu', 'governortomwolf', 'bullet', 'bbcpolitics', 'usps', 'intense', 'toss', 'echo', 'argos', 'dash', 'salvation', 'accepted', 'essentialservices', 'ordinary', 'peaked', 'smell', 'simon', 'romance', 'beneath', 'coronastopkarona', 'warehousing', 'toiletpapergate', 'snake', 'subsides', 'tri', 'clapping', 'benice', 'coronavirusinsouthafrica', 'argues', 'cheque', 'paramedic', 'roast', 'quadrupled', 'jkenney', 'limbo', 'intentionally', 'distraction', 'volunteering', 'remarkable', 'exit', 'ge', 'trillions', 'beresponsible', 'sometime', 'browsing', 'libya', 'essentialworkers', 'stayhomesavelives', 'abdul', 'oblivious', 'operated', 'involve', 'recycled', 'piers', 'safeguards', 'cycles', 'fairer', 'recap', 'naps', 'pune', 'throng', 'sued', 'sth', 'loud', 'cabinfever', 'homebuyers', 'reforms', 'embracing', 'citizensadvice', 'insecure', 'dal', 'accessing', 'spices', 'preston', 'washhands', 'distressed', 'inflatable', 'crops', 'lamb', 'bbcwatchdog', 'dailymail', 'christchurch', 'mtn', 'foodsupply', 'haircut', 'academy', 'etiquette', 'plug', 'spotify', 'cotton', 'pinch', 'livid', 'fork', 'poo', 'ear', 'sustaining', 'dean', 'upgrading', 'ugandans', 'represent', 'southampton', 'gmail', 'efficiently', 'boat', 'expectation', 'peaceful', 'fifty', 'modelling', 'bloomberg', 'lockout', 'refinery', 'klopapier', 'vilas', 'permission', 'doomed', 'newyorkstateag', 'forecasting', 'capabilities', 'radically', 'lpg', 'cylinders', 'dominicraab', 'nada', 'stabilizes', 'coat', 'dhscgovuk', 'witnessing', 'atms', 'artist', 'gran', 'bcs', 'teenage', 'ish', 'sits', 'bopis', 'modest', 'readily', 'avengers', 'cmomaharashtra', 'officeofut', 'transformed', 'fare', 'component', 'feds', 'stayhomestaysafe', 'flushable', 'refrigerators', 'gates', 'itch', 'reductions', 'cheering', 'boxed', 'fixes', 'boutiques', 'confront', 'sharply', 'yay', 'memories', 'distress', 'nicolasturgeon', 'mbs', 'bbcworld', 'mtnza', 'interests', 'houseprices', 'retreats', 'hemp', 'fdic', 'heartbroken', 'spreaker', 'pictured', 'servants', 'inches', 'preferred', 'supporter', 'queens', 'kick', 'glasgow', 'comp', 'practiced', 'lineups', 'junior', 'whiskey', 'equal', 'resin', 'handmade', 'staggered', 'reviewing', 'uniform', 'lawsuit', 'troops', 'disneyland', 'corruption', 'brewing', 'pessimism', 'firing', 'color', 'milan', 'spar', 'generosity', 'dey', 'appearance', 'defer', 'tenants', 'dreading', 'documents', 'dementia', 'pg', 'suppress', 'coronacrisisuk', 'rupees', 'deciding', 'drains', 'bridge', 'disconnected', 'confirms', 'repair', 'racine', 'bitches', 'saturdaythoughts', 'saturdaymorning', 'considerable', 'coronachainscare', 'fought', 'jnj', 'apr', 'rewards', 'ncov', 'toiletpaperchallenge', 'ratio', 'nhscovidheroes', 'rm', 'dads', 'switches', 'bengal', 'mtnng', 'thereby', 'instantly', 'ruin', 'offenders', 'anna', 'damascus', 'salman', 'separated', 'mco', 'shorter', 'lakhs', 'provinces', 'manutd', 'mancity', 'parasites', 'wwe', 'taobao', 'robbing', 'titles', 'flash', 'mckinsey', 'dent', 'polls', 'coronavirusinkenya', 'abhabhattarai', 'hints', 'turkish', 'joggers', 'buybacks', 'poetry', 'quaratinelife', 'saliva', 'maths', 'arrival', 'nih', 'integrity', 'distant', 'husbands', 'discovering', 'quarantineactivities', 'organized', 'renters', 'tightly', 'lifebuoy', 'jai', 'auction', 'bathrooms', 'sec', 'relaxed', 'lengths', 'poorer', 'chilling', 'tricks', 'memorial', 'pushback', 'consultant', 'bangalore', 'kenney', 'expendable', 'cater', 'explosion', 'rocked', 'mixing', 'correctly', 'android', 'stopandshop', 'extras', 'regulating', 'checkerssa', 'leasing', 'relaxing', 'ghanaians', 'agric', 'writingcommunity', 'saturdaymotivation', 'rbc', 'capitalists', 'generational', 'nationals', 'ye', 'jackpot', 'matatus', 'covidiot', 'attorneys', 'mountains', 'clueless', 'statistic', 'socialmedia', 'vinyl', 'input', 'buylocal', 'insa', 'scarves', 'mu', 'govrondesantis', 'postmates', 'salem', 'hobby', 'infrared', 'japanese', 'stakes', 'liter', 'deny', 'deflationary', 'sisters', 'supportlocalbusiness', 'burgers', 'sigh', 'globalpandemic', 'deflation', 'september', 'inviting', 'halloween', 'adhere', 'irl', 'spaced', 'betting', 'stresses', 'lobbying', 'seriousness', 'mistakes', 'blossom', 'guides', 'savers', 'undervalued', 'owen', 'accidental', 'easiest', 'foolish', 'obtain', 'secs', 'belgian', 'trumpliespeopledie', 'unimaginable', 'parody', 'hammering', 'silence', 'racing', 'quotes', 'outing', 'conflict', 'integrated', 'horribly', 'chinaliedandpeopledied', 'picnic', 'revoked', 'beverly', 'survivors', 'mechanism', 'description', 'sums', 'greenwich', 'propublica', 'sue', 'onwards', 'weakens', 'crossed', 'generate', 'clapforourcarers', 'pity', 'comms', 'drunk', 'hosted', 'discard', 'governorva', 'competitors', 'licks', 'violating', 'dankmeme', 'dankmemes', 'coronapandemic', 'peddling', 'checkers', 'reassess', 'kirana', 'meditation', 'gambling', 'jharkhand', 'bazar', 'economiccrisis', 'ratings', 'offerings', 'jewelosco', 'dancing', 'annually', 'debenhams', 'toiletpaperwars', 'separately', 'combo', 'emerged', 'unaware', 'shaping', 'si', 'subsidy', 'principles', 'jolly', 'hv', 'panama', 'pete', 'vanpoli', 'importer', 'exposes', 'purposely', 'bowl', 'snapchat', 'trustworthy', 'ramps', 'veterans', 'quaratine', 'acquisition', 'posing', 'sprays', 'gravity', 'scientist', 'smes', 'thai', 'baltimore', 'vera', 'sms', 'handful', 'housekeeping', 'adventure', 'auchan', 'yemen', 'coordination', 'chop', 'vodafoneuk', 'defence', 'interstate', 'glimpse', 'telanganacmo', 'telangana', 'ditch', 'naivas', 'fisheries', 'lowers', 'preserve', 'moh', 'leverage', 'markings', 'terror', 'senschumer', 'cereals', 'karachi', 'jay', 'maskshortage', 'samsung', 'shields', 'indiafightcorona', 'connecticut', 'contractors', 'reacts', 'rallied', 'barr', 'blessings', 'dorset', 'lockdownuknow', 'ccpvirus', 'samsclub', 'fracking', 'croozefmnews', 'hs', 'ncdcgov', 'jidesanwoolu', 'miners', 'covidiots', 'savlon', 'gouged', 'reuse', 'abide', 'drain', 'karnataka', 'ksa', 'belongs', 'bbq', 'pleads', 'obsessed', 'anheuser', 'busch', 'kagutamuseveni', 'evicted', 'decreasing', 'stickers', 'pvt', 'ibadan', 'tees', 'handshake', 'lavender', 'sundaythoughts', 'gowns', 'distilling', 'maize', 'payroll', 'procurement', 'dual', 'aceng', 'squares', 'pride', 'spicy', 'xbox', 'tamil', 'rub', 'qatarairways', 'sin', 'condo', 'nanny', 'starmer', 'skin', 'antitrust', 'sewing', 'popularity', 'stats', 'simultaneous', 'theyre', 'aloe', 'statues', 'dwnews', 'holidaymakers', 'harrow', 'troy', 'footfall', 'sup', 'dot', 'coronaaustralia', 'calculate', 'accessibility', 'papa', 'reprieve', 'maine', 'discrimination', 'advent', 'stayathomesavelives', 'shoponline', 'affluent', 'wegmans', 'witch', 'preferences', 'livestock', 'itc', 'mirza', 'clientele', 'asparagus', 'betty', 'junkie', 'nairobi', 'prod', 'jacindaardern', 'pipeline', 'intensifies', 'sundaymorning', 'rightfully', 'waterstones', 'medics', 'basement', 'smartphone', 'wey', 'mississauga', 'salon', 'troubles', 'lobster', 'lockdownsouthafrica', 'jeffreestar', 'divorce', 'pivoted', 'fart', 'lion', 'coronaupdate', 'npdgroup', 'scent', 'uv', 'ultra', 'sterilizer', 'sticker', 'magnitude', 'peril', 'jimmyfallon', 'bsybjp', 'essay', 'yup', 'understood', 'famine', 'destroys', 'daunt', 'trickle', 'protectionism', 'inspection', 'disposal', 'mechanisms', 'virologist', 'tied', 'cartel', 'surgeon', 'wetherspoon', 'rogers', 'spgmarketintel', 'equipments', 'kazakhstan', 'plumbing', 'orleans', 'shielding', 'fishermen', 'profiles', 'consecutive', 'wider', 'sears', 'cleanse', 'coronaviruslockdown', 'portions', 'moisturizing', 'diamonds', 'tall', 'bundle', 'voter', 'forest', 'carol', 'rex', 'drank', 'simpler', 'doj', 'liters', 'museums', 'rig', 'tpci', 'mondaythoughts', 'lockdownnz', 'bumper', 'mla', 'hemantsorenjmm', 'continuously', 'zambia', 'sara', 'layers', 'forrester', 'tito', 'reshaping', 'lockdownnow', 'lands', 'recessions', 'covididiots', 'speedy', 'wfp', 'infra', 'sheffield', 'josh', 'totallockdown', 'rife', 'northam', 'stayathomeorder', 'mondaymorning', 'thinkwithgoogle', 'litres', 'antonio', 'commercials', 'chad', 'mia', 'raging', 'achieved', 'disrupts', 'enrollment', 'lockdownsa', 'coimbatore', 'insulin', 'washhand', 'docs', 'shs', 'olympics', 'ont', 'agbecerra', 'tipped', 'deforestation', 'pummeled', 'sticky', 'cdt', 'miracle', 'teeth', 'hydcitypolice', 'covididiot', 'cdnecon', 'filters', 'outreach', 'engine', 'diff', 'moreover', 'furlough', 'align', 'geopolitical', 'ol', 'mondaymotivaton', 'dubbed', 'scores', 'mondaymood', 'consumerbehaviour', 'certification', 'housewares', 'homeworld', 'infused', 'clinical', 'clippers', 'contest', 'hog', 'mitch', 'claimed', 'hotspots', 'hunter', 'miserable', 'respondents', 'landlord', 'maxwell', 'tutorial', 'postage', 'covidactnow', 'propping', 'hyd', 'nclc', 'profs', 'stakeholders', 'gmt', 'drawings', 'bearish', 'disastrous', 'initially', 'licensed', 'nh', 'onlinemarketing', 'versova', 'defraud', 'km', 'pivot', 'dakota', 'pooping', 'flags', 'arkansas', 'improving', 'invention', 'foodwaste', 'ccp', 'browse', 'liquids', 'chevron', 'museveni', 'narendra', 'kim', 'warrenton', 'cody', 'outer', 'violations', 'retreat', 'souls', 'gianteagle', 'boycottsportsdirect', 'nancy', 'daca', 'capture', 'telecommunications', 'emirates', 'emotions', 'factbox', 'electrical', 'coronapandemie', 'phosphate', 'didiza', 'lynn', 'sealed', 'comparison', 'cfa', 'tee', 'payouts', 'crushes', 'amenities', 'forbearance', 'cargill', 'agrisa', 'proactively', 'dia', 'thecounter', 'correlation', 'skincare', 'attended', 'indialockdown', 'terroristic', 'indicated', 'crown', 'sharpest', 'reopening', 'printer', 'nzherald', 'incentives', 'conquer', 'bahrain', 'sportsdirectuk', 'flout', 'sorting', 'overcoming', 'desires', 'weakening', 'compares', 'strains', 'activist', 'gofundme', 'staysafeug', 'dayslockdown', 'furloughed', 'thenewnormal', 'monopolies', 'experiment', 'recreation', 'boats', 'bases', 'allen', 'slaps', 'amazonsmile', 'registration', 'aapl', 'ironically', 'strategist', 'gartner', 'curbs', 'emi', 'quiz', 'coordinating', 'bicycles', 'disappearing', 'psychologist', 'delicate', 'holder', 'enfield', 'battles', 'ncdc', 'esg', 'trumpliesamericansdie', 'saharan', 'simulation', 'coronaviruslockdownuk', 'wings', 'daylockdown', 'waitlist', 'greek', 'mena', 'speaker', 'galway', 'dumping', 'doorknobs', 'dth', 'nearing', 'tattoo', 'sheriff', 'napa', 'falcone', 'rotorua', 'beekeeping', 'ethiopia', 'denatured', 'redistribute', 'pivots', 'importers', 'perceived', 'mol', 'vaping', 'poland', 'spacex', 'retailweek', 'qu', 'consistency', 'sunbathing', 'developers', 'ftcscambingo', 'converts', 'draw', 'packers', 'hammered', 'roundtable', 'cornell', 'shaped', 'pi', 'complained', 'acc', 'weareallinthistogether', 'eases', 'skyrockets', 'alleging', 'cycleways', 'pedestrian', 'overview', 'yield', 'assam', 'remodels', 'compounding', 'expertise', 'designation', 'thankyounhs', 'financing', 'easyfundraising', 'extensions', 'iot', 'baseline', 'complexity', 'accusations', 'eased', 'bankruptcies', 'graphics', 'trumppressconf', 'sykescottages', 'instruct', 'ndtv', 'stones', 'healthcareheroes', 'propylene', 'advisors', 'realty', 'remarks', 'invading', 'cited', 'slight', 'moderate', 'heights', 'mgvcl', 'withdraws', 'volunteered', 'filtration', 'mrjamesob', 'mitigating', 'twisted', 'emergesmarter', 'fairprice', 'makinde', 'kiwis', 'restoring', 'costume', 'fri', 'reject', 'policing', 'coronavillains', 'policymakers', 'compelling', 'infographic', 'payday', 'accident', 'purposefully', 'clapforcarers', 'krg', 'clapforthenhs', 'louise', 'nightclub', 'coronalockdown', 'illustrates', 'flip', 'huntsman', 'complimentary', 'ilorin', 'raymond', 'historically', 'wearamask', 'healthtips', 'seanhannity', 'uncover', 'cerb', 'norms', 'isolationlife', 'feud', 'asleep', 'boycottvodafone', 'coronalockdownuk', 'protesting', 'doorsteps', 'puzzles', 'corrected', 'stayathomeandstaysafe', 'explodes', 'analyzed', 'kpmg', 'sovereign', 'fca', 'scrambled', 'harmed', 'coronavirustruth', 'labeling', 'slips', 'faulty', 'harper', 'caresact', 'threeuk', 'dole', 'violated', 'cuny', 'exxon', 'peterpsquare', 'surpass', 'reacted', 'furloughing', 'sterile', 'restart', 'beatcovid', 'cartels', 'socioeconomic', 'consultancy', 'contractions', 'ahmed', 'lumber', 'upbeat', 'truce', 'zoomupyourlife', 'pmi', 'foodprices', 'guinea', 'clapforkeyworkers', 'lilly', 'bpd', 'elmhurst', 'trumppressbriefing', 'protests', 'rapaport', 'crumbled', 'parallel', 'clues', 'superpower', 'recruited', 'redistribution', 'apnea', 'lighter', 'detroit', 'grandparent', 'coverings', 'soy', 'tuckercarlson', 'oflockdown', 'gdcampaigns', 'skimming', 'swings', 'naturalgas', 'alter', 'adverse', 'kmart', 'interestingly', 'protectthenhs', 'lungs', 'negotiating', 'imposter', 'incarcerated', 'arrows', 'fitch', 'flaws', 'profitable', 'bands', 'onlineclasses', 'bajaj', 'rahulgandhi', 'transported', 'vodafonegroup', 'moredays', 'pudding', 'pavement', 'quarantinediaries', 'adoting', 'ayurved', 'deferrals', 'wena', 'mylan', 'fractured', 'turnip', 'pent', 'coordinator', 'ruby', 'princess', 'palm', 'losers', 'markup', 'cougher', 'palmsunday', 'kaikohe', 'bridport', 'lockdowneffect', 'jenkins', 'gcc', 'exxonmobil', 'novartis', 'tracks', 'ppv', 'ios', 'largo', 'leilani', 'scarsdale', 'doubts', 'allstate', 'tariff', 'engines', 'lacs', 'cong', 'militias', 'boc', 'irs', 'txsu', 'theater', 'contestalert', 'distributions', 'tiger', 'andme', 'deb', 'canibrands', 'lens', 'rewrote', 'worldhealthday', 'dha', 'wtop', 'tata', 'christianity', 'gambia', 'stagnant', 'halifax', 'refuge', 'vending', 'mikequindazzi', 'secrecy', 'suppresses', 'tunnel', 'recalls', 'lockdownextension', 'waiver', 'bedevils', 'catapulted', 'smithfield', 'unruly', 'foodsystems', 'affiliate', 'espionage', 'particles', 'ssupnow', 'giveawayalert', 'canon', 'canonforcommunity', 'retaildive', 'kolonya', 'easterbunny', 'easterweekend', 'stayhomesavelifes', 'reasi', 'runwalofficial', 'eastersunday', 'jimmy', 'jasoosshow', 'happyeaster', 'ahmedabad', 'reduceinternetprices', 'quiroga']\n"
          ]
        }
      ]
    },
    {
      "cell_type": "code",
      "source": [
        "print(len(words))"
      ],
      "metadata": {
        "colab": {
          "base_uri": "https://localhost:8080/"
        },
        "id": "ShNxt4qfYuNk",
        "outputId": "63749a5d-6713-42c1-fd70-7429de21a20d"
      },
      "execution_count": null,
      "outputs": [
        {
          "output_type": "stream",
          "name": "stdout",
          "text": [
            "10630\n"
          ]
        }
      ]
    },
    {
      "cell_type": "markdown",
      "source": [
        "Finding the embedding of a given word can be useful when we’re trying to represent sentences as a collection of word embeddings, like when we’re trying to make a weight matrix for the embedding layer of a network."
      ],
      "metadata": {
        "id": "BM809WQbb3Qb"
      }
    },
    {
      "cell_type": "code",
      "source": [
        "print( w2v.wv['computer'] )"
      ],
      "metadata": {
        "colab": {
          "base_uri": "https://localhost:8080/"
        },
        "id": "hyHInX6agJO2",
        "outputId": "1c30f9e3-a9d2-4a8b-9a33-13e5e557129a"
      },
      "execution_count": null,
      "outputs": [
        {
          "output_type": "stream",
          "name": "stdout",
          "text": [
            "[ 1.57469660e-01  1.40157074e-01 -3.25907797e-01 -6.61702231e-02\n",
            "  3.14891905e-01  6.28795177e-02 -4.47840840e-02  4.59685735e-02\n",
            "  2.28131562e-02  2.39715233e-01  2.16640569e-02  7.56994933e-02\n",
            "  7.25479275e-02 -2.12595508e-01 -3.17018256e-02  1.75617978e-01\n",
            "  1.16614237e-01  1.87761128e-01 -5.23434877e-02  1.26436412e-01\n",
            "  1.70193449e-01 -1.07564844e-01  7.81135038e-02  2.12555289e-01\n",
            " -5.70309162e-02  9.05565321e-02 -1.88474759e-01  9.64211822e-02\n",
            "  3.91710252e-02 -1.95013254e-03 -3.80934596e-01  2.09646896e-01\n",
            " -9.98702249e-04  9.41597596e-02 -1.42464504e-01 -1.65631194e-02\n",
            " -7.55091384e-02  8.67938846e-02  1.08608618e-01  4.55869362e-02\n",
            "  4.33201902e-02  1.76215306e-01 -5.83453756e-03 -2.22821414e-01\n",
            "  1.07587561e-01 -2.81930178e-01  9.92109030e-02  5.60606346e-02\n",
            " -1.21222138e-01 -2.12018788e-01  4.72052723e-01 -3.12591828e-02\n",
            " -5.42412922e-02 -7.44261965e-02  3.52113754e-01 -1.90538943e-01\n",
            " -7.09711239e-02  1.26500160e-01 -8.27063695e-02 -2.49383450e-01\n",
            "  3.60160917e-01 -4.97583784e-02  1.39887974e-01  6.15979731e-02\n",
            " -2.80842483e-01 -2.78978139e-01  1.32049369e-02  1.59579322e-01\n",
            " -9.90456715e-02 -1.41615823e-01  2.03401580e-01  3.06724429e-01\n",
            "  8.00921768e-02  1.03146449e-01 -1.84937827e-02 -1.72093600e-01\n",
            " -5.00345118e-02 -2.73426086e-01 -1.09151237e-01 -2.43122593e-01\n",
            "  4.89120372e-02 -2.03040734e-04  2.16287613e-01 -3.27757820e-02\n",
            "  2.49404564e-01 -1.49146728e-02  2.37480059e-01 -3.74893248e-02\n",
            "  2.34831229e-01 -2.00750634e-01 -4.97181853e-03  1.14014670e-02\n",
            "  1.63772311e-02 -1.84596679e-03  3.10765058e-01  3.27039659e-02\n",
            " -7.81936795e-02 -1.61034450e-01  3.56368750e-01  4.25313175e-01]\n"
          ]
        }
      ]
    },
    {
      "cell_type": "markdown",
      "source": [
        "We can also find out the similarity between given words (the cosine distance between their vectors)."
      ],
      "metadata": {
        "id": "AO2SKrUqcQiY"
      }
    },
    {
      "cell_type": "code",
      "source": [
        "w2v.wv.similarity('vladimir', 'putin')"
      ],
      "metadata": {
        "colab": {
          "base_uri": "https://localhost:8080/"
        },
        "id": "JEpYSU0UskQE",
        "outputId": "af9a8cd1-351a-46a9-fbba-52afff9c10a3"
      },
      "execution_count": null,
      "outputs": [
        {
          "output_type": "execute_result",
          "data": {
            "text/plain": [
              "0.81842446"
            ]
          },
          "metadata": {},
          "execution_count": 12
        }
      ]
    },
    {
      "cell_type": "code",
      "source": [
        "w2v.wv.similarity('vladimir', 'modi')"
      ],
      "metadata": {
        "colab": {
          "base_uri": "https://localhost:8080/"
        },
        "id": "nmDQim-TswgY",
        "outputId": "f14c0c64-18fa-4cab-ca06-8a8b78139d1d"
      },
      "execution_count": null,
      "outputs": [
        {
          "output_type": "execute_result",
          "data": {
            "text/plain": [
              "0.6622772"
            ]
          },
          "metadata": {},
          "execution_count": 13
        }
      ]
    },
    {
      "cell_type": "markdown",
      "source": [
        "With the gensim, we can also find the most similar words to a given word."
      ],
      "metadata": {
        "id": "k7DftVIvca5Q"
      }
    },
    {
      "cell_type": "code",
      "source": [
        "print(w2v.wv.most_similar('pay'))"
      ],
      "metadata": {
        "colab": {
          "base_uri": "https://localhost:8080/"
        },
        "id": "MVNGUQbtf2ub",
        "outputId": "d5954546-653c-4436-f532-bf23c0d36cf5"
      },
      "execution_count": null,
      "outputs": [
        {
          "output_type": "stream",
          "name": "stdout",
          "text": [
            "[('paying', 0.7022949457168579), ('paid', 0.686174213886261), ('wages', 0.6507245898246765), ('bills', 0.6483527421951294), ('receive', 0.6030805110931396), ('leave', 0.6017082333564758), ('raise', 0.5998932123184204), ('rent', 0.594900369644165), ('wage', 0.569133996963501), ('benefits', 0.5625671148300171)]\n"
          ]
        }
      ]
    },
    {
      "cell_type": "code",
      "source": [
        "print(w2v.wv.most_similar('covid'))"
      ],
      "metadata": {
        "colab": {
          "base_uri": "https://localhost:8080/"
        },
        "id": "g_gJak11cvSU",
        "outputId": "62019d5a-1276-40c7-8bd9-1b5957fd4ad1"
      },
      "execution_count": null,
      "outputs": [
        {
          "output_type": "stream",
          "name": "stdout",
          "text": [
            "[('coronavirus', 0.6034492254257202), ('virus', 0.5288746953010559), ('corona', 0.5067222118377686), ('disease', 0.47963017225265503), ('coronacrisis', 0.4596719741821289), ('epidemic', 0.4517126977443695), ('coronavirusindia', 0.45097070932388306), ('flattenthecurve', 0.4467395842075348), ('coronaviruschallenge', 0.44602638483047485), ('corvid', 0.44361186027526855)]\n"
          ]
        }
      ]
    },
    {
      "cell_type": "code",
      "source": [
        "print(w2v.wv.most_similar('india'))"
      ],
      "metadata": {
        "colab": {
          "base_uri": "https://localhost:8080/"
        },
        "id": "RbX2SQUMcxQ6",
        "outputId": "6ecfb397-39d8-483f-c624-44f0b66726a3"
      },
      "execution_count": null,
      "outputs": [
        {
          "output_type": "stream",
          "name": "stdout",
          "text": [
            "[('nigeria', 0.7527592182159424), ('pakistan', 0.7506697177886963), ('kenya', 0.6827074885368347), ('amitshah', 0.6763262748718262), ('odisha', 0.6750248670578003), ('iran', 0.6640534400939941), ('drharshvardhan', 0.6618179082870483), ('irvpaswan', 0.6575825214385986), ('kuwait', 0.6487914323806763), ('pmoindia', 0.6474971175193787)]\n"
          ]
        }
      ]
    },
    {
      "cell_type": "markdown",
      "source": [
        "Similarly, we can use the same function to find analogies of the form: if x:y, then z:?. Here we enter the known relation x,y in the positive parameter, and the term who’s analogy has to be found in the negative parameter."
      ],
      "metadata": {
        "id": "GB4pamDxcfiZ"
      }
    },
    {
      "cell_type": "code",
      "source": [
        "print(w2v.wv.most_similar(positive=['russian', 'russia'], negative=['arab']))"
      ],
      "metadata": {
        "colab": {
          "base_uri": "https://localhost:8080/"
        },
        "id": "hF7gMd3mpwls",
        "outputId": "c5c3d132-1be5-4310-b956-02a4dcdf84d6"
      },
      "execution_count": null,
      "outputs": [
        {
          "output_type": "stream",
          "name": "stdout",
          "text": [
            "[('saudi', 0.7981306314468384), ('arabia', 0.773565411567688), ('putin', 0.7352633476257324), ('opec', 0.7199183702468872), ('trump', 0.7061201333999634), ('iran', 0.6621144413948059), ('saudis', 0.635714590549469), ('war', 0.622955322265625), ('donald', 0.6209783554077148), ('mbs', 0.6009782552719116)]\n"
          ]
        }
      ]
    },
    {
      "cell_type": "markdown",
      "source": [
        "We also have this method which works similar to an \"odd one out\" situation."
      ],
      "metadata": {
        "id": "oTQSJlPmiQ8E"
      }
    },
    {
      "cell_type": "code",
      "source": [
        "w2v.wv.doesnt_match(['grocery', 'covid', 'coronavirus'])\n"
      ],
      "metadata": {
        "id": "hlOpVQ1wV2hp",
        "colab": {
          "base_uri": "https://localhost:8080/",
          "height": 91
        },
        "outputId": "7e64373e-6d79-4ed5-8ccb-bafccd844b3d"
      },
      "execution_count": null,
      "outputs": [
        {
          "output_type": "stream",
          "name": "stderr",
          "text": [
            "/usr/local/lib/python3.7/dist-packages/gensim/models/keyedvectors.py:895: FutureWarning: arrays to stack must be passed as a \"sequence\" type such as list or tuple. Support for non-sequence iterables such as generators is deprecated as of NumPy 1.16 and will raise an error in the future.\n",
            "  vectors = vstack(self.word_vec(word, use_norm=True) for word in used_words).astype(REAL)\n"
          ]
        },
        {
          "output_type": "execute_result",
          "data": {
            "application/vnd.google.colaboratory.intrinsic+json": {
              "type": "string"
            },
            "text/plain": [
              "'grocery'"
            ]
          },
          "metadata": {},
          "execution_count": 18
        }
      ]
    },
    {
      "cell_type": "markdown",
      "source": [
        "## Visualising word vectors"
      ],
      "metadata": {
        "id": "uAI1BtondhOM"
      }
    },
    {
      "cell_type": "markdown",
      "source": [
        "Word2Vec word embedding can usually be of sizes 100 or 300, and it is practically not possible to visualise a 300 or 100 dimensional space with meaningful outputs. I used this [snippet](http://web.stanford.edu/class/cs224n/materials/Gensim%20word%20vector%20visualization.html) from [Stanford’s 224n course site](http://web.stanford.edu/class/cs224n/index.html#schedule), which basically provides you the option of either using a list of words, or providing the number of random samples you want to be displayed. In either case, it uses PCA to reduce the dimensionality and represent the word through their vectors on a 2-dimensional plane. The actual values of the axis are not of concern as they do not hold any significance, rather we can use it to perceive similar vectors to be densely located with respect to each other.\n"
      ],
      "metadata": {
        "id": "ah3KK1ABc8YZ"
      }
    },
    {
      "cell_type": "code",
      "source": [
        "from sklearn.decomposition import PCA\n",
        "from sklearn.manifold import TSNE\n",
        "\n",
        "def display_pca_scatterplot(model, words=None, sample=0):\n",
        "    if words == None:\n",
        "        if sample > 0:\n",
        "            words = np.random.choice(list(model.vocab.keys()), sample)\n",
        "        else:\n",
        "            words = [ word for word in model.vocab ]\n",
        "\n",
        "    word_vectors = np.array([model[w] for w in words])\n",
        "\n",
        "    twodim = PCA().fit_transform(word_vectors)[:,:2]\n",
        "\n",
        "    plt.figure(figsize=(6,6))\n",
        "    plt.scatter(twodim[:,0], twodim[:,1], edgecolors='k', c='r')\n",
        "    for word, (x,y) in zip(words, twodim):\n",
        "        plt.text(x+0.05, y+0.05, word)"
      ],
      "metadata": {
        "id": "0QLtf1sXVBdK"
      },
      "execution_count": null,
      "outputs": []
    },
    {
      "cell_type": "code",
      "source": [
        "display_pca_scatterplot(w2v,['coronavirus', 'covid', 'virus', 'corona','disease', 'saudiarabia',  'doctor', 'hospital', 'pakistan', 'kenya',\n",
        "                             'pay', 'paying', 'paid', 'wages', 'raise', 'bills', 'rent', 'charge']  )"
      ],
      "metadata": {
        "colab": {
          "base_uri": "https://localhost:8080/",
          "height": 408
        },
        "id": "-chXmtjNVNbz",
        "outputId": "21044141-a984-4d77-ade1-d782c2c6da96"
      },
      "execution_count": null,
      "outputs": [
        {
          "output_type": "stream",
          "name": "stderr",
          "text": [
            "/usr/local/lib/python3.7/dist-packages/ipykernel_launcher.py:11: DeprecationWarning: Call to deprecated `__getitem__` (Method will be removed in 4.0.0, use self.wv.__getitem__() instead).\n",
            "  # This is added back by InteractiveShellApp.init_path()\n"
          ]
        },
        {
          "output_type": "display_data",
          "data": {
            "image/png": "[encoded data removed]",
            "text/plain": [
              "<Figure size 432x432 with 1 Axes>"
            ]
          },
          "metadata": {
            "needs_background": "light"
          }
        }
      ]
    },
    {
      "cell_type": "markdown",
      "source": [
        "## Exporting pre trained embeddings + Saving/Loading our model"
      ],
      "metadata": {
        "id": "nI3E1N_BcrHp"
      }
    },
    {
      "cell_type": "markdown",
      "source": [
        "Gensim comes with several already pre-trained models, in the Gensim-data repository. We can import the downloader from the gensim library. We can use the following method to print the list of pre-trained models trained on large datasets available to us. This also  includes models like GloVe and fastext other than word2vec.\n",
        "\n"
      ],
      "metadata": {
        "id": "LeFWtrS_jh99"
      }
    },
    {
      "cell_type": "code",
      "source": [
        "import gensim.downloader\n",
        "print(list(gensim.downloader.info()['models'].keys()))\n"
      ],
      "metadata": {
        "id": "jeQ6sNXdnjgZ",
        "colab": {
          "base_uri": "https://localhost:8080/"
        },
        "outputId": "f44457d1-db7d-4a0b-a27a-479651193d58"
      },
      "execution_count": null,
      "outputs": [
        {
          "output_type": "stream",
          "name": "stdout",
          "text": [
            "['fasttext-wiki-news-subwords-300', 'conceptnet-numberbatch-17-06-300', 'word2vec-ruscorpora-300', 'word2vec-google-news-300', 'glove-wiki-gigaword-50', 'glove-wiki-gigaword-100', 'glove-wiki-gigaword-200', 'glove-wiki-gigaword-300', 'glove-twitter-25', 'glove-twitter-50', 'glove-twitter-100', 'glove-twitter-200', '__testing_word2vec-matrix-synopsis']\n"
          ]
        }
      ]
    },
    {
      "cell_type": "markdown",
      "source": [
        "Here we have used  'word2vec-google-news-300' (trained on google-news, size is 300), and found words similar to ‘twitter’."
      ],
      "metadata": {
        "id": "8a10LjhUjmYl"
      }
    },
    {
      "cell_type": "code",
      "source": [
        "google_news = gensim.downloader.load('word2vec-google-news-300')\n",
        "google_news.most_similar('twitter')"
      ],
      "metadata": {
        "id": "7kjdQXzgdzQs",
        "colab": {
          "base_uri": "https://localhost:8080/"
        },
        "outputId": "d129a82c-3f63-48df-ae6d-d80766c97323"
      },
      "execution_count": null,
      "outputs": [
        {
          "output_type": "stream",
          "name": "stdout",
          "text": [
            "[==================================================] 100.0% 1662.8/1662.8MB downloaded\n"
          ]
        },
        {
          "output_type": "execute_result",
          "data": {
            "text/plain": [
              "[('Twitter', 0.89089035987854),\n",
              " ('Twitter.com', 0.7536780834197998),\n",
              " ('tweet', 0.7431625723838806),\n",
              " ('tweeting', 0.7161933183670044),\n",
              " ('tweeted', 0.7137226462364197),\n",
              " ('facebook', 0.6988551616668701),\n",
              " ('tweets', 0.6974530816078186),\n",
              " ('Tweeted', 0.6950210928916931),\n",
              " ('Tweet', 0.6875007152557373),\n",
              " ('Tweeting', 0.6845167279243469)]"
            ]
          },
          "metadata": {},
          "execution_count": 3
        }
      ]
    },
    {
      "cell_type": "markdown",
      "source": [
        "We can save our existing models and load them again.\n"
      ],
      "metadata": {
        "id": "d-l6c2JHjqBl"
      }
    },
    {
      "cell_type": "code",
      "source": [
        "w2v.save(\"word2vec.model\")"
      ],
      "metadata": {
        "id": "QJ5YKbhssWip"
      },
      "execution_count": null,
      "outputs": []
    },
    {
      "cell_type": "code",
      "source": [
        "model = Word2Vec.load(\"word2vec.model\")\n",
        "model.train([[\"hello\", \"world\"]], total_examples=1, epochs=1)\n"
      ],
      "metadata": {
        "id": "o6O0oa3DeR2Q",
        "colab": {
          "base_uri": "https://localhost:8080/"
        },
        "outputId": "89b104c1-6516-48bd-dc79-8e3eed838b7d"
      },
      "execution_count": null,
      "outputs": [
        {
          "output_type": "execute_result",
          "data": {
            "text/plain": [
              "(2, 2)"
            ]
          },
          "metadata": {},
          "execution_count": 10
        }
      ]
    }
  ]
}